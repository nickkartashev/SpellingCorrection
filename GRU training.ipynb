{
 "cells": [
  {
   "cell_type": "code",
   "execution_count": 1,
   "metadata": {},
   "outputs": [],
   "source": [
    "import requests\n",
    "import json\n",
    "\n",
    "import pymongo\n",
    "import numpy as np\n",
    "import matplotlib.pyplot as plt\n",
    "\n",
    "from time import sleep\n",
    "import re\n",
    "import torch\n",
    "import os\n",
    "from scipy.signal import stft\n",
    "import random\n",
    "import numpy as np\n",
    "import math\n",
    "import torch.nn as nn\n",
    "import torch.nn.functional as F\n",
    "import torch.optim as optim\n",
    "import itertools\n",
    "import time\n",
    "import torch.utils.data\n",
    "from torch.nn.utils.rnn import pad_sequence"
   ]
  },
  {
   "cell_type": "code",
   "execution_count": 2,
   "metadata": {},
   "outputs": [
    {
     "name": "stdout",
     "output_type": "stream",
     "text": [
      "1.4.0+cu100\n"
     ]
    }
   ],
   "source": [
    "print(torch.__version__)\n"
   ]
  },
  {
   "cell_type": "code",
   "execution_count": 3,
   "metadata": {},
   "outputs": [],
   "source": [
    "cou = 655058"
   ]
  },
  {
   "cell_type": "code",
   "execution_count": 4,
   "metadata": {},
   "outputs": [],
   "source": [
    "EOS_voc = cou + 1\n",
    "vocab_word_size = cou + 2\n",
    "max_length = 150\n",
    "teacher_forcing_p = 0.8\n",
    "max_words_c = 30\n",
    "max_word_l = 16"
   ]
  },
  {
   "cell_type": "code",
   "execution_count": 5,
   "metadata": {},
   "outputs": [],
   "source": [
    "device = torch.device(\"cuda\" if torch.cuda.is_available() else \"cpu\")\n"
   ]
  },
  {
   "cell_type": "code",
   "execution_count": 6,
   "metadata": {},
   "outputs": [
    {
     "name": "stdout",
     "output_type": "stream",
     "text": [
      "cuda\n"
     ]
    }
   ],
   "source": [
    "print(device)"
   ]
  },
  {
   "cell_type": "code",
   "execution_count": 7,
   "metadata": {},
   "outputs": [
    {
     "name": "stdout",
     "output_type": "stream",
     "text": [
      "A\n"
     ]
    }
   ],
   "source": [
    "print(\"A\")"
   ]
  },
  {
   "cell_type": "code",
   "execution_count": 8,
   "metadata": {},
   "outputs": [],
   "source": [
    "n_epochs = 10\n",
    "vec_size = 512\n",
    "vocab_ngram_size = 35\n",
    "starting_lr = 1e-3"
   ]
  },
  {
   "cell_type": "code",
   "execution_count": 9,
   "metadata": {},
   "outputs": [],
   "source": [
    "class CharGRU(nn.Module):\n",
    "    def __init__(self, hidden_size, char_vocab_size):\n",
    "        super(CharGRU, self).__init__()\n",
    "        self.gru = nn.GRU(char_vocab_size, hidden_size, batch_first=True)\n",
    "        self.mask = torch.ones((1, 1, 35))\n",
    "        self.mask[0][0][0] = 0\n",
    "        self.mask = self.mask.to(device)\n",
    "\n",
    "    def forward(self, X):\n",
    "        x_o = F.one_hot(X, num_classes=35)\n",
    "        x_o = self.mask * x_o\n",
    "        _, finstate = self.gru(x_o)\n",
    "        del _\n",
    "        return finstate"
   ]
  },
  {
   "cell_type": "code",
   "execution_count": 10,
   "metadata": {},
   "outputs": [],
   "source": [
    "class NRNN(nn.Module):\n",
    "    def __init__(self, hidden_size, char_vocab_size, output_size, n_layers=1, dropout_p=0):\n",
    "        super(NRNN, self).__init__()\n",
    "        self.hidden_size = hidden_size\n",
    "        self.chargru = CharGRU(hidden_size, char_vocab_size)\n",
    "        self.lstm = nn.GRU(hidden_size, hidden_size, num_layers=n_layers, batch_first=True, dropout=dropout_p, bidirectional=True)\n",
    "        #self.out = nn.Linear(hidden_size * 2, output_size)\n",
    "        self.out = nn.AdaptiveLogSoftmaxWithLoss(hidden_size * 2, output_size, cutoffs=[3000, 20000, 100000], div_value=4.0)\n",
    "    def forward(self, x, targets, mask):\n",
    "        X = x.view((x.shape[0] * x.shape[1], x.shape[2]))\n",
    "        X = self.chargru(X)\n",
    "        X = X.view(x.shape[:2] + (-1,))\n",
    "        lstm_outputs, _ = self.lstm(X)\n",
    "        lstm_outputs = lstm_outputs.reshape(lstm_outputs.shape[0] * lstm_outputs.shape[1], lstm_outputs.shape[2])\n",
    "        out, _ = self.out(lstm_outputs, targets)\n",
    "        #lstm_outputs = self.out(lstm_outputs)\n",
    "        #lstm_outputs = torch.view(x.shape[:2] + (-1,))\n",
    "        return -torch.sum(out * mask)\n",
    "    def predict(self, x):\n",
    "        X = x.view((x.shape[0] * x.shape[1], x.shape[2]))\n",
    "        X = self.chargru(X)\n",
    "        X = X.view(x.shape[:2] + (-1,))\n",
    "        lstm_outputs, _ = self.lstm(X)\n",
    "        lstm_outputs = lstm_outputs.reshape(lstm_outputs.shape[0] * lstm_outputs.shape[1], lstm_outputs.shape[2])\n",
    "        out = self.out.predict(lstm_outputs)\n",
    "        return out"
   ]
  },
  {
   "cell_type": "code",
   "execution_count": 11,
   "metadata": {},
   "outputs": [],
   "source": [
    "rev_dict = torch.load(\"source_files/rev_dict\")"
   ]
  },
  {
   "cell_type": "code",
   "execution_count": 12,
   "metadata": {},
   "outputs": [
    {
     "data": {
      "text/plain": [
       "1"
      ]
     },
     "execution_count": 12,
     "metadata": {},
     "output_type": "execute_result"
    }
   ],
   "source": [
    "rev_dict[EOS_voc]"
   ]
  },
  {
   "cell_type": "code",
   "execution_count": 13,
   "metadata": {},
   "outputs": [],
   "source": [
    "fileind = 12"
   ]
  },
  {
   "cell_type": "code",
   "execution_count": 14,
   "metadata": {},
   "outputs": [
    {
     "data": {
      "text/plain": [
       "512"
      ]
     },
     "execution_count": 14,
     "metadata": {},
     "output_type": "execute_result"
    }
   ],
   "source": [
    "vec_size"
   ]
  },
  {
   "cell_type": "code",
   "execution_count": 15,
   "metadata": {},
   "outputs": [],
   "source": [
    "now_lr = starting_lr / 2"
   ]
  },
  {
   "cell_type": "code",
   "execution_count": 16,
   "metadata": {},
   "outputs": [],
   "source": [
    "#model = NRNN(vec_size // 2, 35, vocab_word_size)\n",
    "model = torch.load(\"512ASmodel1layergru_epoch_3.pt\")\n",
    "#model = torch.load(\"Opposition_512ASmodel1layergru_epoch_8.pt\")"
   ]
  },
  {
   "cell_type": "code",
   "execution_count": 17,
   "metadata": {},
   "outputs": [],
   "source": [
    "file_output_b = open(\"v2_512AS_model_training_GRU1LAYER_output_batch\", \"wt\", buffering=1)\n",
    "file_output_e = open(\"v2_512AS_model_training_GRU1LAYER_output_epoch\", \"wt\", buffering=1)\n"
   ]
  },
  {
   "cell_type": "code",
   "execution_count": 18,
   "metadata": {},
   "outputs": [],
   "source": [
    "file_output_b_n = open(\"v2_512AS_model_eval_GRU1LAYER_output_batch\", \"wt\", buffering=1)\n"
   ]
  },
  {
   "cell_type": "code",
   "execution_count": 19,
   "metadata": {},
   "outputs": [],
   "source": [
    "#file_dataset_separators = open(\"dataset_separators\", \"wt\", buffering=1)"
   ]
  },
  {
   "cell_type": "code",
   "execution_count": null,
   "metadata": {},
   "outputs": [
    {
     "name": "stdout",
     "output_type": "stream",
     "text": [
      "2020-06-01 13:04:50.382324\n"
     ]
    },
    {
     "name": "stderr",
     "output_type": "stream",
     "text": [
      "/home/user1/.pyenv/versions/3.6.6/lib/python3.6/site-packages/torch/serialization.py:360: UserWarning: Couldn't retrieve source code for container of type NRNN. It won't be checked for correctness upon loading.\n",
      "  \"type \" + obj.__name__ + \". It won't be checked \"\n",
      "/home/user1/.pyenv/versions/3.6.6/lib/python3.6/site-packages/torch/serialization.py:360: UserWarning: Couldn't retrieve source code for container of type CharGRU. It won't be checked for correctness upon loading.\n",
      "  \"type \" + obj.__name__ + \". It won't be checked \"\n"
     ]
    }
   ],
   "source": [
    "import datetime\n",
    "print(datetime.datetime.now())\n",
    "\n",
    "new_batch_size = 256\n",
    "#sched = optim.lr_scheduler.CosineAnnealingLR(opt, DATA_LENGTH)\n",
    "tbegin = time.time()\n",
    "modt = 0\n",
    "test_losses_data = []\n",
    "train_losses_data = []\n",
    "for epoch in range(3, 6):\n",
    "    opt = optim.Adam(model.parameters(), lr=now_lr)\n",
    "    train_losses = []\n",
    "    test_losses = []\n",
    "    last_train_loss = 0\n",
    "    last_test_loss = 0\n",
    "    batch_n = 0\n",
    "    for file_idx in range(fileind):\n",
    "        my_data_from_file = torch.load(f\"source_files/data_1024_ixy_{file_idx}\")\n",
    "        for is_test, x1, y1 in my_data_from_file:\n",
    "            for batch_ind in range((len(y1) - 1) // new_batch_size + 1):\n",
    "                x = x1[batch_ind * new_batch_size : batch_ind * new_batch_size + new_batch_size]\n",
    "                y = y1[batch_ind * new_batch_size : batch_ind * new_batch_size + new_batch_size]\n",
    "                target = pad_sequence([torch.tensor([rev_dict[i.data.item()] for i in j]) for j in y], batch_first=True)\n",
    "                mask = (target != 0)\n",
    "                batch_n += 1\n",
    "                tt = time.time()\n",
    "                opt.zero_grad()\n",
    "                x_inp = pad_sequence(x, batch_first=True).long().to(device)\n",
    "                target_inp = target.view(-1).to(device)\n",
    "                maskinp = mask.view(-1).to(device)\n",
    "                loss = model(x_inp, target_inp, maskinp)\n",
    "                if (is_test == 0):\n",
    "                    loss.backward()\n",
    "                    opt.step()\n",
    "                    del x_inp\n",
    "                    del target_inp\n",
    "                    train_losses.append(loss.data.item() / torch.sum(maskinp).data.item())\n",
    "                    train_losses_data.append(loss.data.item() / torch.sum(maskinp).data.item())\n",
    "                    del maskinp\n",
    "                else:\n",
    "                    del x_inp\n",
    "                    del target_inp\n",
    "                    test_losses_data.append(loss.data.item() / torch.sum(maskinp).data.item())\n",
    "                    test_losses.append(loss.data.item() / torch.sum(maskinp).data.item())\n",
    "                    del maskinp\n",
    "                modt += time.time() - tt\n",
    "                if (batch_n % (100 * 2048 // new_batch_size) == 0):\n",
    "                    print('Batch [{}]\\t Test loss: {}, Train loss: {}, Time: {}, Model Time: {}'.format(batch_n, np.array(test_losses[-(100 * 2048 // new_batch_size):]).mean(), np.array(train_losses[-(100 * 2048 // new_batch_size):]).mean(), time.time() - tbegin, modt), file=file_output_b)\n",
    "        del my_data_from_file\n",
    "    now_lr /= 2\n",
    "    torch.save(model, f\"512ASmodel1layergru_epoch_{epoch + 1}.pt\")\n",
    "    print('epoch [{} / {}]\\t Test loss: {}, Train loss: {}, Time: {}'.format(epoch, n_epochs, np.array(test_losses).mean(), np.array(train_losses).mean(), time.time() - tbegin), file=file_output_e)"
   ]
  },
  {
   "cell_type": "code",
   "execution_count": 21,
   "metadata": {},
   "outputs": [],
   "source": [
    "file_output_b_n = open(\"v2_512AS_model_eval_GRU1LAYER_output_batch\", \"wt\", buffering=1)\n"
   ]
  },
  {
   "cell_type": "code",
   "execution_count": 35,
   "metadata": {},
   "outputs": [],
   "source": [
    "del model\n",
    "model = torch.load(\"512ASmodel1layergru_epoch_4.pt\")\n",
    "file_output_b_n = open(\"v2.1_512AS_model_eval_GRU1LAYER_output_batch\", \"wt\", buffering=1)\n"
   ]
  },
  {
   "cell_type": "code",
   "execution_count": 36,
   "metadata": {},
   "outputs": [
    {
     "name": "stdout",
     "output_type": "stream",
     "text": [
      "2020-06-02 13:10:53.988670\n"
     ]
    }
   ],
   "source": [
    "mistakes_dict = [0] * (vocab_word_size + 3)\n",
    "#loss_f = nn.CrossEntropyLoss(reduction='none').to(device)\n",
    "import datetime\n",
    "print(datetime.datetime.now())\n",
    "\n",
    "new_batch_size = 64\n",
    "#sched = optim.lr_scheduler.CosineAnnealingLR(opt, DATA_LENGTH)\n",
    "tbegin = time.time()\n",
    "modt = 0\n",
    "accuracy_b = []\n",
    "last_train_loss = 0\n",
    "last_test_loss = 0\n",
    "batch_n = 0\n",
    "cou_total = 0\n",
    "cou_mistakes = 0\n",
    "cou_first_word_mistakes = 0\n",
    "correct_sents = 0\n",
    "total_sents = 0\n",
    "for file_idx in range(fileind):\n",
    "    local_batch_n = 0\n",
    "    my_data_from_file = torch.load(f\"source_files/data_1024_ixy_{file_idx}\")\n",
    "    for is_test, x1, y1 in my_data_from_file:\n",
    "        if (is_test == 0):\n",
    "            continue\n",
    "        for batch_ind in range((len(y1) - 1) // new_batch_size + 1):\n",
    "            x = x1[batch_ind * new_batch_size : batch_ind * new_batch_size + new_batch_size]\n",
    "            y = y1[batch_ind * new_batch_size : batch_ind * new_batch_size + new_batch_size]\n",
    "            target = pad_sequence([torch.tensor([rev_dict[i.data.item()] for i in j]) for j in y], batch_first=True)\n",
    "            mask = (target != 0)\n",
    "            batch_n += 1\n",
    "            tt = time.time()\n",
    "            x_inp = pad_sequence(x, batch_first=True).long().to(device)\n",
    "            target_inp = target.view(-1).to(device)\n",
    "            maskinp = mask.view(-1).to(device)\n",
    "            out = model.predict(x_inp)\n",
    "            for i in target * (target != out.cpu().reshape(target.shape)) * mask:\n",
    "                for j in i:\n",
    "                    mistakes_dict[j.data.item()] += 1\n",
    "            correct_sents += torch.sum(torch.sum(((target_inp == out).double() * maskinp).reshape(target.shape), dim=1) == torch.sum((maskinp).reshape(target.shape), dim=1))\n",
    "            total_sents += len(y)\n",
    "            cou_mistakes += torch.sum((target_inp == out).double() * maskinp)\n",
    "            cou_total += torch.sum(maskinp)\n",
    "            accuracy = torch.sum((target_inp == out).double() * maskinp) / torch.sum(maskinp)\n",
    "            cou_first_word_mistakes += torch.sum((out.reshape(target.shape)[:, 0] != target_inp.reshape(target.shape)[:, 0]).double())\n",
    "            accuracy_b.append(accuracy.data.item())\n",
    "            del x_inp\n",
    "            del target_inp\n",
    "            del maskinp\n",
    "            modt += time.time() - tt\n",
    "            if (batch_n % (100 * 2048 // new_batch_size) == 0):\n",
    "                print('Batch: [{}]\\t Accuracy: {}, Time: {}, Model Time: {}'.format(batch_n, np.array(accuracy_b[-(100 * 2048 // new_batch_size)]).mean(), time.time() - tbegin, modt), file=file_output_b_n)\n",
    "    del my_data_from_file\n"
   ]
  },
  {
   "cell_type": "code",
   "execution_count": 37,
   "metadata": {},
   "outputs": [
    {
     "data": {
      "text/plain": [
       "0.9012287135953333"
      ]
     },
     "execution_count": 37,
     "metadata": {},
     "output_type": "execute_result"
    }
   ],
   "source": [
    "np.array(accuracy_b).mean()"
   ]
  },
  {
   "cell_type": "code",
   "execution_count": 38,
   "metadata": {},
   "outputs": [
    {
     "data": {
      "text/plain": [
       "tensor(0.4741, device='cuda:0', dtype=torch.float64)"
      ]
     },
     "execution_count": 38,
     "metadata": {},
     "output_type": "execute_result"
    }
   ],
   "source": [
    "correct_sents.double() / total_sents"
   ]
  },
  {
   "cell_type": "code",
   "execution_count": 44,
   "metadata": {},
   "outputs": [
    {
     "data": {
      "text/plain": [
       "<matplotlib.axes._subplots.AxesSubplot at 0x7f4dccd252b0>"
      ]
     },
     "execution_count": 44,
     "metadata": {},
     "output_type": "execute_result"
    },
    {
     "data": {
      "image/png": "[encoded data removed]",
      "text/plain": [
       "<Figure size 432x288 with 1 Axes>"
      ]
     },
     "metadata": {
      "needs_background": "light"
     },
     "output_type": "display_data"
    }
   ],
   "source": [
    "pd.DataFrame(gaussian_filter1d(np.array(accuracy_b), sigma=500), columns=['accuracy']).plot(y='accuracy', kind='line')"
   ]
  },
  {
   "cell_type": "code",
   "execution_count": 23,
   "metadata": {},
   "outputs": [
    {
     "data": {
      "text/plain": [
       "0.9037553702669991"
      ]
     },
     "execution_count": 23,
     "metadata": {},
     "output_type": "execute_result"
    }
   ],
   "source": [
    "np.array(accuracy_b).mean()"
   ]
  },
  {
   "cell_type": "code",
   "execution_count": 24,
   "metadata": {},
   "outputs": [
    {
     "data": {
      "text/plain": [
       "tensor(0.4819, device='cuda:0', dtype=torch.float64)"
      ]
     },
     "execution_count": 24,
     "metadata": {},
     "output_type": "execute_result"
    }
   ],
   "source": [
    "correct_sents.double() / total_sents"
   ]
  },
  {
   "cell_type": "code",
   "execution_count": 25,
   "metadata": {},
   "outputs": [],
   "source": [
    "import pandas as pd "
   ]
  },
  {
   "cell_type": "code",
   "execution_count": 26,
   "metadata": {},
   "outputs": [],
   "source": [
    "from scipy.ndimage.filters import gaussian_filter1d\n"
   ]
  },
  {
   "cell_type": "code",
   "execution_count": 27,
   "metadata": {},
   "outputs": [
    {
     "data": {
      "text/plain": [
       "<matplotlib.axes._subplots.AxesSubplot at 0x7f4dd74e5dd8>"
      ]
     },
     "execution_count": 27,
     "metadata": {},
     "output_type": "execute_result"
    },
    {
     "data": {
      "image/png": "[encoded data removed]",
      "text/plain": [
       "<Figure size 432x288 with 1 Axes>"
      ]
     },
     "metadata": {
      "needs_background": "light"
     },
     "output_type": "display_data"
    }
   ],
   "source": [
    "pd.DataFrame(gaussian_filter1d(np.array(accuracy_b), sigma=50), columns=['accuracy']).plot(y='accuracy', kind='line')"
   ]
  },
  {
   "cell_type": "code",
   "execution_count": 30,
   "metadata": {},
   "outputs": [
    {
     "data": {
      "text/plain": [
       "0.16412699012562965"
      ]
     },
     "execution_count": 30,
     "metadata": {},
     "output_type": "execute_result"
    }
   ],
   "source": [
    "sum(mistakes_dict[1:3000]) / sum(mistakes_dict[1:])"
   ]
  },
  {
   "cell_type": "code",
   "execution_count": 31,
   "metadata": {},
   "outputs": [
    {
     "data": {
      "text/plain": [
       "0.13005296975371533"
      ]
     },
     "execution_count": 31,
     "metadata": {},
     "output_type": "execute_result"
    }
   ],
   "source": [
    "sum(mistakes_dict[3000:20000]) / sum(mistakes_dict[1:])"
   ]
  },
  {
   "cell_type": "code",
   "execution_count": 32,
   "metadata": {},
   "outputs": [
    {
     "data": {
      "text/plain": [
       "0.25527730838376694"
      ]
     },
     "execution_count": 32,
     "metadata": {},
     "output_type": "execute_result"
    }
   ],
   "source": [
    "sum(mistakes_dict[20000:100000]) / sum(mistakes_dict[1:])"
   ]
  },
  {
   "cell_type": "code",
   "execution_count": 33,
   "metadata": {},
   "outputs": [
    {
     "data": {
      "text/plain": [
       "0.4505427317368881"
      ]
     },
     "execution_count": 33,
     "metadata": {},
     "output_type": "execute_result"
    }
   ],
   "source": [
    "sum(mistakes_dict[100000:]) / sum(mistakes_dict[1:])"
   ]
  },
  {
   "cell_type": "code",
   "execution_count": 34,
   "metadata": {
    "scrolled": true
   },
   "outputs": [
    {
     "data": {
      "text/plain": [
       "[29,\n",
       " 32,\n",
       " 26,\n",
       " 28,\n",
       " 36,\n",
       " 22,\n",
       " 28,\n",
       " 28,\n",
       " 16,\n",
       " 29,\n",
       " 23,\n",
       " 19,\n",
       " 21,\n",
       " 0,\n",
       " 36,\n",
       " 23,\n",
       " 36,\n",
       " 42,\n",
       " 14,\n",
       " 17,\n",
       " 14,\n",
       " 30,\n",
       " 26,\n",
       " 33,\n",
       " 17,\n",
       " 26,\n",
       " 12,\n",
       " 25,\n",
       " 34,\n",
       " 28,\n",
       " 18,\n",
       " 44,\n",
       " 24,\n",
       " 22,\n",
       " 34,\n",
       " 34,\n",
       " 23,\n",
       " 20,\n",
       " 30,\n",
       " 26,\n",
       " 26,\n",
       " 27,\n",
       " 32,\n",
       " 17,\n",
       " 19,\n",
       " 24,\n",
       " 29,\n",
       " 15,\n",
       " 22,\n",
       " 14,\n",
       " 27,\n",
       " 17,\n",
       " 35,\n",
       " 28,\n",
       " 22,\n",
       " 28,\n",
       " 16,\n",
       " 35,\n",
       " 35,\n",
       " 25,\n",
       " 25,\n",
       " 16,\n",
       " 24,\n",
       " 27,\n",
       " 25,\n",
       " 27,\n",
       " 26,\n",
       " 27,\n",
       " 31,\n",
       " 22,\n",
       " 3,\n",
       " 16,\n",
       " 25,\n",
       " 19,\n",
       " 29,\n",
       " 26,\n",
       " 10,\n",
       " 35,\n",
       " 24,\n",
       " 23,\n",
       " 23,\n",
       " 1,\n",
       " 18,\n",
       " 17,\n",
       " 15,\n",
       " 27,\n",
       " 25,\n",
       " 14,\n",
       " 35,\n",
       " 35,\n",
       " 24,\n",
       " 25,\n",
       " 27,\n",
       " 14,\n",
       " 6,\n",
       " 13,\n",
       " 17,\n",
       " 22,\n",
       " 27,\n",
       " 23,\n",
       " 23,\n",
       " 3,\n",
       " 30,\n",
       " 32,\n",
       " 29,\n",
       " 27,\n",
       " 29,\n",
       " 25,\n",
       " 27,\n",
       " 26,\n",
       " 28,\n",
       " 23,\n",
       " 15,\n",
       " 37,\n",
       " 35,\n",
       " 20,\n",
       " 23,\n",
       " 21,\n",
       " 32,\n",
       " 18,\n",
       " 25,\n",
       " 39,\n",
       " 12,\n",
       " 30,\n",
       " 28,\n",
       " 26,\n",
       " 33,\n",
       " 19,\n",
       " 28,\n",
       " 29,\n",
       " 31,\n",
       " 34,\n",
       " 27,\n",
       " 22,\n",
       " 28,\n",
       " 26,\n",
       " 22,\n",
       " 22,\n",
       " 25,\n",
       " 22,\n",
       " 40,\n",
       " 25,\n",
       " 20,\n",
       " 16,\n",
       " 19,\n",
       " 22,\n",
       " 22,\n",
       " 35,\n",
       " 0,\n",
       " 22,\n",
       " 34,\n",
       " 24,\n",
       " 25,\n",
       " 4,\n",
       " 29,\n",
       " 32,\n",
       " 22,\n",
       " 37,\n",
       " 22,\n",
       " 18,\n",
       " 32,\n",
       " 16,\n",
       " 35,\n",
       " 28,\n",
       " 36,\n",
       " 25,\n",
       " 29,\n",
       " 20,\n",
       " 3,\n",
       " 27,\n",
       " 26,\n",
       " 19,\n",
       " 28,\n",
       " 31,\n",
       " 27,\n",
       " 1,\n",
       " 42,\n",
       " 27,\n",
       " 23,\n",
       " 19,\n",
       " 26,\n",
       " 33,\n",
       " 18,\n",
       " 25,\n",
       " 35,\n",
       " 17,\n",
       " 0,\n",
       " 31,\n",
       " 42,\n",
       " 22,\n",
       " 22,\n",
       " 35,\n",
       " 29,\n",
       " 17,\n",
       " 30,\n",
       " 43,\n",
       " 23,\n",
       " 11,\n",
       " 26,\n",
       " 29,\n",
       " 34,\n",
       " 17,\n",
       " 29,\n",
       " 16,\n",
       " 19,\n",
       " 29,\n",
       " 31,\n",
       " 26,\n",
       " 26,\n",
       " 23,\n",
       " 25,\n",
       " 4,\n",
       " 23,\n",
       " 24,\n",
       " 15,\n",
       " 26,\n",
       " 29,\n",
       " 27,\n",
       " 28,\n",
       " 20,\n",
       " 7,\n",
       " 25,\n",
       " 18,\n",
       " 28,\n",
       " 27,\n",
       " 12,\n",
       " 27,\n",
       " 24,\n",
       " 14,\n",
       " 24,\n",
       " 24,\n",
       " 24,\n",
       " 22,\n",
       " 30,\n",
       " 22,\n",
       " 28,\n",
       " 23,\n",
       " 22,\n",
       " 24,\n",
       " 20,\n",
       " 12,\n",
       " 14,\n",
       " 25,\n",
       " 31,\n",
       " 29,\n",
       " 37,\n",
       " 5,\n",
       " 24,\n",
       " 34,\n",
       " 30,\n",
       " 16,\n",
       " 22,\n",
       " 26,\n",
       " 16,\n",
       " 41,\n",
       " 7,\n",
       " 20,\n",
       " 22,\n",
       " 26,\n",
       " 17,\n",
       " 27,\n",
       " 30,\n",
       " 21,\n",
       " 24,\n",
       " 33,\n",
       " 13,\n",
       " 28,\n",
       " 22,\n",
       " 10,\n",
       " 13,\n",
       " 24,\n",
       " 28,\n",
       " 22,\n",
       " 27,\n",
       " 20,\n",
       " 40,\n",
       " 24,\n",
       " 27,\n",
       " 16,\n",
       " 30,\n",
       " 15,\n",
       " 19,\n",
       " 29,\n",
       " 0,\n",
       " 28,\n",
       " 23,\n",
       " 27,\n",
       " 32,\n",
       " 25,\n",
       " 22,\n",
       " 25,\n",
       " 27,\n",
       " 25,\n",
       " 1,\n",
       " 21,\n",
       " 13,\n",
       " 23,\n",
       " 35,\n",
       " 22,\n",
       " 29,\n",
       " 28,\n",
       " 25,\n",
       " 26,\n",
       " 25,\n",
       " 20,\n",
       " 31,\n",
       " 34,\n",
       " 22,\n",
       " 25,\n",
       " 24,\n",
       " 12,\n",
       " 23,\n",
       " 31,\n",
       " 36,\n",
       " 10,\n",
       " 27,\n",
       " 14,\n",
       " 36,\n",
       " 23,\n",
       " 27,\n",
       " 37,\n",
       " 14,\n",
       " 10,\n",
       " 30,\n",
       " 22,\n",
       " 25,\n",
       " 20,\n",
       " 28,\n",
       " 27,\n",
       " 31,\n",
       " 31,\n",
       " 29,\n",
       " 30,\n",
       " 25,\n",
       " 21,\n",
       " 36,\n",
       " 19,\n",
       " 22,\n",
       " 34,\n",
       " 24,\n",
       " 27,\n",
       " 27,\n",
       " 22,\n",
       " 29,\n",
       " 32,\n",
       " 30,\n",
       " 5,\n",
       " 14,\n",
       " 28,\n",
       " 27,\n",
       " 31,\n",
       " 23,\n",
       " 36,\n",
       " 32,\n",
       " 32,\n",
       " 26,\n",
       " 21,\n",
       " 27,\n",
       " 35,\n",
       " 29,\n",
       " 18,\n",
       " 4,\n",
       " 31,\n",
       " 16,\n",
       " 23,\n",
       " 14,\n",
       " 20,\n",
       " 20,\n",
       " 31,\n",
       " 23,\n",
       " 22,\n",
       " 22,\n",
       " 27,\n",
       " 20,\n",
       " 27,\n",
       " 21,\n",
       " 22,\n",
       " 37,\n",
       " 21,\n",
       " 17,\n",
       " 31,\n",
       " 27,\n",
       " 29,\n",
       " 27,\n",
       " 16,\n",
       " 20,\n",
       " 30,\n",
       " 19,\n",
       " 27,\n",
       " 24,\n",
       " 38,\n",
       " 20,\n",
       " 16,\n",
       " 19,\n",
       " 30,\n",
       " 29,\n",
       " 24,\n",
       " 29,\n",
       " 0,\n",
       " 12,\n",
       " 21,\n",
       " 20,\n",
       " 20,\n",
       " 28,\n",
       " 28,\n",
       " 27,\n",
       " 22,\n",
       " 23,\n",
       " 20,\n",
       " 18,\n",
       " 23,\n",
       " 28,\n",
       " 28,\n",
       " 31,\n",
       " 26,\n",
       " 27,\n",
       " 23,\n",
       " 22,\n",
       " 30,\n",
       " 28,\n",
       " 33,\n",
       " 10,\n",
       " 15,\n",
       " 38,\n",
       " 30,\n",
       " 35,\n",
       " 29,\n",
       " 32,\n",
       " 21,\n",
       " 31,\n",
       " 23,\n",
       " 30,\n",
       " 34,\n",
       " 16,\n",
       " 26,\n",
       " 25,\n",
       " 32,\n",
       " 22,\n",
       " 30,\n",
       " 29,\n",
       " 27,\n",
       " 29,\n",
       " 34,\n",
       " 35,\n",
       " 23,\n",
       " 23,\n",
       " 22,\n",
       " 22,\n",
       " 23,\n",
       " 23,\n",
       " 32,\n",
       " 17,\n",
       " 28,\n",
       " 24,\n",
       " 25,\n",
       " 28,\n",
       " 27,\n",
       " 32,\n",
       " 20,\n",
       " 21,\n",
       " 21,\n",
       " 27,\n",
       " 22,\n",
       " 40,\n",
       " 28,\n",
       " 9,\n",
       " 34,\n",
       " 36,\n",
       " 31,\n",
       " 21,\n",
       " 39,\n",
       " 20,\n",
       " 28,\n",
       " 22,\n",
       " 35,\n",
       " 38,\n",
       " 22,\n",
       " 27,\n",
       " 22,\n",
       " 31,\n",
       " 24,\n",
       " 28,\n",
       " 29,\n",
       " 25,\n",
       " 25,\n",
       " 10,\n",
       " 22,\n",
       " 28,\n",
       " 34,\n",
       " 16,\n",
       " 25,\n",
       " 33,\n",
       " 20,\n",
       " 19,\n",
       " 29,\n",
       " 25,\n",
       " 30,\n",
       " 20,\n",
       " 31,\n",
       " 26,\n",
       " 27,\n",
       " 16,\n",
       " 18,\n",
       " 27,\n",
       " 27,\n",
       " 28,\n",
       " 31,\n",
       " 0,\n",
       " 26,\n",
       " 26,\n",
       " 21,\n",
       " 27,\n",
       " 25,\n",
       " 27,\n",
       " 19,\n",
       " 27,\n",
       " 25,\n",
       " 18,\n",
       " 19,\n",
       " 32,\n",
       " 29,\n",
       " 12,\n",
       " 21,\n",
       " 7,\n",
       " 19,\n",
       " 25,\n",
       " 27,\n",
       " 25,\n",
       " 41,\n",
       " 25,\n",
       " 36,\n",
       " 25,\n",
       " 1,\n",
       " 15,\n",
       " 28,\n",
       " 25,\n",
       " 32,\n",
       " 15,\n",
       " 34,\n",
       " 21,\n",
       " 24,\n",
       " 39,\n",
       " 30,\n",
       " 10,\n",
       " 23,\n",
       " 26,\n",
       " 31,\n",
       " 21,\n",
       " 0,\n",
       " 19,\n",
       " 31,\n",
       " 17,\n",
       " 20,\n",
       " 13,\n",
       " 32,\n",
       " 29,\n",
       " 19,\n",
       " 25,\n",
       " 0,\n",
       " 27,\n",
       " 29,\n",
       " 33,\n",
       " 20,\n",
       " 14,\n",
       " 20,\n",
       " 21,\n",
       " 28,\n",
       " 23,\n",
       " 24,\n",
       " 29,\n",
       " 27,\n",
       " 21,\n",
       " 12,\n",
       " 12,\n",
       " 20,\n",
       " 22,\n",
       " 21,\n",
       " 26,\n",
       " 42,\n",
       " 26,\n",
       " 19,\n",
       " 26,\n",
       " 32,\n",
       " 27,\n",
       " 23,\n",
       " 29,\n",
       " 0,\n",
       " 28,\n",
       " 6,\n",
       " 20,\n",
       " 33,\n",
       " 34,\n",
       " 31,\n",
       " 21,\n",
       " 22,\n",
       " 18,\n",
       " 29,\n",
       " 22,\n",
       " 23,\n",
       " 32,\n",
       " 31,\n",
       " 22,\n",
       " 27,\n",
       " 21,\n",
       " 33,\n",
       " 22,\n",
       " 34,\n",
       " 31,\n",
       " 32,\n",
       " 25,\n",
       " 28,\n",
       " 31,\n",
       " 23,\n",
       " 32,\n",
       " 35,\n",
       " 27,\n",
       " 25,\n",
       " 36,\n",
       " 33,\n",
       " 23,\n",
       " 27,\n",
       " 18,\n",
       " 27,\n",
       " 35,\n",
       " 11,\n",
       " 40,\n",
       " 27,\n",
       " 35,\n",
       " 26,\n",
       " 36,\n",
       " 25,\n",
       " 20,\n",
       " 33,\n",
       " 21,\n",
       " 18,\n",
       " 24,\n",
       " 1,\n",
       " 16,\n",
       " 21,\n",
       " 16,\n",
       " 17,\n",
       " 38,\n",
       " 31,\n",
       " 23,\n",
       " 0,\n",
       " 29,\n",
       " 28,\n",
       " 35,\n",
       " 25,\n",
       " 23,\n",
       " 30,\n",
       " 17,\n",
       " 29,\n",
       " 24,\n",
       " 29,\n",
       " 22,\n",
       " 24,\n",
       " 26,\n",
       " 29,\n",
       " 28,\n",
       " 41,\n",
       " 20,\n",
       " 29,\n",
       " 23,\n",
       " 3,\n",
       " 26,\n",
       " 25,\n",
       " 33,\n",
       " 15,\n",
       " 20,\n",
       " 16,\n",
       " 31,\n",
       " 25,\n",
       " 24,\n",
       " 39,\n",
       " 3,\n",
       " 46,\n",
       " 24,\n",
       " 20,\n",
       " 28,\n",
       " 25,\n",
       " 25,\n",
       " 32,\n",
       " 0,\n",
       " 29,\n",
       " 0,\n",
       " 21,\n",
       " 26,\n",
       " 21,\n",
       " 29,\n",
       " 32,\n",
       " 16,\n",
       " 32,\n",
       " 18,\n",
       " 27,\n",
       " 22,\n",
       " 29,\n",
       " 28,\n",
       " 20,\n",
       " 31,\n",
       " 0,\n",
       " 7,\n",
       " 19,\n",
       " 16,\n",
       " 9,\n",
       " 23,\n",
       " 23,\n",
       " 20,\n",
       " 24,\n",
       " 27,\n",
       " 27,\n",
       " 37,\n",
       " 19,\n",
       " 22,\n",
       " 11,\n",
       " 28,\n",
       " 17,\n",
       " 19,\n",
       " 22,\n",
       " 20,\n",
       " 16,\n",
       " 28,\n",
       " 31,\n",
       " 13,\n",
       " 27,\n",
       " 15,\n",
       " 25,\n",
       " 29,\n",
       " 9,\n",
       " 26,\n",
       " 28,\n",
       " 22,\n",
       " 32,\n",
       " 38,\n",
       " 20,\n",
       " 25,\n",
       " 9,\n",
       " 30,\n",
       " 16,\n",
       " 23,\n",
       " 9,\n",
       " 27,\n",
       " 22,\n",
       " 34,\n",
       " 24,\n",
       " 25,\n",
       " 22,\n",
       " 19,\n",
       " 28,\n",
       " 22,\n",
       " 38,\n",
       " 25,\n",
       " 33,\n",
       " 20,\n",
       " 23,\n",
       " 25,\n",
       " 20,\n",
       " 23,\n",
       " 26,\n",
       " 7,\n",
       " 40,\n",
       " 26,\n",
       " 20,\n",
       " 13,\n",
       " 30,\n",
       " 23,\n",
       " 24,\n",
       " 37,\n",
       " 30,\n",
       " 30,\n",
       " 25,\n",
       " 29,\n",
       " 35,\n",
       " 16,\n",
       " 19,\n",
       " 36,\n",
       " 23,\n",
       " 30,\n",
       " 31,\n",
       " 31,\n",
       " 34,\n",
       " 27,\n",
       " 23,\n",
       " 41,\n",
       " 0,\n",
       " 18,\n",
       " 13,\n",
       " 23,\n",
       " 28,\n",
       " 36,\n",
       " 27,\n",
       " 40,\n",
       " 19,\n",
       " 34,\n",
       " 27,\n",
       " 32,\n",
       " 10,\n",
       " 27,\n",
       " 23,\n",
       " 0,\n",
       " 22,\n",
       " 32,\n",
       " 27,\n",
       " 31,\n",
       " 28,\n",
       " 29,\n",
       " 6,\n",
       " 23,\n",
       " 16,\n",
       " 32,\n",
       " 20,\n",
       " 20,\n",
       " 18,\n",
       " 20,\n",
       " 31,\n",
       " 31,\n",
       " 27,\n",
       " 3,\n",
       " 20,\n",
       " 21,\n",
       " 6,\n",
       " 23,\n",
       " 25,\n",
       " 23,\n",
       " 15,\n",
       " 28,\n",
       " 20,\n",
       " 25,\n",
       " 30,\n",
       " 30,\n",
       " 20,\n",
       " 16,\n",
       " 25,\n",
       " 28,\n",
       " 32,\n",
       " 15,\n",
       " 17,\n",
       " 0,\n",
       " 31,\n",
       " 21,\n",
       " 20,\n",
       " 31,\n",
       " 32,\n",
       " 34,\n",
       " 23,\n",
       " 21,\n",
       " 21,\n",
       " 13,\n",
       " 27,\n",
       " 30,\n",
       " 10,\n",
       " 25,\n",
       " 26,\n",
       " 32,\n",
       " 22,\n",
       " 25,\n",
       " 13,\n",
       " 36,\n",
       " 23,\n",
       " 23,\n",
       " 15,\n",
       " 14,\n",
       " 30,\n",
       " 22,\n",
       " 32,\n",
       " 15,\n",
       " 38,\n",
       " 27,\n",
       " 13,\n",
       " 39,\n",
       " 16,\n",
       " 20,\n",
       " 26,\n",
       " 25,\n",
       " 24,\n",
       " 28,\n",
       " 31,\n",
       " 26,\n",
       " 11,\n",
       " 24,\n",
       " 21,\n",
       " 28,\n",
       " 26,\n",
       " 19,\n",
       " 24,\n",
       " 25,\n",
       " 26,\n",
       " 26,\n",
       " 14,\n",
       " 26,\n",
       " 25,\n",
       " 26,\n",
       " 33,\n",
       " 17,\n",
       " 30,\n",
       " 30,\n",
       " 21,\n",
       " 14,\n",
       " 17,\n",
       " 29,\n",
       " 22,\n",
       " 35,\n",
       " 29,\n",
       " 17,\n",
       " 26,\n",
       " 37,\n",
       " 18,\n",
       " 26,\n",
       " 32,\n",
       " 40,\n",
       " 39,\n",
       " 33,\n",
       " 31,\n",
       " 20,\n",
       " 27,\n",
       " 34,\n",
       " 22,\n",
       " 19,\n",
       " 28,\n",
       " 26,\n",
       " 33,\n",
       " 25,\n",
       " 23,\n",
       " 28,\n",
       " 24,\n",
       " 23,\n",
       " 22,\n",
       " 34,\n",
       " 17,\n",
       " 14,\n",
       " 27,\n",
       " 20,\n",
       " 28,\n",
       " 44,\n",
       " 15,\n",
       " 29,\n",
       " 38,\n",
       " 24,\n",
       " 23,\n",
       " 38,\n",
       " 25,\n",
       " 20,\n",
       " 30,\n",
       " 20,\n",
       " 32,\n",
       " 12,\n",
       " 37,\n",
       " 41,\n",
       " 21,\n",
       " 16,\n",
       " 21,\n",
       " 30,\n",
       " 23,\n",
       " 24,\n",
       " 30,\n",
       " 27,\n",
       " 30,\n",
       " 21,\n",
       " 24,\n",
       " 2,\n",
       " 27,\n",
       " 29,\n",
       " 31,\n",
       " 31,\n",
       " 24,\n",
       " 29,\n",
       " 16,\n",
       " 12,\n",
       " 21,\n",
       " 7,\n",
       " 23,\n",
       " 28,\n",
       " 25,\n",
       " 18,\n",
       " 32,\n",
       " 26,\n",
       " 28,\n",
       " 27,\n",
       " 17,\n",
       " 41,\n",
       " 0,\n",
       " 40,\n",
       " 30,\n",
       " 32,\n",
       " 22,\n",
       " 22,\n",
       " 18,\n",
       " 29,\n",
       " 19,\n",
       " 28,\n",
       " 26,\n",
       " 25,\n",
       " 26,\n",
       " 29,\n",
       " 22,\n",
       " 19,\n",
       " 25,\n",
       " 20,\n",
       " 33,\n",
       " 16,\n",
       " ...]"
      ]
     },
     "execution_count": 34,
     "metadata": {},
     "output_type": "execute_result"
    }
   ],
   "source": [
    "mistakes_dict[100000:]"
   ]
  },
  {
   "cell_type": "code",
   "execution_count": 65,
   "metadata": {},
   "outputs": [
    {
     "name": "stdout",
     "output_type": "stream",
     "text": [
      "Looking in indexes: https://pypi.org/simple, https://pypi.apsolutions.ru/simple\n",
      "Collecting AdaBound\n",
      "  Downloading adabound-0.0.5-py3-none-any.whl (5.1 kB)\n",
      "Requirement already satisfied: torch>=0.4.0 in /home/user1/.pyenv/versions/3.6.6/lib/python3.6/site-packages (from AdaBound) (1.4.0+cu100)\n",
      "Installing collected packages: AdaBound\n",
      "Successfully installed AdaBound-0.0.5\n",
      "\u001b[33mWARNING: You are using pip version 20.1; however, version 20.1.1 is available.\n",
      "You should consider upgrading via the '/home/user1/.pyenv/versions/3.6.6/bin/python3 -m pip install --upgrade pip' command.\u001b[0m\n"
     ]
    }
   ],
   "source": [
    "!pip install AdaBound"
   ]
  },
  {
   "cell_type": "code",
   "execution_count": 186,
   "metadata": {},
   "outputs": [],
   "source": [
    "import torch.nn.utils as utils"
   ]
  },
  {
   "cell_type": "code",
   "execution_count": 208,
   "metadata": {},
   "outputs": [],
   "source": [
    "import adabound"
   ]
  },
  {
   "cell_type": "code",
   "execution_count": 234,
   "metadata": {},
   "outputs": [],
   "source": [
    "del model\n",
    "model = torch.load(\"Oppositionv4_512ASmodel1layergru_epoch_10.pt\")\n",
    "now_lr = 1e-3\n",
    "opt = adabound.AdaBound(model.parameters(), lr=1e-3, final_lr=2e-3)\n",
    "lrlambda = lambda epoch: 0.8\n",
    "sched = optim.lr_scheduler.MultiplicativeLR(opt, lr_lambda=lrlambda)"
   ]
  },
  {
   "cell_type": "code",
   "execution_count": 235,
   "metadata": {},
   "outputs": [
    {
     "ename": "NameError",
     "evalue": "name 'my_data_from_file' is not defined",
     "output_type": "error",
     "traceback": [
      "\u001b[0;31m---------------------------------------------------------------------------\u001b[0m",
      "\u001b[0;31mNameError\u001b[0m                                 Traceback (most recent call last)",
      "\u001b[0;32m<ipython-input-235-2f8afe99784b>\u001b[0m in \u001b[0;36m<module>\u001b[0;34m\u001b[0m\n\u001b[0;32m----> 1\u001b[0;31m \u001b[0;32mdel\u001b[0m \u001b[0mmy_data_from_file\u001b[0m\u001b[0;34m\u001b[0m\u001b[0m\n\u001b[0m",
      "\u001b[0;31mNameError\u001b[0m: name 'my_data_from_file' is not defined"
     ]
    }
   ],
   "source": [
    "del my_data_from_file"
   ]
  },
  {
   "cell_type": "code",
   "execution_count": 236,
   "metadata": {},
   "outputs": [],
   "source": [
    "file_output_b = open(\"Oppositionv7_512AS_model_training_GRU1LAYER_output_batch\", \"wt\", buffering=1)\n",
    "file_output_e = open(\"Oppositionv7_512AS_model_training_GRU1LAYER_output_epoch\", \"wt\", buffering=1)\n"
   ]
  },
  {
   "cell_type": "code",
   "execution_count": 237,
   "metadata": {},
   "outputs": [],
   "source": [
    "file_output_b_n = open(\"Oppositionv7_512AS_model_eval_GRU1LAYER_output_batch\", \"wt\", buffering=1)"
   ]
  },
  {
   "cell_type": "code",
   "execution_count": null,
   "metadata": {
    "scrolled": true
   },
   "outputs": [
    {
     "name": "stdout",
     "output_type": "stream",
     "text": [
      "2020-06-07 15:31:03.217564\n"
     ]
    }
   ],
   "source": [
    "import datetime\n",
    "print(datetime.datetime.now())\n",
    "\n",
    "new_batch_size = 256\n",
    "#sched = optim.lr_scheduler.CosineAnnealingLR(opt, DATA_LENGTH)\n",
    "tbegin = time.time()\n",
    "modt = 0\n",
    "test_losses_data = []\n",
    "train_losses_data = []\n",
    "for epoch in range(10, 20):\n",
    "    train_losses = []\n",
    "    test_losses = []\n",
    "    last_train_loss = 0\n",
    "    last_test_loss = 0\n",
    "    batch_n = 0\n",
    "    for file_idx in range(10, 12):\n",
    "        local_batch_n = 0\n",
    "        my_data_from_file = torch.load(f\"source_files/data_1024_ixy_{file_idx}\")\n",
    "        for is_test, x1, y1 in my_data_from_file:\n",
    "            if (file_idx == 10 and local_batch_n <= 624):\n",
    "                local_batch_n += 1\n",
    "                continue\n",
    "            local_batch_n += 1\n",
    "            for batch_ind in range((len(y1) - 1) // new_batch_size + 1):\n",
    "                x = x1[batch_ind * new_batch_size : batch_ind * new_batch_size + new_batch_size]\n",
    "                y = y1[batch_ind * new_batch_size : batch_ind * new_batch_size + new_batch_size]\n",
    "                target = pad_sequence([torch.tensor([rev_dict[i.data.item()] for i in j]) for j in y], batch_first=True)\n",
    "                mask = (target != 0)\n",
    "                batch_n += 1\n",
    "                tt = time.time()\n",
    "                opt.zero_grad()\n",
    "                x_inp = pad_sequence(x, batch_first=True).long().to(device)\n",
    "                target_inp = target.view(-1).to(device)\n",
    "                maskinp = mask.view(-1).to(device)\n",
    "                loss = model(x_inp, target_inp, maskinp)\n",
    "                if (is_test == 0):\n",
    "                    loss.backward()\n",
    "                    opt.step()\n",
    "                    del x_inp\n",
    "                    del target_inp\n",
    "                    train_losses.append(loss.data.item() / torch.sum(maskinp).data.item())\n",
    "                    train_losses_data.append(loss.data.item() / torch.sum(maskinp).data.item())\n",
    "                    del maskinp\n",
    "                else:\n",
    "                    del x_inp\n",
    "                    del target_inp\n",
    "                    test_losses_data.append(loss.data.item() / torch.sum(maskinp).data.item())\n",
    "                    test_losses.append(loss.data.item() / torch.sum(maskinp).data.item())\n",
    "                    del maskinp\n",
    "                modt += time.time() - tt\n",
    "                if (batch_n % (100 * 2048 // new_batch_size) == 0):\n",
    "                    print('Batch [{}]\\t Test loss: {}, Train loss: {}, Time: {}, Model Time: {}'.format(batch_n, np.array(test_losses[-(100 * 2048 // new_batch_size):]).mean(), np.array(train_losses[-(100 * 2048 // new_batch_size):]).mean(), time.time() - tbegin, modt), file=file_output_b)\n",
    "        del my_data_from_file\n",
    "    if (epoch >= 10):\n",
    "        sched.step()\n",
    "    torch.save(model, f\"Oppositionv7_512ASmodel1layergru_epoch_{epoch + 1}.pt\")\n",
    "    print('epoch [{} / {}]\\t Test loss: {}, Train loss: {}, Time: {}'.format(epoch, n_epochs, np.array(test_losses).mean(), np.array(train_losses).mean(), time.time() - tbegin), file=file_output_e)"
   ]
  },
  {
   "cell_type": "code",
   "execution_count": 229,
   "metadata": {},
   "outputs": [],
   "source": [
    "model = torch.load(\"Oppositionv6_512ASmodel1layergru_epoch_16.pt\")\n"
   ]
  },
  {
   "cell_type": "code",
   "execution_count": 239,
   "metadata": {},
   "outputs": [
    {
     "ename": "NameError",
     "evalue": "name 'my_data_from_file' is not defined",
     "output_type": "error",
     "traceback": [
      "\u001b[0;31m---------------------------------------------------------------------------\u001b[0m",
      "\u001b[0;31mNameError\u001b[0m                                 Traceback (most recent call last)",
      "\u001b[0;32m<ipython-input-239-2f8afe99784b>\u001b[0m in \u001b[0;36m<module>\u001b[0;34m\u001b[0m\n\u001b[0;32m----> 1\u001b[0;31m \u001b[0;32mdel\u001b[0m \u001b[0mmy_data_from_file\u001b[0m\u001b[0;34m\u001b[0m\u001b[0m\n\u001b[0m",
      "\u001b[0;31mNameError\u001b[0m: name 'my_data_from_file' is not defined"
     ]
    }
   ],
   "source": [
    "del my_data_from_file"
   ]
  },
  {
   "cell_type": "code",
   "execution_count": 240,
   "metadata": {},
   "outputs": [
    {
     "name": "stdout",
     "output_type": "stream",
     "text": [
      "2020-06-08 00:33:12.574670\n"
     ]
    }
   ],
   "source": [
    "mistakes_dict = [0] * (vocab_word_size + 3)\n",
    "#loss_f = nn.CrossEntropyLoss(reduction='none').to(device)\n",
    "import datetime\n",
    "print(datetime.datetime.now())\n",
    "\n",
    "new_batch_size = 64\n",
    "#sched = optim.lr_scheduler.CosineAnnealingLR(opt, DATA_LENGTH)\n",
    "tbegin = time.time()\n",
    "modt = 0\n",
    "accuracy_b = []\n",
    "last_train_loss = 0\n",
    "last_test_loss = 0\n",
    "batch_n = 0\n",
    "cou_total = 0\n",
    "cou_mistakes = 0\n",
    "cou_first_word_mistakes = 0\n",
    "correct_sents = 0\n",
    "total_sents = 0\n",
    "for file_idx in range(10, 12):\n",
    "    local_batch_n = 0\n",
    "    my_data_from_file = torch.load(f\"source_files/data_1024_ixy_{file_idx}\")\n",
    "    for is_test, x1, y1 in my_data_from_file:\n",
    "        if (file_idx == 10 and local_batch_n <= 624):\n",
    "            local_batch_n += 1\n",
    "            continue\n",
    "        local_batch_n += 1\n",
    "        if (is_test == 0):\n",
    "            continue\n",
    "        for batch_ind in range((len(y1) - 1) // new_batch_size + 1):\n",
    "            x = x1[batch_ind * new_batch_size : batch_ind * new_batch_size + new_batch_size]\n",
    "            y = y1[batch_ind * new_batch_size : batch_ind * new_batch_size + new_batch_size]\n",
    "            target = pad_sequence([torch.tensor([rev_dict[i.data.item()] for i in j]) for j in y], batch_first=True)\n",
    "            mask = (target != 0)\n",
    "            batch_n += 1\n",
    "            tt = time.time()\n",
    "            x_inp = pad_sequence(x, batch_first=True).long().to(device)\n",
    "            target_inp = target.view(-1).to(device)\n",
    "            maskinp = mask.view(-1).to(device)\n",
    "            out = model.predict(x_inp)\n",
    "            for i in target * (target != out.cpu().reshape(target.shape)) * mask:\n",
    "                for j in i:\n",
    "                    mistakes_dict[j.data.item()] += 1\n",
    "            correct_sents += torch.sum(torch.sum(((target_inp == out).double() * maskinp).reshape(target.shape), dim=1) == torch.sum((maskinp).reshape(target.shape), dim=1))\n",
    "            total_sents += len(y)\n",
    "            cou_mistakes += torch.sum((target_inp == out).double() * maskinp)\n",
    "            cou_total += torch.sum(maskinp)\n",
    "            accuracy = torch.sum((target_inp == out).double() * maskinp) / torch.sum(maskinp)\n",
    "            cou_first_word_mistakes += torch.sum((out.reshape(target.shape)[:, 0] != target_inp.reshape(target.shape)[:, 0]).double())\n",
    "            accuracy_b.append(accuracy.data.item())\n",
    "            del x_inp\n",
    "            del target_inp\n",
    "            del maskinp\n",
    "            modt += time.time() - tt\n",
    "            if (batch_n % (100 * 2048 // new_batch_size) == 0):\n",
    "                print('Batch: [{}]\\t Accuracy: {}, Time: {}, Model Time: {}'.format(batch_n, np.array(accuracy_b[-(100 * 2048 // new_batch_size):]).mean(), time.time() - tbegin, modt), file=file_output_b_n)\n",
    "    del my_data_from_file\n"
   ]
  },
  {
   "cell_type": "code",
   "execution_count": 247,
   "metadata": {},
   "outputs": [
    {
     "data": {
      "text/plain": [
       "0.9466237731270029"
      ]
     },
     "execution_count": 247,
     "metadata": {},
     "output_type": "execute_result"
    }
   ],
   "source": [
    "sum(accuracy_b[12800:]) / len(accuracy_b[12800:])"
   ]
  },
  {
   "cell_type": "code",
   "execution_count": 250,
   "metadata": {},
   "outputs": [
    {
     "data": {
      "text/plain": [
       "0.9419721980810152"
      ]
     },
     "execution_count": 250,
     "metadata": {},
     "output_type": "execute_result"
    }
   ],
   "source": [
    "sum(accuracy_b[3200:6400]) / len(accuracy_b[3200:6400])"
   ]
  },
  {
   "cell_type": "code",
   "execution_count": 249,
   "metadata": {},
   "outputs": [
    {
     "name": "stdout",
     "output_type": "stream",
     "text": [
      "0.9448392881168993\n",
      "0.9419721980810152\n",
      "0.9460966326835034\n",
      "0.9459092405029764\n"
     ]
    }
   ],
   "source": [
    "for i in range(4):\n",
    "    print(sum(accuracy_b[3200 * i:3200 * i + 3200]) / len(accuracy_b[3200 * i:3200 * i + 3200]))"
   ]
  },
  {
   "cell_type": "code",
   "execution_count": 241,
   "metadata": {},
   "outputs": [
    {
     "data": {
      "text/plain": [
       "0.9447112131086636"
      ]
     },
     "execution_count": 241,
     "metadata": {},
     "output_type": "execute_result"
    }
   ],
   "source": [
    "np.array(accuracy_b).mean()"
   ]
  },
  {
   "cell_type": "code",
   "execution_count": 242,
   "metadata": {},
   "outputs": [
    {
     "data": {
      "text/plain": [
       "tensor(0.6230, device='cuda:0', dtype=torch.float64)"
      ]
     },
     "execution_count": 242,
     "metadata": {},
     "output_type": "execute_result"
    }
   ],
   "source": [
    "correct_sents.double() / total_sents"
   ]
  },
  {
   "cell_type": "code",
   "execution_count": 232,
   "metadata": {},
   "outputs": [
    {
     "data": {
      "text/plain": [
       "0.9444281891279506"
      ]
     },
     "execution_count": 232,
     "metadata": {},
     "output_type": "execute_result"
    }
   ],
   "source": [
    "np.array(accuracy_b).mean()"
   ]
  },
  {
   "cell_type": "code",
   "execution_count": 233,
   "metadata": {},
   "outputs": [
    {
     "data": {
      "text/plain": [
       "tensor(0.6217, device='cuda:0', dtype=torch.float64)"
      ]
     },
     "execution_count": 233,
     "metadata": {},
     "output_type": "execute_result"
    }
   ],
   "source": [
    "correct_sents.double() / total_sents"
   ]
  },
  {
   "cell_type": "code",
   "execution_count": 83,
   "metadata": {},
   "outputs": [
    {
     "data": {
      "text/plain": [
       "0.9225361150219267"
      ]
     },
     "execution_count": 83,
     "metadata": {},
     "output_type": "execute_result"
    }
   ],
   "source": [
    "np.array(accuracy_b).mean()"
   ]
  },
  {
   "cell_type": "code",
   "execution_count": 84,
   "metadata": {},
   "outputs": [
    {
     "data": {
      "text/plain": [
       "tensor(0.5227, device='cuda:0', dtype=torch.float64)"
      ]
     },
     "execution_count": 84,
     "metadata": {},
     "output_type": "execute_result"
    }
   ],
   "source": [
    "correct_sents.double() / total_sents"
   ]
  },
  {
   "cell_type": "code",
   "execution_count": 56,
   "metadata": {},
   "outputs": [
    {
     "data": {
      "text/plain": [
       "0.9170018707595056"
      ]
     },
     "execution_count": 56,
     "metadata": {},
     "output_type": "execute_result"
    }
   ],
   "source": [
    "np.array(accuracy_b).mean()"
   ]
  },
  {
   "cell_type": "code",
   "execution_count": 57,
   "metadata": {},
   "outputs": [
    {
     "data": {
      "text/plain": [
       "tensor(0.5008, device='cuda:0', dtype=torch.float64)"
      ]
     },
     "execution_count": 57,
     "metadata": {},
     "output_type": "execute_result"
    }
   ],
   "source": [
    "correct_sents.double() / total_sents"
   ]
  },
  {
   "cell_type": "code",
   "execution_count": 26,
   "metadata": {},
   "outputs": [
    {
     "data": {
      "text/plain": [
       "0.916603915814975"
      ]
     },
     "execution_count": 26,
     "metadata": {},
     "output_type": "execute_result"
    }
   ],
   "source": [
    "np.array(accuracy_b).mean()"
   ]
  },
  {
   "cell_type": "code",
   "execution_count": 27,
   "metadata": {},
   "outputs": [
    {
     "data": {
      "text/plain": [
       "tensor(0.4996, device='cuda:0', dtype=torch.float64)"
      ]
     },
     "execution_count": 27,
     "metadata": {},
     "output_type": "execute_result"
    }
   ],
   "source": [
    "correct_sents.double() / total_sents"
   ]
  },
  {
   "cell_type": "code",
   "execution_count": 28,
   "metadata": {},
   "outputs": [
    {
     "data": {
      "text/plain": [
       "True"
      ]
     },
     "execution_count": 28,
     "metadata": {},
     "output_type": "execute_result"
    }
   ],
   "source": [
    "next(model.parameters()).is_cuda"
   ]
  },
  {
   "cell_type": "code",
   "execution_count": 251,
   "metadata": {},
   "outputs": [],
   "source": [
    "del model\n",
    "model = torch.load(\"512ASmodel1layergru_epoch_4.pt\")\n",
    "now_lr = 1e-3\n",
    "opt = adabound.AdaBound(model.parameters(), lr=1e-3, final_lr=2e-3)\n",
    "lrlambda = lambda epoch: 0.8\n",
    "sched = optim.lr_scheduler.MultiplicativeLR(opt, lr_lambda=lrlambda)"
   ]
  },
  {
   "cell_type": "code",
   "execution_count": 252,
   "metadata": {},
   "outputs": [],
   "source": [
    "file_output_b = open(\"Religionv1_512AS_model_training_GRU1LAYER_output_batch\", \"wt\", buffering=1)\n",
    "file_output_e = open(\"Religionv1_512AS_model_training_GRU1LAYER_output_epoch\", \"wt\", buffering=1)\n"
   ]
  },
  {
   "cell_type": "code",
   "execution_count": 253,
   "metadata": {},
   "outputs": [],
   "source": [
    "file_output_b_n = open(\"Religionv1_512AS_model_eval_GRU1LAYER_output_batch\", \"wt\", buffering=1)\n"
   ]
  },
  {
   "cell_type": "code",
   "execution_count": 260,
   "metadata": {},
   "outputs": [
    {
     "name": "stdout",
     "output_type": "stream",
     "text": [
      "2020-06-09 21:51:14.233885\n"
     ]
    }
   ],
   "source": [
    "import datetime\n",
    "print(datetime.datetime.now())\n",
    "\n",
    "new_batch_size = 256\n",
    "#sched = optim.lr_scheduler.CosineAnnealingLR(opt, DATA_LENGTH)\n",
    "tbegin = time.time()\n",
    "modt = 0\n",
    "test_losses_data = []\n",
    "train_losses_data = []\n",
    "for epoch in range(11, 12):\n",
    "    train_losses = []\n",
    "    test_losses = []\n",
    "    last_train_loss = 0\n",
    "    last_test_loss = 0\n",
    "    batch_n = 0\n",
    "    for file_idx in range(0, 8):\n",
    "        local_batch_n = 0\n",
    "        my_data_from_file = torch.load(f\"source_files/data_1024_ixy_{file_idx}\")\n",
    "        for is_test, x1, y1 in my_data_from_file:\n",
    "            if (file_idx == 7 and local_batch_n >= 2193):\n",
    "                break\n",
    "            local_batch_n += 1\n",
    "            for batch_ind in range((len(y1) - 1) // new_batch_size + 1):\n",
    "                x = x1[batch_ind * new_batch_size : batch_ind * new_batch_size + new_batch_size]\n",
    "                y = y1[batch_ind * new_batch_size : batch_ind * new_batch_size + new_batch_size]\n",
    "                target = pad_sequence([torch.tensor([rev_dict[i.data.item()] for i in j]) for j in y], batch_first=True)\n",
    "                mask = (target != 0)\n",
    "                batch_n += 1\n",
    "                tt = time.time()\n",
    "                opt.zero_grad()\n",
    "                x_inp = pad_sequence(x, batch_first=True).long().to(device)\n",
    "                target_inp = target.view(-1).to(device)\n",
    "                maskinp = mask.view(-1).to(device)\n",
    "                loss = model(x_inp, target_inp, maskinp)\n",
    "                if (is_test == 0):\n",
    "                    loss.backward()\n",
    "                    opt.step()\n",
    "                    del x_inp\n",
    "                    del target_inp\n",
    "                    train_losses.append(loss.data.item() / torch.sum(maskinp).data.item())\n",
    "                    train_losses_data.append(loss.data.item() / torch.sum(maskinp).data.item())\n",
    "                    del maskinp\n",
    "                else:\n",
    "                    del x_inp\n",
    "                    del target_inp\n",
    "                    test_losses_data.append(loss.data.item() / torch.sum(maskinp).data.item())\n",
    "                    test_losses.append(loss.data.item() / torch.sum(maskinp).data.item())\n",
    "                    del maskinp\n",
    "                modt += time.time() - tt\n",
    "                if (batch_n % (100 * 2048 // new_batch_size) == 0):\n",
    "                    print('Batch [{}]\\t Test loss: {}, Train loss: {}, Time: {}, Model Time: {}'.format(batch_n, np.array(test_losses[-(100 * 2048 // new_batch_size):]).mean(), np.array(train_losses[-(100 * 2048 // new_batch_size):]).mean(), time.time() - tbegin, modt), file=file_output_b)\n",
    "        del my_data_from_file\n",
    "    if (epoch > 5):\n",
    "        sched.step()\n",
    "    torch.save(model, f\"Religionv1_512ASmodel1layergru_epoch_{epoch + 1}.pt\")\n",
    "    print('epoch [{} / {}]\\t Test loss: {}, Train loss: {}, Time: {}'.format(epoch, n_epochs, np.array(test_losses).mean(), np.array(train_losses).mean(), time.time() - tbegin), file=file_output_e)"
   ]
  },
  {
   "cell_type": "code",
   "execution_count": null,
   "metadata": {},
   "outputs": [
    {
     "name": "stdout",
     "output_type": "stream",
     "text": [
      "2020-06-10 01:59:12.913689\n"
     ]
    }
   ],
   "source": [
    "mistakes_dict = [0] * (vocab_word_size + 3)\n",
    "#loss_f = nn.CrossEntropyLoss(reduction='none').to(device)\n",
    "import datetime\n",
    "print(datetime.datetime.now())\n",
    "\n",
    "new_batch_size = 64\n",
    "#sched = optim.lr_scheduler.CosineAnnealingLR(opt, DATA_LENGTH)\n",
    "tbegin = time.time()\n",
    "modt = 0\n",
    "accuracy_b = []\n",
    "last_train_loss = 0\n",
    "last_test_loss = 0\n",
    "batch_n = 0\n",
    "cou_total = 0\n",
    "cou_mistakes = 0\n",
    "cou_first_word_mistakes = 0\n",
    "correct_sents = 0\n",
    "total_sents = 0\n",
    "for file_idx in range(0, 8):\n",
    "    local_batch_n = 0\n",
    "    my_data_from_file = torch.load(f\"source_files/data_1024_ixy_{file_idx}\")\n",
    "    for is_test, x1, y1 in my_data_from_file:\n",
    "        if (file_idx == 7 and local_batch_n >= 2193):\n",
    "            break\n",
    "        local_batch_n += 1\n",
    "        if (is_test == 0):\n",
    "            continue\n",
    "        for batch_ind in range((len(y1) - 1) // new_batch_size + 1):\n",
    "            x = x1[batch_ind * new_batch_size : batch_ind * new_batch_size + new_batch_size]\n",
    "            y = y1[batch_ind * new_batch_size : batch_ind * new_batch_size + new_batch_size]\n",
    "            target = pad_sequence([torch.tensor([rev_dict[i.data.item()] for i in j]) for j in y], batch_first=True)\n",
    "            mask = (target != 0)\n",
    "            batch_n += 1\n",
    "            tt = time.time()\n",
    "            x_inp = pad_sequence(x, batch_first=True).long().to(device)\n",
    "            target_inp = target.view(-1).to(device)\n",
    "            maskinp = mask.view(-1).to(device)\n",
    "            out = model.predict(x_inp)\n",
    "            for i in target * (target != out.cpu().reshape(target.shape)) * mask:\n",
    "                for j in i:\n",
    "                    mistakes_dict[j.data.item()] += 1\n",
    "            correct_sents += torch.sum(torch.sum(((target_inp == out).double() * maskinp).reshape(target.shape), dim=1) == torch.sum((maskinp).reshape(target.shape), dim=1))\n",
    "            total_sents += len(y)\n",
    "            cou_mistakes += torch.sum((target_inp == out).double() * maskinp)\n",
    "            cou_total += torch.sum(maskinp)\n",
    "            accuracy = torch.sum((target_inp == out).double() * maskinp) / torch.sum(maskinp)\n",
    "            cou_first_word_mistakes += torch.sum((out.reshape(target.shape)[:, 0] != target_inp.reshape(target.shape)[:, 0]).double())\n",
    "            accuracy_b.append(accuracy.data.item())\n",
    "            del x_inp\n",
    "            del target_inp\n",
    "            del maskinp\n",
    "            modt += time.time() - tt\n",
    "            if (batch_n % (100 * 2048 // new_batch_size) == 0):\n",
    "                print('Batch: [{}]\\t Accuracy: {}, Time: {}, Model Time: {}'.format(batch_n, np.array(accuracy_b[-(100 * 2048 // new_batch_size)]).mean(), time.time() - tbegin, modt), file=file_output_b_n)\n",
    "    del my_data_from_file\n"
   ]
  },
  {
   "cell_type": "code",
   "execution_count": 262,
   "metadata": {},
   "outputs": [
    {
     "data": {
      "text/plain": [
       "0.9419921533799485"
      ]
     },
     "execution_count": 262,
     "metadata": {},
     "output_type": "execute_result"
    }
   ],
   "source": [
    "np.array(accuracy_b).mean()"
   ]
  },
  {
   "cell_type": "code",
   "execution_count": 263,
   "metadata": {},
   "outputs": [
    {
     "data": {
      "text/plain": [
       "tensor(0.6323, device='cuda:0', dtype=torch.float64)"
      ]
     },
     "execution_count": 263,
     "metadata": {},
     "output_type": "execute_result"
    }
   ],
   "source": [
    "correct_sents.double() / total_sents"
   ]
  },
  {
   "cell_type": "code",
   "execution_count": 34,
   "metadata": {},
   "outputs": [
    {
     "data": {
      "text/plain": [
       "0.9197503317460483"
      ]
     },
     "execution_count": 34,
     "metadata": {},
     "output_type": "execute_result"
    }
   ],
   "source": [
    "np.array(accuracy_b).mean()"
   ]
  },
  {
   "cell_type": "code",
   "execution_count": 35,
   "metadata": {},
   "outputs": [
    {
     "data": {
      "text/plain": [
       "tensor(0.5394, device='cuda:0', dtype=torch.float64)"
      ]
     },
     "execution_count": 35,
     "metadata": {},
     "output_type": "execute_result"
    }
   ],
   "source": [
    "correct_sents.double() / total_sents"
   ]
  },
  {
   "cell_type": "code",
   "execution_count": 264,
   "metadata": {},
   "outputs": [],
   "source": [
    "del model\n",
    "model = torch.load(\"512ASmodel1layergru_epoch_4.pt\")\n",
    "now_lr = 1e-3\n",
    "opt = adabound.AdaBound(model.parameters(), lr=1e-3, final_lr=2e-3)\n",
    "lrlambda = lambda epoch: 0.8\n",
    "sched = optim.lr_scheduler.MultiplicativeLR(opt, lr_lambda=lrlambda)"
   ]
  },
  {
   "cell_type": "code",
   "execution_count": 265,
   "metadata": {},
   "outputs": [],
   "source": [
    "file_output_b = open(\"Gardeningv1_512AS_model_training_GRU1LAYER_output_batch\", \"wt\", buffering=1)\n",
    "file_output_e = open(\"Gardeningv1_512AS_model_training_GRU1LAYER_output_epoch\", \"wt\", buffering=1)\n"
   ]
  },
  {
   "cell_type": "code",
   "execution_count": 266,
   "metadata": {},
   "outputs": [],
   "source": [
    "file_output_b_n = open(\"Gardeningv1_512AS_model_eval_GRU1LAYER_output_batch\", \"wt\", buffering=1)\n"
   ]
  },
  {
   "cell_type": "code",
   "execution_count": 269,
   "metadata": {},
   "outputs": [
    {
     "name": "stdout",
     "output_type": "stream",
     "text": [
      "2020-06-10 14:40:40.390041\n"
     ]
    }
   ],
   "source": [
    "import datetime\n",
    "print(datetime.datetime.now())\n",
    "\n",
    "new_batch_size = 256\n",
    "#sched = optim.lr_scheduler.CosineAnnealingLR(opt, DATA_LENGTH)\n",
    "tbegin = time.time()\n",
    "modt = 0\n",
    "test_losses_data = []\n",
    "train_losses_data = []\n",
    "for epoch in range(9, 18):\n",
    "    if (epoch > 8):\n",
    "        sched.step()\n",
    "    train_losses = []\n",
    "    test_losses = []\n",
    "    last_train_loss = 0\n",
    "    last_test_loss = 0\n",
    "    batch_n = 0\n",
    "    for file_idx in range(7, 11):\n",
    "        local_batch_n = 0\n",
    "        my_data_from_file = torch.load(f\"source_files/data_1024_ixy_{file_idx}\")\n",
    "        for is_test, x1, y1 in my_data_from_file:\n",
    "            if (file_idx == 7 and local_batch_n < 2193):\n",
    "                local_batch_n += 1\n",
    "                continue\n",
    "            if (file_idx == 10 and local_batch_n > 624):\n",
    "                break\n",
    "            local_batch_n += 1\n",
    "            for batch_ind in range((len(y1) - 1) // new_batch_size + 1):\n",
    "                x = x1[batch_ind * new_batch_size : batch_ind * new_batch_size + new_batch_size]\n",
    "                y = y1[batch_ind * new_batch_size : batch_ind * new_batch_size + new_batch_size]\n",
    "                target = pad_sequence([torch.tensor([rev_dict[i.data.item()] for i in j]) for j in y], batch_first=True)\n",
    "                mask = (target != 0)\n",
    "                batch_n += 1\n",
    "                tt = time.time()\n",
    "                opt.zero_grad()\n",
    "                x_inp = pad_sequence(x, batch_first=True).long().to(device)\n",
    "                target_inp = target.view(-1).to(device)\n",
    "                maskinp = mask.view(-1).to(device)\n",
    "                loss = model(x_inp, target_inp, maskinp)\n",
    "                if (is_test == 0):\n",
    "                    loss.backward()\n",
    "                    opt.step()\n",
    "                    del x_inp\n",
    "                    del target_inp\n",
    "                    train_losses.append(loss.data.item() / torch.sum(maskinp).data.item())\n",
    "                    train_losses_data.append(loss.data.item() / torch.sum(maskinp).data.item())\n",
    "                    del maskinp\n",
    "                else:\n",
    "                    del x_inp\n",
    "                    del target_inp\n",
    "                    test_losses_data.append(loss.data.item() / torch.sum(maskinp).data.item())\n",
    "                    test_losses.append(loss.data.item() / torch.sum(maskinp).data.item())\n",
    "                    del maskinp\n",
    "                modt += time.time() - tt\n",
    "                if (batch_n % (100 * 2048 // new_batch_size) == 0):\n",
    "                    print('Batch [{}]\\t Test loss: {}, Train loss: {}, Time: {}, Model Time: {}'.format(batch_n, np.array(test_losses[-(100 * 2048 // new_batch_size):]).mean(), np.array(train_losses[-(100 * 2048 // new_batch_size):]).mean(), time.time() - tbegin, modt), file=file_output_b)\n",
    "        del my_data_from_file\n",
    "    torch.save(model, f\"Gardening_512ASmodel1layergru_epoch_{epoch + 1}.pt\")\n",
    "    print('epoch [{} / {}]\\t Test loss: {}, Train loss: {}, Time: {}'.format(epoch, n_epochs, np.array(test_losses).mean(), np.array(train_losses).mean(), time.time() - tbegin), file=file_output_e)"
   ]
  },
  {
   "cell_type": "code",
   "execution_count": 283,
   "metadata": {},
   "outputs": [
    {
     "data": {
      "text/plain": [
       "1"
      ]
     },
     "execution_count": 283,
     "metadata": {},
     "output_type": "execute_result"
    }
   ],
   "source": [
    "rev_dict[EOS_voc]"
   ]
  },
  {
   "cell_type": "code",
   "execution_count": 296,
   "metadata": {},
   "outputs": [
    {
     "data": {
      "text/plain": [
       "425"
      ]
     },
     "execution_count": 296,
     "metadata": {},
     "output_type": "execute_result"
    }
   ],
   "source": [
    "rev_dict[3]"
   ]
  },
  {
   "cell_type": "code",
   "execution_count": 298,
   "metadata": {},
   "outputs": [],
   "source": [
    "w2i_dict = torch.load(\"source_files/word_2_ind_dict\")\n",
    "i2w = dict()"
   ]
  },
  {
   "cell_type": "code",
   "execution_count": 299,
   "metadata": {},
   "outputs": [],
   "source": [
    "for i in w2i_dict.keys():\n",
    "    i2w[w2i_dict[i]] = i"
   ]
  },
  {
   "cell_type": "code",
   "execution_count": 340,
   "metadata": {},
   "outputs": [],
   "source": [
    "rev_rev_dict = dict()"
   ]
  },
  {
   "cell_type": "code",
   "execution_count": 341,
   "metadata": {},
   "outputs": [],
   "source": [
    "for_dict = dict()"
   ]
  },
  {
   "cell_type": "code",
   "execution_count": 342,
   "metadata": {},
   "outputs": [],
   "source": [
    "for i in rev_dict.keys():\n",
    "    rev_rev_dict[rev_dict[i]] = i"
   ]
  },
  {
   "cell_type": "code",
   "execution_count": null,
   "metadata": {},
   "outputs": [],
   "source": []
  },
  {
   "cell_type": "code",
   "execution_count": 348,
   "metadata": {},
   "outputs": [],
   "source": [
    "for i in rev_dict.keys():\n",
    "    if (i != 0):\n",
    "        if (i == 1):\n",
    "            for_dict[i] = 'EOS'\n",
    "        else:\n",
    "            for_dict[i] = i2w[rev_rev_dict[i] - 1]\n",
    "        "
   ]
  },
  {
   "cell_type": "code",
   "execution_count": 353,
   "metadata": {},
   "outputs": [
    {
     "data": {
      "text/plain": [
       "'и'"
      ]
     },
     "execution_count": 353,
     "metadata": {},
     "output_type": "execute_result"
    }
   ],
   "source": [
    "for_dict[2]"
   ]
  },
  {
   "cell_type": "code",
   "execution_count": 352,
   "metadata": {},
   "outputs": [],
   "source": [
    "def is_equal(word_letters, word_idx):\n",
    "    word = for_dict[word_idx]\n",
    "    if (len(word) >= 16):\n",
    "        return False\n",
    "    if (word == 'EOS'):\n",
    "        ret = [34] * 16\n",
    "    else:\n",
    "        ret = []\n",
    "        for i in range(16 - len(word) - 1):\n",
    "            ret.append(0)\n",
    "        for i in word:\n",
    "            ret.append(ord(i) - ord('а') + 1)\n",
    "        ret.append(33)\n",
    "    return (ret == word_letters)"
   ]
  },
  {
   "cell_type": "code",
   "execution_count": 270,
   "metadata": {},
   "outputs": [
    {
     "name": "stdout",
     "output_type": "stream",
     "text": [
      "2020-06-11 01:59:28.754145\n"
     ]
    }
   ],
   "source": [
    "mistakes_dict = [0] * (vocab_word_size + 3)\n",
    "#loss_f = nn.CrossEntropyLoss(reduction='none').to(device)\n",
    "import datetime\n",
    "print(datetime.datetime.now())\n",
    "\n",
    "new_batch_size = 64\n",
    "#sched = optim.lr_scheduler.CosineAnnealingLR(opt, DATA_LENGTH)\n",
    "tbegin = time.time()\n",
    "modt = 0\n",
    "accuracy_b = []\n",
    "last_train_loss = 0\n",
    "last_test_loss = 0\n",
    "batch_n = 0\n",
    "cou_total = 0\n",
    "cou_mistakes = 0\n",
    "cou_first_word_mistakes = 0\n",
    "correct_sents = 0\n",
    "total_sents = 0\n",
    "cou_wrong = 0\n",
    "cou_changed = 0\n",
    "cou_correctly_changed = 0\n",
    "for file_idx in range(7, 11):\n",
    "    local_batch_n = 0\n",
    "    my_data_from_file = torch.load(f\"source_files/data_1024_ixy_{file_idx}\")\n",
    "    for is_test, x1, y1 in my_data_from_file:\n",
    "        if (file_idx == 7 and local_batch_n < 2193):\n",
    "            local_batch_n += 1\n",
    "            continue\n",
    "        if (file_idx == 10 and local_batch_n > 624):\n",
    "            break\n",
    "        local_batch_n += 1\n",
    "        if (is_test == 0):\n",
    "            continue\n",
    "        for batch_ind in range((len(y1) - 1) // new_batch_size + 1):\n",
    "            x = x1[batch_ind * new_batch_size : batch_ind * new_batch_size + new_batch_size]\n",
    "            y = y1[batch_ind * new_batch_size : batch_ind * new_batch_size + new_batch_size]\n",
    "            target = pad_sequence([torch.tensor([rev_dict[i.data.item()] for i in j]) for j in y], batch_first=True)\n",
    "            mask = (target != 0)\n",
    "            batch_n += 1\n",
    "            tt = time.time()\n",
    "            x_inp = pad_sequence(x, batch_first=True).long().to(device)\n",
    "            target_inp = target.view(-1).to(device)\n",
    "            maskinp = mask.view(-1).to(device)\n",
    "            out = model.predict(x_inp)\n",
    "            out_r = out.reshape(target.shape)\n",
    "            for i in range(len(target)):\n",
    "                for j in range(len(target[i])):\n",
    "                    if \n",
    "            correct_sents += torch.sum(torch.sum(((target_inp == out).double() * maskinp).reshape(target.shape), dim=1) == torch.sum((maskinp).reshape(target.shape), dim=1))\n",
    "            total_sents += len(y)\n",
    "            cou_mistakes += torch.sum((target_inp == out).double() * maskinp)\n",
    "            cou_total += torch.sum(maskinp)\n",
    "            accuracy = torch.sum((target_inp == out).double() * maskinp) / torch.sum(maskinp)\n",
    "            cou_first_word_mistakes += torch.sum((out.reshape(target.shape)[:, 0] != target_inp.reshape(target.shape)[:, 0]).double())\n",
    "            accuracy_b.append(accuracy.data.item())\n",
    "            del x_inp\n",
    "            del target_inp\n",
    "            del maskinp\n",
    "            modt += time.time() - tt\n",
    "            if (batch_n % (100 * 2048 // new_batch_size) == 0):\n",
    "                print('Batch: [{}]\\t Accuracy: {}, Time: {}, Model Time: {}'.format(batch_n, np.array(accuracy_b[-(100 * 2048 // new_batch_size)]).mean(), time.time() - tbegin, modt), file=file_output_b_n)\n",
    "    del my_data_from_file\n"
   ]
  },
  {
   "cell_type": "code",
   "execution_count": 280,
   "metadata": {},
   "outputs": [
    {
     "name": "stdout",
     "output_type": "stream",
     "text": [
      "torch.Size([27, 15, 16])\n",
      "torch.Size([405])\n",
      "torch.Size([27, 15])\n"
     ]
    }
   ],
   "source": [
    "print(pad_sequence(x, batch_first=True).shape)\n",
    "print(out.shape)\n",
    "print(target.shape)"
   ]
  },
  {
   "cell_type": "code",
   "execution_count": 271,
   "metadata": {},
   "outputs": [
    {
     "data": {
      "text/plain": [
       "0.9576193800351875"
      ]
     },
     "execution_count": 271,
     "metadata": {},
     "output_type": "execute_result"
    }
   ],
   "source": [
    "np.array(accuracy_b).mean()"
   ]
  },
  {
   "cell_type": "code",
   "execution_count": 272,
   "metadata": {},
   "outputs": [
    {
     "data": {
      "text/plain": [
       "tensor(0.7227, device='cuda:0', dtype=torch.float64)"
      ]
     },
     "execution_count": 272,
     "metadata": {},
     "output_type": "execute_result"
    }
   ],
   "source": [
    "correct_sents.double() / total_sents"
   ]
  },
  {
   "cell_type": "code",
   "execution_count": 24,
   "metadata": {},
   "outputs": [],
   "source": [
    "del model"
   ]
  },
  {
   "cell_type": "code",
   "execution_count": 268,
   "metadata": {},
   "outputs": [
    {
     "ename": "NameError",
     "evalue": "name 'my_data_from_file' is not defined",
     "output_type": "error",
     "traceback": [
      "\u001b[0;31m---------------------------------------------------------------------------\u001b[0m",
      "\u001b[0;31mNameError\u001b[0m                                 Traceback (most recent call last)",
      "\u001b[0;32m<ipython-input-268-2f8afe99784b>\u001b[0m in \u001b[0;36m<module>\u001b[0;34m\u001b[0m\n\u001b[0;32m----> 1\u001b[0;31m \u001b[0;32mdel\u001b[0m \u001b[0mmy_data_from_file\u001b[0m\u001b[0;34m\u001b[0m\u001b[0m\n\u001b[0m",
      "\u001b[0;31mNameError\u001b[0m: name 'my_data_from_file' is not defined"
     ]
    }
   ],
   "source": [
    "del my_data_from_file"
   ]
  },
  {
   "cell_type": "code",
   "execution_count": 16,
   "metadata": {},
   "outputs": [],
   "source": [
    "#model = torch.load(\"model_epoch_4.pt\")\n",
    "model = NRNN(vec_size // 2, 35, vocab_word_size)\n",
    "model = model.to(device)\n"
   ]
  },
  {
   "cell_type": "code",
   "execution_count": 17,
   "metadata": {},
   "outputs": [],
   "source": [
    "#opt = optim.Adam(model.parameters(), lr=starting_lr)\n",
    "opt = optim.Adam(model.parameters(), lr=starting_lr)"
   ]
  },
  {
   "cell_type": "code",
   "execution_count": 18,
   "metadata": {},
   "outputs": [],
   "source": [
    "file_output_b = open(\"512AS_model_training_GRU1LAYER_output_batch\", \"wt\", buffering=1)\n",
    "file_output_e = open(\"512AS_model_training_GRU1LAYER_output_epoch\", \"wt\", buffering=1)"
   ]
  },
  {
   "cell_type": "code",
   "execution_count": 19,
   "metadata": {},
   "outputs": [],
   "source": [
    "file_output_b_n = open(\"512AS_model_eval_GRU1LAYER_output_batch\", \"wt\", buffering=1)"
   ]
  },
  {
   "cell_type": "code",
   "execution_count": 27,
   "metadata": {
    "scrolled": true
   },
   "outputs": [
    {
     "name": "stdout",
     "output_type": "stream",
     "text": [
      "2020-05-28 01:50:46.718212\n"
     ]
    },
    {
     "name": "stderr",
     "output_type": "stream",
     "text": [
      "/home/user1/.pyenv/versions/3.6.6/lib/python3.6/site-packages/torch/serialization.py:360: UserWarning: Couldn't retrieve source code for container of type NRNN. It won't be checked for correctness upon loading.\n",
      "  \"type \" + obj.__name__ + \". It won't be checked \"\n",
      "/home/user1/.pyenv/versions/3.6.6/lib/python3.6/site-packages/torch/serialization.py:360: UserWarning: Couldn't retrieve source code for container of type CharGRU. It won't be checked for correctness upon loading.\n",
      "  \"type \" + obj.__name__ + \". It won't be checked \"\n"
     ]
    }
   ],
   "source": [
    "import datetime\n",
    "print(datetime.datetime.now())\n",
    "\n",
    "new_batch_size = 256\n",
    "#sched = optim.lr_scheduler.CosineAnnealingLR(opt, DATA_LENGTH)\n",
    "tbegin = time.time()\n",
    "modt = 0\n",
    "test_losses_data = []\n",
    "train_losses_data = []\n",
    "for epoch in range(1, 3):\n",
    "    train_losses = []\n",
    "    test_losses = []\n",
    "    last_train_loss = 0\n",
    "    last_test_loss = 0\n",
    "    batch_n = 0\n",
    "    for file_idx in range(fileind):\n",
    "        my_data_from_file = torch.load(f\"source_files/data_1024_ixy_{file_idx}\")\n",
    "        for is_test, x1, y1 in my_data_from_file:\n",
    "            for batch_ind in range((len(y1) - 1) // new_batch_size + 1):\n",
    "                x = x1[batch_ind * new_batch_size : batch_ind * new_batch_size + new_batch_size]\n",
    "                y = y1[batch_ind * new_batch_size : batch_ind * new_batch_size + new_batch_size]\n",
    "                target = pad_sequence([torch.tensor([rev_dict[i.data.item()] for i in j]) for j in y], batch_first=True)\n",
    "                mask = (target != 0)\n",
    "                batch_n += 1\n",
    "                tt = time.time()\n",
    "                opt.zero_grad()\n",
    "                x_inp = pad_sequence(x, batch_first=True).long().to(device)\n",
    "                target_inp = target.view(-1).to(device)\n",
    "                maskinp = mask.view(-1).to(device)\n",
    "                loss = model(x_inp, target_inp, maskinp)\n",
    "                if (is_test == 0):\n",
    "                    loss.backward()\n",
    "                    opt.step()\n",
    "                    del x_inp\n",
    "                    del target_inp\n",
    "                    train_losses.append(loss.data.item() / torch.sum(maskinp).data.item())\n",
    "                    train_losses_data.append(loss.data.item() / torch.sum(maskinp).data.item())\n",
    "                    del maskinp\n",
    "                else:\n",
    "                    del x_inp\n",
    "                    del target_inp\n",
    "                    test_losses_data.append(loss.data.item() / torch.sum(maskinp).data.item())\n",
    "                    test_losses.append(loss.data.item() / torch.sum(maskinp).data.item())\n",
    "                    del maskinp\n",
    "                modt += time.time() - tt\n",
    "                if (batch_n % (100 * 2048 // new_batch_size) == 0):\n",
    "                    print('Batch [{}]\\t Test loss: {}, Train loss: {}, Time: {}, Model Time: {}'.format(batch_n, np.array(test_losses[-(100 * 2048 // new_batch_size):]).mean(), np.array(train_losses[-(100 * 2048 // new_batch_size):]).mean(), time.time() - tbegin, modt), file=file_output_b)\n",
    "        del my_data_from_file\n",
    "    torch.save(model, f\"512ASmodel1layergru_epoch_{epoch + 1}.pt\")\n",
    "    print('epoch [{} / {}]\\t Test loss: {}, Train loss: {}, Time: {}'.format(epoch, n_epochs, np.array(test_losses).mean(), np.array(train_losses).mean(), time.time() - tbegin), file=file_output_e)"
   ]
  },
  {
   "cell_type": "code",
   "execution_count": 21,
   "metadata": {
    "scrolled": true
   },
   "outputs": [
    {
     "name": "stdout",
     "output_type": "stream",
     "text": [
      "[1.7748912296092565, 1.8125491193464214, 1.5851389548859571, 1.6891091178818003, 1.8989859105495388, 1.641058711431001, 1.7173554448219754, 1.8734234973733004, 1.6308355326669157, 1.8425778917446258, 1.8470264899661508, 1.7974180347542243, 1.7899322268710505, 1.9064566096904114, 1.8430134811808734, 1.552415257651356, 1.6404313994894628, 1.8394830230865225, 1.7690615942875842, 1.6204699221886292, 1.5702802917310184, 1.7168511896373544, 1.7979083304693637, 1.908150917555947, 1.710072148105851, 1.5356097809467246, 1.7334453876201923, 1.7459079043752483, 2.0735707002527572, 1.653542651498749, 1.5991685655381944, 1.6999959933822006, 1.5564840498326096, 1.56892197231413, 1.8669381528087436, 1.6414411489794427, 1.7461189226915608, 2.023073732423439, 2.0864625413147264, 1.7812137056719048, 1.605304097020349, 1.6966676715507827, 1.9069563680620336, 1.624908069904268, 1.5879282528025012, 1.7311414744037388, 1.4849166844122657, 1.4633290534831518, 1.7135035148865785, 1.4383732905397173, 2.2764667052327714, 1.587554176203798, 1.5113884043738275, 1.7697778624537577, 1.7544704740279324, 1.704195778803816, 1.8457781810418445, 2.015063744442868, 1.9706615530669505, 1.4977044162658504, 1.727155172413793, 1.8127182090873328, 1.7576331277709916, 1.840850969232287, 1.6543668130286655, 1.928282928159036, 1.740337086585867, 1.9257567234302995, 1.8346853431748467, 1.8485348234570238, 1.859848597571672, 2.1049983468556825, 1.5945436975164993, 1.6021363947685523, 1.7176634264569504, 1.8365277031189602, 1.7143727709937073, 1.7384591646513503, 1.6456994690153415, 1.911573624866167, 1.8754763049105347, 1.8036741969996237, 1.9537543968654933, 1.7560525025478764, 1.990366849864946, 1.6808770710989933, 1.7513570562353744, 1.6757925153208364, 1.8648380295502092, 2.059787927868625, 1.615793859620072, 1.797401194023113, 1.7536792327594, 1.6989492247228593, 1.6839457933396835, 2.3495614225288217, 1.7786043265446674, 1.8484384318344467, 1.9948153721080633, 1.8177501931415294, 1.7582416935189689, 1.508429012510693, 1.6072446713395043, 1.8009107303314698, 1.744456527021773, 1.6465089828249009, 1.4680788143855539, 1.7072292941433567, 1.7992333764428492, 1.638577156942795, 1.8642730914637506, 1.8027047267381935, 1.6967636634563577, 1.7100706636235956, 1.3940954567527422, 1.593634120258023, 1.9660194231781276, 1.5748949277222526, 1.6805615234375, 1.4486401132263138, 1.7501563073604993, 1.5218941074875392, 1.952052681177043, 1.8778302087383358, 1.957722350471615, 1.6670797146051681, 1.5851480099059294, 1.7335602986878453, 1.7502774081387362, 1.7767991671368486, 1.6928352877146855, 1.5581191508866024, 1.581939093971466, 1.6343783967391305, 2.068386178922745, 2.215975212872988, 2.13342731518283, 1.7874857347513597, 1.7396141361224688, 1.9108704734200577, 1.731783296692286, 1.670067305007446, 1.709118160485348, 1.5190770071086426, 1.7431147898093702, 2.0635262251198414, 2.1488527193451223, 1.6558537651658964, 1.6017417494158879, 1.534731074565832, 2.3004036011333806, 1.472940471899678, 1.4936636802964345, 1.697186895612785, 1.6459109486209964, 1.8751100331310495, 1.784890663023801, 1.3585515652972304, 1.6814514794715056, 1.782595755531638, 1.6028761365298363, 1.7083398782727575, 1.840762892666594, 1.9764558204369596, 1.5436635313503748, 1.6628633065812277, 1.5503179147492487, 1.9902205416108345, 1.6981749963350274, 1.776639181765124, 1.4667664261242122, 1.7985935946819085, 1.6556043973636507, 1.7404375458072179, 1.7920548430586283, 1.7453076171875, 1.7317027980998412, 1.790582219395069, 1.6003858252599243, 1.6911792293083299, 1.5985153141093165, 1.6758604418329832, 2.679475369308115, 2.0387053486036724, 1.6099215934926219, 1.6081062906465187, 1.7996410851074414, 1.5459093913379278, 1.7115221870482238, 1.9160895250784422, 1.8171820345899727, 1.567569550479886, 1.7330630186027838, 1.8131845003730107, 1.8535702803497942, 1.787648814529512, 1.5688210905884667, 1.71977884271557, 1.9668068442522806, 1.8282033738057324, 1.7930493818845785, 1.9859159172442404, 1.7027754247122169, 1.6881639749516095, 1.7807124049588754, 2.017425918118204, 2.041259856552607, 1.632908329871282, 1.787324665920421, 1.9264678718507753, 1.6875588991530157, 1.8663291794859072, 1.8205997942909387, 1.748508736222445, 1.9401117558284762, 1.8557730148087686, 1.7553915694654325, 1.7856181535114046, 1.7241565981724003, 2.6247405842197, 1.7196754073156326, 1.8456325202290877, 1.666264484714004, 1.7305883373547115, 2.1399017076296745, 1.942459448570628, 1.8274611003250298, 1.8110612802468384, 1.7585138391565394, 1.9460188018160285, 2.0568807943212626, 1.7347302516517684, 1.9161914848465795, 1.5037168112230257, 1.7480225313530078, 1.7205550169809407, 2.084782913192703, 1.9233822371608527, 1.6926984965208747, 1.9731904824314648, 1.8737705338189887, 1.8542539331587256, 1.7762806930601924, 1.798313871343085, 1.9123343381155882, 2.1710162547126886, 1.9018073567953178, 2.0198804998993154, 1.7273500887423936, 1.8321703243213172, 1.9237988242696407, 1.9195219019713614, 1.9606394950804575, 2.151643662667072, 1.8406122565745673, 2.0833611446912497, 2.108351954646257, 1.9035899669200451, 1.7365184847439992, 1.761325418110341, 1.9116079461604183, 1.6401817876701403, 1.7351219581428738, 1.6802352413054435, 1.6715273704829428, 1.4885755458133494, 2.0367266782780282, 1.9044215890198328, 1.6550777366189793, 2.1604719435186204, 1.9920559146102625, 2.3542734423565066, 1.8653121543141593, 2.4987996967654986, 1.752800822664237, 2.195277237547791, 1.7644071431929296, 1.7504809202261307, 1.9789587727724633, 2.7181369380367615, 1.643593390613942, 1.7593236031701, 1.7811419731747788, 2.2068789126642034, 1.7686786822273115, 1.9802833933381683, 2.1076845252276577, 1.8505125635637194, 2.238154793021995, 2.147804215261689, 1.8161255361519608, 2.0561804187988733, 2.8512201387933405, 1.9039075169972555, 1.8134634853342604, 1.8567521871218233, 2.0086720741291417, 1.829354614654861, 1.7749044164362713, 2.3206789221318123, 2.10091549243327, 1.6275531374298082, 1.9641891105538203, 1.9537660256410256, 2.0742698623494675, 1.7926517877379873, 2.022068197202166, 1.9653065101462444, 1.8816212054027155, 1.6172333600534163, 1.654718609052835, 1.5399933208276488, 1.2332013135355877, 1.877063461326749, 2.0305988185648345, 2.0551181791314086, 2.085353163422131, 2.474015574386858, 2.0236036497563137, 1.4754349624817935, 1.8292999135695764, 1.7270944695723685, 2.0656185219003835, 1.6627662390446136, 1.8174920826007033, 2.0622774806849633, 2.486932968878179, 2.0091391968737016, 1.866251577554838, 1.7156766635754697, 1.7630332504140018, 2.104659479707409, 1.960319865303098, 2.004005220011211, 1.67290656526489, 1.9634404073234732, 1.5618081382288338, 2.0815340865443708, 1.7918133966689833, 1.7072583108281894, 1.6581611594729524, 1.9723933830097666, 1.7156677410786563, 1.9013213740429022, 1.875406420213257, 1.5775283691760333, 1.9114821565793325, 1.8047648996546648, 1.6585963893581082, 1.6764713949701138, 2.0769410481076758, 1.9141709065679926, 1.6575212569381514, 1.7341375373058647, 1.655275958411934, 2.757799023976541, 2.6565348704268295, 1.640701545003999, 2.0214695847380706, 1.7779513719043494, 1.743880693233046, 1.849820823340838, 1.8935482627467106, 1.545308754531104, 1.8563280140269887, 1.9032145454987435, 2.1302025942495297, 1.7656367155728956, 1.7330028953820258, 1.855886860436754, 1.9046845591091062, 2.1999672660614524, 1.594230812706697, 1.765955008435183, 1.7951461076213833, 1.7071290228776872, 1.8007397943801253, 1.8045295664047054, 1.6223602294921875, 1.6511952306837554, 1.8404144945359109, 1.9685936926395007, 1.9566929243187203, 1.6708054020780523, 1.7166167712602458, 1.805673004931322, 1.6213983699055101, 1.6025028063223241, 1.9598201580547534, 1.8544659269957984, 1.8231933987207898, 1.8375914908904911, 1.614232610053269, 1.8247089328212895, 1.60162886630539, 1.6563286577618375, 1.8645556846844205, 2.015836345615672, 1.7578070075224972, 1.870712787185544, 1.7969589522756004, 1.5240127036257511, 1.9335096140966566, 1.7493966083214552, 1.6904852882060961, 2.002751007451338, 1.9433656161889097, 1.7432865723095747, 2.0985793163732023, 1.9499962687009742, 1.6898040840810995, 2.046394577125924, 1.7963227911646586, 1.682327262237466, 2.0257027701935555, 1.7159046350945528, 1.8220906036579056, 1.7621704804462572, 2.233114076436254, 1.5447037398151828, 2.1679730689496313, 1.4958447286845393, 1.6562310611946793, 2.0084619165002495, 1.6955860221586563, 1.773700973827559, 1.8052569833834793, 2.2503169984706535, 2.0582314266520703, 1.9221739783653846, 2.130862432217129, 1.8807573273554603, 1.7602024714758102, 1.7441365069653614, 1.6008608459551683, 1.7415942979316645, 1.7632840651404076, 1.9320698635057472, 1.6211341445344027, 1.630036168307316, 1.9437290282673536, 1.5614331104208925, 1.598012769360504, 1.534975152266653, 1.8601331886955805, 1.6495958468614718, 1.704675491636528, 1.6525373316522856, 1.6401740352883278, 1.9177736169327055, 1.7221186430410944, 1.8491861979166666, 1.834682220827936, 1.5709847575186446, 1.9518436039719627, 1.543490727742513, 1.9457440686968839, 1.985914214971362, 1.7187997238431914, 2.0341226929986935, 2.0111991854978717, 1.9598374463885184, 1.7263426374801114, 1.9256597745720638, 2.1161225921563194, 1.8332802801591692, 1.8237449419851794, 1.7020590180580264, 1.9434000651041667, 2.3169700285517068, 2.173772539411272, 2.1870870036795713, 2.133359446902192, 1.8841180381534983, 1.7930543938638952, 1.7500065028110396, 1.70639768045299, 1.7656335103485838, 1.763902969076731, 1.5896400558258483, 2.1431452681220855, 1.8949823270331623, 1.7050741330276462, 1.7487795564609916, 1.7726724614541998, 1.7165145636135857, 1.7268053705857342, 1.6601226240335052, 1.641462531523601, 1.8690384432164635, 1.8505244208599188, 1.8568458657427696, 1.9287472360613525, 1.7806476637020296, 1.7895608599582784, 1.6184478457611386, 1.8184362017511568, 1.9458794251375051, 1.9889249306427974, 1.8746224629510309, 1.6753626488174596, 1.681314889726065, 1.9145446004746836, 1.6284594459629942, 2.0021096163017806, 2.19638258022955, 1.9881032335660762, 1.5549924364276961, 1.7939966066919193, 2.022875244140625, 1.544797033797204, 1.8081976256599208, 2.0292449647009967, 1.730124502753978, 1.5579564237327361, 1.5498987988509954, 1.7780787927074733, 2.340625032251073, 2.776226754311185, 3.1686427578604293, 1.697501597351301, 1.688585985637266, 1.8637024293462914, 1.710757347845262, 1.5211664244186047, 1.6894815725135248, 1.806569865598517, 1.5291061299415367, 2.101792614227727, 1.482581070829029, 1.987068229937986, 1.7647804483916938, 1.7719434043778801, 1.7547826463931075, 1.6761374728227585, 1.726913844948948, 2.2307576227924946, 1.9437415248508783, 1.6888449463002053, 1.922563553670508, 2.4943724614555705, 1.8771773628566577, 1.9212735106850116, 1.753330297801636, 1.8365966153835602, 1.966598993744427, 2.400126168018336, 1.907551914143711, 1.8463084182320268, 1.592496160450416, 2.0949795328040235, 2.2695218341081267, 1.6189365411035443, 1.829200961197283, 1.7068124522956787, 3.1559221456839905, 2.3261201715289035, 2.399451401654412, 2.4909665265088594, 3.013582113117515, 1.6510042518355692, 2.177247381411524, 2.5203758078142418, 2.4480911726804124, 2.2315156991799743, 2.62880864580557, 1.7960527109887987, 2.141332623910965, 2.500498731438043, 2.2967673542217812, 2.278668973806366, 2.3287489149305554, 2.4503293851948347, 2.1575777904971454, 2.3940242141606416, 2.234340522947926, 2.1632125376506024, 2.2381472919275183, 2.3104496061040107, 2.20469508451574, 2.2504608932365437, 2.136308661012161, 2.460707936647861, 2.488884339589235, 2.4105185464972867, 2.3587287005723203, 2.0221109604382557, 1.909963726393367, 2.159593687447324, 1.9264426236854684, 2.4507820230046176, 1.9890966757906026, 1.7826052295918366, 1.8096077254299086, 2.3139128727124527, 2.6800398284313727, 2.0725374851543945, 2.0948765400223563, 2.227653206168831, 2.0192129718062346, 2.1983945629712878, 2.02405636465282, 2.044184121460767, 1.8407600925951693, 2.0943550623129275, 2.0594329395933015, 2.0352729461477987, 1.7918309251488902, 2.037856655507793, 1.7745769073359698, 1.9565952128343622, 2.0654649918002916, 1.8413926462689199, 1.9273809267915207, 1.9641412792836126, 1.8781401165347404, 2.329551857526337, 2.0002516467724076, 2.195965313208617, 1.8180120635050485, 2.351016983549807, 2.3052191213399422, 2.330582797316696, 1.7006527867268042, 1.8885322494251673, 2.018179648534913, 2.0580105523547094, 1.846611903984951, 2.174344593808194, 2.020873903643278, 1.759273478089436, 1.9612731041788427, 1.7082592711156728, 2.1542367047905113, 2.134648532311893, 2.335025558518862, 2.0297040776732764, 1.9073905207854185, 2.174087324323094, 1.9043017932237107, 1.6212993058413687, 2.4980906839535058, 2.142460164556261, 2.0386809768943652, 2.0564510907973204, 1.6490061402781129, 2.0710154362922704, 1.9590931780070486, 1.8123270295202951, 1.9066224436682753, 2.1172791324980396, 2.242839857282044, 2.141916198888673, 1.9902165110518293, 1.9501655134274318, 2.3056062777366866, 1.9613366168478261, 1.9661204370959051, 1.715885337848063, 2.053009469168527, 1.917776428583423, 2.091555703344247, 1.9722890602627434, 2.269032555168839, 1.8789997738028954, 1.54812015972071, 2.0133832780361463, 2.113134114583333, 1.9645187128528974, 2.4427960212833546, 1.913158716548103, 1.9007712382767754, 1.9169417072955828, 1.7982077798097331, 1.8018697422611698, 1.8676498118790181, 1.696246198115458, 1.8413003483674142, 1.9257860636167592, 1.8821609572236762, 1.8230279763199277, 1.9717155297148503, 2.2734012871879545, 1.7950196619229482, 2.410741442032443, 1.8340293265677787, 2.0624056565726403, 2.1813680539510165, 2.0573618442197388, 2.008083812087799, 2.0014557678903344, 2.171438040226064, 1.7892090989053948, 2.127548844160509, 1.7708641493055555, 2.314785328079179, 2.046506639096135, 1.6181489524825137, 1.7089564802673154, 1.9033560546875, 1.886923331284737, 1.6603061228036031, 2.0292662924078613, 1.6210868484982333, 1.8199688291998553, 1.885865726099129, 1.8468010855133752, 1.6965811663395733, 1.9262744318829836, 1.8822050960137386, 1.7890759855295015, 1.6062259785613122, 1.6621685670815098, 1.6561284279336734, 1.7875551808112362, 1.5977908376013366, 1.702395648453347, 1.9248395647321428, 1.9129330393452624, 2.3535496278725625, 1.9762177020244505, 2.043661271358883, 2.0205293919709737, 2.149458003705845, 2.1250429017036168, 1.8074055149612942, 2.1010699763394705, 1.849528166118421, 2.2315399693358597, 1.9338100906706204, 2.1654260627046944, 1.8089938149667582, 1.8509006638601035, 1.8611612955729167, 1.6244435516958424, 1.8196275584222084, 1.4395993043458675, 1.571023500219075, 1.7055977595313976, 1.759243337611071, 1.681890241483284, 1.8018901805816803, 2.0418484838585225, 2.5091605644107973, 2.2750067949432147, 1.9308655220086104, 1.9876407800518718, 2.5763702659807355, 1.7017247204531991, 1.919803223287376, 1.8859780199364493, 1.690054136954698, 1.7805505962623898, 2.0641091904394235, 1.8676308695918702, 1.5969384681365941, 2.011260486039959, 1.8856007465377957, 2.279312229756289, 1.7885236621957965, 2.072066080425792, 1.759974346259715, 1.5789366711801227, 2.0009401590356566, 2.482560084155945, 1.6586292536235832, 1.6533722851911896, 2.079631899776391, 1.7197064686213992, 1.7126548189009159, 1.728080442893026, 1.4956831726450206, 1.6443175281907363, 1.6143225244728916, 2.0586143786966624, 1.9342889093776063, 2.1797725946576763, 1.9157065835711977, 1.8553390437553556, 1.455668798873887, 1.550687812162527, 1.689520828717942, 1.9630298440097673, 1.560564982353561, 1.716313144183043, 2.05930862705542, 1.5875919655199915, 1.7867410056483302, 2.135660656307978, 2.2203282321122537, 1.8209181787634408, 1.6782553861252483, 2.175083355535356, 1.9630960259555785, 1.8581480951656435, 2.8624169298306494, 2.0471839170861297, 2.082453911715298, 1.9019873787285515, 1.8986152604383861, 2.1581399275212565, 1.7156500157533607, 1.8020338072393933, 1.800553762467825, 1.549444102174217, 1.4107688984339146, 1.444489331908035, 1.6779563861811926, 1.787816085886533, 1.7107202342713859, 1.6527670180109404, 1.7822699066480123, 1.8470964137957953, 1.7468495013228207, 1.7036660008417743, 1.6729514240253516, 1.6194343489265364, 1.7103667736254748, 1.4526706245096117, 1.5184904505821457, 1.6427989359017496, 1.541111617116064, 1.508053682723672, 1.6026016168329063, 1.5297903871906169, 1.761070340412279, 1.531234046460002, 1.5684109648967761, 1.6009260836020907, 1.9738657470829035, 1.7669946196311734, 2.2647805154295972, 1.5931969309363845, 1.4911986130934496, 1.5462917751736112, 1.5533959812373226, 1.7156059371148027, 2.602450068347509, 1.9688241199234353, 1.8721129722550176, 1.4368857425830295, 1.5554185068825235, 1.9916956326101662, 1.7789283462717562, 1.6126023285218547, 1.4641438150172452, 1.540715924133098, 1.515107367448746, 3.1177818788411975, 1.5523078490850848, 1.6083075085918337, 1.74585070775818, 1.7288875226142018, 1.8842069147864626, 1.386529621154966, 1.6594033705736921, 1.3448997653531427, 1.369585810567348, 1.5803483250052324, 1.3509943381769554, 1.5086912361171603, 1.4424578133275954, 1.3747007611255286, 1.5503865468866518, 1.4530047933563932, 1.7221655112756484, 1.4200447027893794, 1.634119900790128, 1.7616445778596834, 2.169270676832933, 1.9896077473958333, 2.8733927889824664, 2.549377532730673, 2.3646443315657137, 1.577427768668334, 1.3667221711095991, 1.7314488351703408, 2.0813616560718984, 2.4538917335304054, 2.0155305850810747, 1.7639840587432531, 1.6369356097597065, 1.399307642227564, 2.079345825501253, 1.466102148272261, 2.0984080921519888, 1.6743874337426194, 1.583950313218666, 1.5426476914643354, 1.729142019454866, 1.7295943802291458, 1.8994233032503784, 1.7881345613232218, 1.4588709944385594, 2.0049645386390806, 2.1255728580622613, 3.376963513962766, 1.8951352484607342, 1.6021516348145715, 1.842883078243108, 1.7324883968453377, 1.9247664530081048, 2.1468376025818943, 1.7133383762170535, 2.1147817125068733, 2.03449923336569, 2.19300625719461, 2.2183141823172092, 1.6522442341096244, 2.0235462928114414, 1.9778251647949219, 1.8201465546628992, 1.7883741230867347, 2.1917623050061175, 1.8009045382051037, 1.929655330882353, 2.065449290031934, 1.5963054307334579, 1.800063465389016, 1.9036980242768595, 1.9308809746954076, 1.751011757585957, 1.9643332174323893, 1.9286352915014, 1.8978794311639364, 1.602589860747132, 1.9459222531786151, 1.8732170634088368, 1.5336795025345757, 2.0309981334058542, 1.6893382419000116, 2.0860545224961093, 1.8158489061152436, 2.238280631922468, 2.0980036205034165, 1.9231354859026586, 2.0300646424543642, 1.900348828299153, 1.756188030046462, 1.9616416548557338, 2.1160557249947303, 2.1015933916567815, 2.0089830153306716, 1.8001138759731834, 1.5850657933601133, 1.8655418920049063, 1.6997084506722384, 1.8380180137286048, 1.82762250827469, 1.7719493514083295, 1.7946971774297003, 1.6981940393300714, 1.769694287337835, 1.7998318407012195, 2.022932392015194, 1.7706755309545694, 2.157330572042235, 1.8882366588563606, 2.20611352319116, 2.2528591080814717, 2.457791033372999, 1.6348444373862256, 1.645624962868346, 1.8151471173321758, 2.1765338180118303, 2.001725748919964, 1.7026904998367436, 1.7139379225034166, 2.0787864960511127, 1.6611741851478494, 1.9884877465956703, 2.0393288577942297, 1.9539737360264227, 1.7340917579681274, 3.0951241038324757, 2.2135522643532775, 1.7241548184842226, 1.9493225915973185, 1.970971363647856, 1.8960552513458353, 1.5978830377598345, 2.1529049577853323, 1.4749599310465904, 2.222623106060606, 1.4600706500771605, 1.965880544926304, 1.7414628864605544, 1.812381628787879, 2.0436407797355667, 2.1458090614348104, 1.7768223826453282, 1.9923028504374771, 2.163440903786307, 2.0050846739398422, 1.6858687646954287, 1.9364632531639765, 1.975374221012619, 2.4075753348214284, 2.170167929381299, 1.9156412642303158]\n"
     ]
    }
   ],
   "source": []
  },
  {
   "cell_type": "code",
   "execution_count": 25,
   "metadata": {},
   "outputs": [
    {
     "ename": "NameError",
     "evalue": "name 'my_data_from_file' is not defined",
     "output_type": "error",
     "traceback": [
      "\u001b[0;31m---------------------------------------------------------------------------\u001b[0m",
      "\u001b[0;31mNameError\u001b[0m                                 Traceback (most recent call last)",
      "\u001b[0;32m<ipython-input-25-2f8afe99784b>\u001b[0m in \u001b[0;36m<module>\u001b[0;34m\u001b[0m\n\u001b[0;32m----> 1\u001b[0;31m \u001b[0;32mdel\u001b[0m \u001b[0mmy_data_from_file\u001b[0m\u001b[0;34m\u001b[0m\u001b[0m\n\u001b[0m",
      "\u001b[0;31mNameError\u001b[0m: name 'my_data_from_file' is not defined"
     ]
    }
   ],
   "source": [
    "del my_data_from_file"
   ]
  },
  {
   "cell_type": "code",
   "execution_count": 22,
   "metadata": {},
   "outputs": [],
   "source": []
  },
  {
   "cell_type": "code",
   "execution_count": 23,
   "metadata": {},
   "outputs": [
    {
     "name": "stdout",
     "output_type": "stream",
     "text": [
      "2020-05-29 13:53:08.573971\n"
     ]
    }
   ],
   "source": [
    "mistakes_dict = [0] * (vocab_word_size + 3)\n",
    "#loss_f = nn.CrossEntropyLoss(reduction='none').to(device)\n",
    "import datetime\n",
    "print(datetime.datetime.now())\n",
    "\n",
    "new_batch_size = 64\n",
    "#sched = optim.lr_scheduler.CosineAnnealingLR(opt, DATA_LENGTH)\n",
    "tbegin = time.time()\n",
    "modt = 0\n",
    "accuracy_b = []\n",
    "last_train_loss = 0\n",
    "last_test_loss = 0\n",
    "batch_n = 0\n",
    "cou_total = 0\n",
    "cou_mistakes = 0\n",
    "cou_first_word_mistakes = 0\n",
    "correct_sents = 0\n",
    "total_sents = 0\n",
    "for file_idx in range(7, 11):\n",
    "    local_batch_n = 0\n",
    "    my_data_from_file = torch.load(f\"source_files/data_1024_ixy_{file_idx}\")\n",
    "    for is_test, x1, y1 in my_data_from_file:\n",
    "        if (file_idx == 7 and local_batch_n < 2193):\n",
    "            local_batch_n += 1\n",
    "            continue\n",
    "        if (file_idx == 10 and local_batch_n > 624):\n",
    "            break\n",
    "        local_batch_n += 1\n",
    "        if (is_test == 0):\n",
    "            continue\n",
    "        for batch_ind in range((len(y1) - 1) // new_batch_size + 1):\n",
    "            x = x1[batch_ind * new_batch_size : batch_ind * new_batch_size + new_batch_size]\n",
    "            y = y1[batch_ind * new_batch_size : batch_ind * new_batch_size + new_batch_size]\n",
    "            target = pad_sequence([torch.tensor([rev_dict[i.data.item()] for i in j]) for j in y], batch_first=True)\n",
    "            mask = (target != 0)\n",
    "            batch_n += 1\n",
    "            tt = time.time()\n",
    "            x_inp = pad_sequence(x, batch_first=True).long().to(device)\n",
    "            target_inp = target.view(-1).to(device)\n",
    "            maskinp = mask.view(-1).to(device)\n",
    "            out = model.predict(x_inp)\n",
    "            for i in target * (target != out.cpu().reshape(target.shape)) * mask:\n",
    "                for j in i:\n",
    "                    mistakes_dict[j.data.item()] += 1\n",
    "            correct_sents += torch.sum(torch.sum(((target_inp == out).double() * maskinp).reshape(target.shape), dim=1) == torch.sum((maskinp).reshape(target.shape), dim=1))\n",
    "            total_sents += len(y)\n",
    "            cou_mistakes += torch.sum((target_inp == out).double() * maskinp)\n",
    "            cou_total += torch.sum(maskinp)\n",
    "            accuracy = torch.sum((target_inp == out).double() * maskinp) / torch.sum(maskinp)\n",
    "            cou_first_word_mistakes += torch.sum((out.reshape(target.shape)[:, 0] != target_inp.reshape(target.shape)[:, 0]).double())\n",
    "            accuracy_b.append(accuracy.data.item())\n",
    "            del x_inp\n",
    "            del target_inp\n",
    "            del maskinp\n",
    "            modt += time.time() - tt\n",
    "            if (batch_n % (100 * 2048 // new_batch_size) == 0):\n",
    "                print('Batch: [{}]\\t Accuracy: {}, Time: {}, Model Time: {}'.format(batch_n, np.array(accuracy_b[-(100 * 2048 // new_batch_size)]).mean(), time.time() - tbegin, modt), file=file_output_b_n)\n",
    "    del my_data_from_file\n"
   ]
  },
  {
   "cell_type": "code",
   "execution_count": 24,
   "metadata": {},
   "outputs": [
    {
     "data": {
      "text/plain": [
       "0.9304641276399671"
      ]
     },
     "execution_count": 24,
     "metadata": {},
     "output_type": "execute_result"
    }
   ],
   "source": [
    "np.array(accuracy_b).mean()"
   ]
  },
  {
   "cell_type": "code",
   "execution_count": 25,
   "metadata": {},
   "outputs": [
    {
     "data": {
      "text/plain": [
       "tensor(0.5955, device='cuda:0', dtype=torch.float64)"
      ]
     },
     "execution_count": 25,
     "metadata": {},
     "output_type": "execute_result"
    }
   ],
   "source": [
    "correct_sents.double() / total_sents"
   ]
  },
  {
   "cell_type": "code",
   "execution_count": 32,
   "metadata": {},
   "outputs": [
    {
     "data": {
      "text/plain": [
       "0.8820126283727583"
      ]
     },
     "execution_count": 32,
     "metadata": {},
     "output_type": "execute_result"
    }
   ],
   "source": [
    "np.array(accuracy_b).mean()"
   ]
  },
  {
   "cell_type": "code",
   "execution_count": 27,
   "metadata": {},
   "outputs": [
    {
     "data": {
      "text/plain": [
       "tensor(0.1940, device='cuda:0', dtype=torch.float64)"
      ]
     },
     "execution_count": 27,
     "metadata": {},
     "output_type": "execute_result"
    }
   ],
   "source": [
    "sum(mistakes_dict[1:3000]) / (cou_total - cou_mistakes)"
   ]
  },
  {
   "cell_type": "code",
   "execution_count": 18,
   "metadata": {},
   "outputs": [
    {
     "ename": "NameError",
     "evalue": "name 'accuracy_b' is not defined",
     "output_type": "error",
     "traceback": [
      "\u001b[0;31m---------------------------------------------------------------------------\u001b[0m",
      "\u001b[0;31mNameError\u001b[0m                                 Traceback (most recent call last)",
      "\u001b[0;32m<ipython-input-18-2a0e9d39ac26>\u001b[0m in \u001b[0;36m<module>\u001b[0;34m\u001b[0m\n\u001b[0;32m----> 1\u001b[0;31m \u001b[0maccuracy_b\u001b[0m\u001b[0;34m\u001b[0m\u001b[0m\n\u001b[0m",
      "\u001b[0;31mNameError\u001b[0m: name 'accuracy_b' is not defined"
     ]
    }
   ],
   "source": [
    "accuracy_b"
   ]
  },
  {
   "cell_type": "code",
   "execution_count": 67,
   "metadata": {},
   "outputs": [
    {
     "data": {
      "text/plain": [
       "tensor(0.1865, device='cuda:0', dtype=torch.float64)"
      ]
     },
     "execution_count": 67,
     "metadata": {},
     "output_type": "execute_result"
    }
   ],
   "source": [
    "sum(mistakes_dict[1:3000]) / (cou_total - cou_mistakes)"
   ]
  },
  {
   "cell_type": "code",
   "execution_count": 30,
   "metadata": {},
   "outputs": [
    {
     "data": {
      "text/plain": [
       "0.8957131323556594"
      ]
     },
     "execution_count": 30,
     "metadata": {},
     "output_type": "execute_result"
    }
   ],
   "source": [
    "np.array(accuracy_b).mean()"
   ]
  },
  {
   "cell_type": "code",
   "execution_count": 31,
   "metadata": {},
   "outputs": [
    {
     "data": {
      "text/plain": [
       "tensor(0.4577, device='cuda:0', dtype=torch.float64)"
      ]
     },
     "execution_count": 31,
     "metadata": {},
     "output_type": "execute_result"
    }
   ],
   "source": [
    "correct_sents.double() / total_sents"
   ]
  },
  {
   "cell_type": "code",
   "execution_count": 34,
   "metadata": {},
   "outputs": [
    {
     "data": {
      "text/plain": [
       "<matplotlib.axes._subplots.AxesSubplot at 0x7fac7452b198>"
      ]
     },
     "execution_count": 34,
     "metadata": {},
     "output_type": "execute_result"
    },
    {
     "data": {
      "image/png": "[encoded data removed]",
      "text/plain": [
       "<Figure size 432x288 with 1 Axes>"
      ]
     },
     "metadata": {
      "needs_background": "light"
     },
     "output_type": "display_data"
    }
   ],
   "source": [
    "pd.DataFrame(gaussian_filter1d(np.array(accuracy_b), sigma=50), columns=['accuracy']).plot(y='accuracy', kind='line')"
   ]
  },
  {
   "cell_type": "code",
   "execution_count": 22,
   "metadata": {},
   "outputs": [
    {
     "data": {
      "text/plain": [
       "tensor(0.4366, device='cuda:0', dtype=torch.float64)"
      ]
     },
     "execution_count": 22,
     "metadata": {},
     "output_type": "execute_result"
    }
   ],
   "source": [
    "correct_sents.double() / total_sents"
   ]
  },
  {
   "cell_type": "code",
   "execution_count": 23,
   "metadata": {},
   "outputs": [
    {
     "data": {
      "text/plain": [
       "0.8886814369380468"
      ]
     },
     "execution_count": 23,
     "metadata": {},
     "output_type": "execute_result"
    }
   ],
   "source": [
    "np.array(accuracy_b).mean()"
   ]
  },
  {
   "cell_type": "code",
   "execution_count": 35,
   "metadata": {},
   "outputs": [
    {
     "data": {
      "text/plain": [
       "tensor(0, device='cuda:0')"
      ]
     },
     "execution_count": 35,
     "metadata": {},
     "output_type": "execute_result"
    }
   ],
   "source": [
    "target_inp = target.view(-1).to(device)\n",
    "maskinp = mask.view(-1).to(device)\n",
    "torch.sum(torch.sum(((target_inp == out).double() * maskinp).reshape(target.shape), dim=1) == torch.sum((maskinp).reshape(target.shape), dim=1))"
   ]
  },
  {
   "cell_type": "code",
   "execution_count": 96,
   "metadata": {},
   "outputs": [
    {
     "data": {
      "text/plain": [
       "tensor(60, device='cuda:0')"
      ]
     },
     "execution_count": 96,
     "metadata": {},
     "output_type": "execute_result"
    }
   ],
   "source": [
    "torch.sum(maskinp)"
   ]
  },
  {
   "cell_type": "code",
   "execution_count": 98,
   "metadata": {},
   "outputs": [
    {
     "data": {
      "text/plain": [
       "tensor(0.1873, device='cuda:0', dtype=torch.float64)"
      ]
     },
     "execution_count": 98,
     "metadata": {},
     "output_type": "execute_result"
    }
   ],
   "source": [
    "correct_sents.double() / total_sents"
   ]
  },
  {
   "cell_type": "code",
   "execution_count": 36,
   "metadata": {},
   "outputs": [
    {
     "data": {
      "text/plain": [
       "(tensor([[  5240,   1696,   1755,  67827,   3233,     88,  10811,    287,  10198,\n",
       "           47909,     88,  21274,   3233,   2828,      1],\n",
       "         [   207,   9908,     30,    902,    531,   6196,      3,   5517,     12,\n",
       "           13527, 170452,     92,   4000,  55503,      1],\n",
       "         [  1235,     21,   1323, 114351,     19,     66,  24080,     31,     32,\n",
       "            6182,     77,   5662,   6884,    597,      1],\n",
       "         [    52,      3,   1205,   1120,    870,   7038, 137391,      4,    329,\n",
       "              15,  15977,    262,      4,     66,      1]]),\n",
       " tensor([[  5240,   1696,   1755,  67827,   3233,    287,  10811,    287,  10198,\n",
       "           47909,     88,  21274,   3233,   2828,      1],\n",
       "         [   207,   9908,     30,    902,    531,   6196,      3,   5517,     12,\n",
       "           13527, 119878,     92,   4000,  55503,      1],\n",
       "         [  1235,     21,   1323,  58961,     19,     66,  24080,     31,     32,\n",
       "            6182,     77,   5662,   6884,    597,      1],\n",
       "         [    52,      3,   1205,   1120,   5086,   7038, 130159,      4,    329,\n",
       "              15,  15977,    262,      4,     66,      1]], device='cuda:0'))"
      ]
     },
     "execution_count": 36,
     "metadata": {},
     "output_type": "execute_result"
    }
   ],
   "source": [
    "target, out.reshape(target.shape)"
   ]
  },
  {
   "cell_type": "code",
   "execution_count": 39,
   "metadata": {},
   "outputs": [],
   "source": [
    "for_dict = dict()\n",
    "for i in rev_dict.keys():\n",
    "    for_dict[rev_dict[i]] = i"
   ]
  },
  {
   "cell_type": "code",
   "execution_count": 51,
   "metadata": {},
   "outputs": [
    {
     "ename": "IndexError",
     "evalue": "index 4 is out of bounds for dimension 0 with size 4",
     "output_type": "error",
     "traceback": [
      "\u001b[0;31m---------------------------------------------------------------------------\u001b[0m",
      "\u001b[0;31mIndexError\u001b[0m                                Traceback (most recent call last)",
      "\u001b[0;32m<ipython-input-51-720af7f7d9c6>\u001b[0m in \u001b[0;36m<module>\u001b[0;34m\u001b[0m\n\u001b[0;32m----> 1\u001b[0;31m \u001b[0mprint\u001b[0m\u001b[0;34m(\u001b[0m\u001b[0;34m[\u001b[0m\u001b[0mfor_dict\u001b[0m\u001b[0;34m[\u001b[0m\u001b[0mi\u001b[0m\u001b[0;34m.\u001b[0m\u001b[0mdata\u001b[0m\u001b[0;34m.\u001b[0m\u001b[0mitem\u001b[0m\u001b[0;34m(\u001b[0m\u001b[0;34m)\u001b[0m\u001b[0;34m]\u001b[0m \u001b[0;34m-\u001b[0m \u001b[0;36m1\u001b[0m \u001b[0;32mfor\u001b[0m \u001b[0mi\u001b[0m \u001b[0;32min\u001b[0m \u001b[0mtarget\u001b[0m\u001b[0;34m[\u001b[0m\u001b[0;36m4\u001b[0m\u001b[0;34m]\u001b[0m\u001b[0;34m]\u001b[0m\u001b[0;34m)\u001b[0m\u001b[0;34m\u001b[0m\u001b[0m\n\u001b[0m\u001b[1;32m      2\u001b[0m \u001b[0mprint\u001b[0m\u001b[0;34m(\u001b[0m\u001b[0;34m[\u001b[0m\u001b[0mfor_dict\u001b[0m\u001b[0;34m[\u001b[0m\u001b[0mi\u001b[0m\u001b[0;34m.\u001b[0m\u001b[0mdata\u001b[0m\u001b[0;34m.\u001b[0m\u001b[0mitem\u001b[0m\u001b[0;34m(\u001b[0m\u001b[0;34m)\u001b[0m\u001b[0;34m]\u001b[0m \u001b[0;34m-\u001b[0m \u001b[0;36m1\u001b[0m \u001b[0;32mfor\u001b[0m \u001b[0mi\u001b[0m \u001b[0;32min\u001b[0m \u001b[0mout\u001b[0m\u001b[0;34m.\u001b[0m\u001b[0mcpu\u001b[0m\u001b[0;34m(\u001b[0m\u001b[0;34m)\u001b[0m\u001b[0;34m.\u001b[0m\u001b[0mreshape\u001b[0m\u001b[0;34m(\u001b[0m\u001b[0mtarget\u001b[0m\u001b[0;34m.\u001b[0m\u001b[0mshape\u001b[0m\u001b[0;34m)\u001b[0m\u001b[0;34m[\u001b[0m\u001b[0;36m4\u001b[0m\u001b[0;34m]\u001b[0m\u001b[0;34m]\u001b[0m\u001b[0;34m)\u001b[0m\u001b[0;34m\u001b[0m\u001b[0m\n",
      "\u001b[0;31mIndexError\u001b[0m: index 4 is out of bounds for dimension 0 with size 4"
     ]
    }
   ],
   "source": [
    "print([for_dict[i.data.item()] - 1 for i in target[4]])\n",
    "print([for_dict[i.data.item()] - 1 for i in out.cpu().reshape(target.shape)[4]])"
   ]
  },
  {
   "cell_type": "code",
   "execution_count": 42,
   "metadata": {},
   "outputs": [
    {
     "data": {
      "text/plain": [
       "(2942, 8476)"
      ]
     },
     "execution_count": 42,
     "metadata": {},
     "output_type": "execute_result"
    }
   ],
   "source": [
    "for_dict[88], for_dict[287]"
   ]
  },
  {
   "cell_type": "code",
   "execution_count": 53,
   "metadata": {},
   "outputs": [
    {
     "data": {
      "text/plain": [
       "tensor([[     0,      0,      0,      0,      0,     88,      0,      0,      0,\n",
       "              0,      0,      0,      0,      0,      0],\n",
       "        [     0,      0,      0,      0,      0,      0,      0,      0,      0,\n",
       "              0, 170452,      0,      0,      0,      0],\n",
       "        [     0,      0,      0, 114351,      0,      0,      0,      0,      0,\n",
       "              0,      0,      0,      0,      0,      0],\n",
       "        [     0,      0,      0,      0,    870,      0, 137391,      0,      0,\n",
       "              0,      0,      0,      0,      0,      0]])"
      ]
     },
     "execution_count": 53,
     "metadata": {},
     "output_type": "execute_result"
    }
   ],
   "source": [
    "target * (target != out.cpu().reshape(target.shape)) * mask"
   ]
  },
  {
   "cell_type": "code",
   "execution_count": 41,
   "metadata": {},
   "outputs": [
    {
     "data": {
      "text/plain": [
       "tensor([[     0,      0,      0,      0,      0,    287,      0,      0,      0,\n",
       "              0,      0,      0,      0,      0,      0],\n",
       "        [     0,      0,      0,      0,      0,      0,      0,      0,      0,\n",
       "              0, 119878,      0,      0,      0,      0],\n",
       "        [     0,      0,      0,  58961,      0,      0,      0,      0,      0,\n",
       "              0,      0,      0,      0,      0,      0],\n",
       "        [     0,      0,      0,      0,   5086,      0, 130159,      0,      0,\n",
       "              0,      0,      0,      0,      0,      0]])"
      ]
     },
     "execution_count": 41,
     "metadata": {},
     "output_type": "execute_result"
    }
   ],
   "source": [
    "out.cpu().reshape(target.shape) * (target != out.cpu().reshape(target.shape))"
   ]
  },
  {
   "cell_type": "code",
   "execution_count": 105,
   "metadata": {},
   "outputs": [
    {
     "data": {
      "text/plain": [
       "(23860, 63561)"
      ]
     },
     "execution_count": 105,
     "metadata": {},
     "output_type": "execute_result"
    }
   ],
   "source": [
    "for_dict[13527], for_dict[12014]"
   ]
  },
  {
   "cell_type": "code",
   "execution_count": 83,
   "metadata": {},
   "outputs": [
    {
     "data": {
      "text/plain": [
       "(tensor(60), torch.Size([4, 15]))"
      ]
     },
     "execution_count": 83,
     "metadata": {},
     "output_type": "execute_result"
    }
   ],
   "source": [
    "torch.sum(mask), mask.shape"
   ]
  },
  {
   "cell_type": "code",
   "execution_count": 77,
   "metadata": {},
   "outputs": [],
   "source": [
    "cou_mistakes = cou_total - cou_mistakes"
   ]
  },
  {
   "cell_type": "code",
   "execution_count": 78,
   "metadata": {},
   "outputs": [
    {
     "data": {
      "text/plain": [
       "(tensor(1314713., device='cuda:0', dtype=torch.float64),\n",
       " tensor(13212885., device='cuda:0', dtype=torch.float64),\n",
       " tensor(53984125, device='cuda:0'))"
      ]
     },
     "execution_count": 78,
     "metadata": {},
     "output_type": "execute_result"
    }
   ],
   "source": [
    "cou_first_word_mistakes, cou_mistakes, cou_total"
   ]
  },
  {
   "cell_type": "code",
   "execution_count": null,
   "metadata": {},
   "outputs": [],
   "source": []
  },
  {
   "cell_type": "code",
   "execution_count": 31,
   "metadata": {},
   "outputs": [],
   "source": [
    "new_batch_size = 16\n",
    "for file_idx in range(fileind):\n",
    "    my_data_from_file = torch.load(f\"source_files/data_1024_ixy_{file_idx}\")\n",
    "    for is_test, x1, y1 in my_data_from_file:\n",
    "        if is_test == 0:\n",
    "            continue\n",
    "        for batch_ind in range((len(y1) - 1) // new_batch_size + 1):\n",
    "            x = x1[batch_ind * new_batch_size : batch_ind * new_batch_size + new_batch_size]\n",
    "            y = y1[batch_ind * new_batch_size : batch_ind * new_batch_size + new_batch_size]\n",
    "            target = pad_sequence([torch.tensor([rev_dict[i.data.item()] for i in j]) for j in y], batch_first=True)\n",
    "            mask = (target != 0)\n",
    "            batch_n += 1\n",
    "            tt = time.time()\n",
    "            x_inp = pad_sequence(x, batch_first=True).long().to(device)\n",
    "            target_inp = target.view(-1).to(device)\n",
    "            maskinp = mask.view(-1).to(device)\n",
    "            out = model.predict(x_inp)\n",
    "            accuracy = torch.sum((target_inp == out).double() * maskinp) / torch.sum(maskinp)\n",
    "            del x_inp\n",
    "            del target_inp\n",
    "            del maskinp\n",
    "            break\n",
    "            modt += time.time() - tt\n",
    "            if (batch_n % (100 * 2048 // new_batch_size) == 0):\n",
    "                print('Batch: [{}]\\t Accuracy: {}, Time: {}, Model Time: {}'.format(batch_n, np.array(accuracy_b[-(100 * 2048 // new_batch_size)]).mean(), time.time() - tbegin, modt), file=file_output_b_n)\n",
    "        break\n",
    "    del my_data_from_file\n",
    "    break"
   ]
  },
  {
   "cell_type": "code",
   "execution_count": 37,
   "metadata": {},
   "outputs": [],
   "source": [
    "for_dict = dict()\n",
    "for i in rev_dict.keys():\n",
    "    for_dict[rev_dict[i]] = i"
   ]
  },
  {
   "cell_type": "code",
   "execution_count": 40,
   "metadata": {},
   "outputs": [
    {
     "data": {
      "text/plain": [
       "tensor([[ 0,  0,  0,  0,  0,  0, 18, 15, 17, 15, 11, 15, 20, 18, 19, 33],\n",
       "        [ 0,  0,  0,  0,  0,  0,  0,  0,  0,  0,  0,  0,  0,  0, 15, 33],\n",
       "        [ 0,  0,  0,  0,  0,  0,  0,  0,  8,  5, 17,  1,  3,  9,  9, 33],\n",
       "        [34, 34, 34, 34, 34, 34, 34, 34, 34, 34, 34, 34, 34, 34, 34, 34]],\n",
       "       dtype=torch.uint8)"
      ]
     },
     "execution_count": 40,
     "metadata": {},
     "output_type": "execute_result"
    }
   ],
   "source": [
    "x[2]"
   ]
  },
  {
   "cell_type": "code",
   "execution_count": 72,
   "metadata": {},
   "outputs": [
    {
     "data": {
      "text/plain": [
       "25701"
      ]
     },
     "execution_count": 72,
     "metadata": {},
     "output_type": "execute_result"
    }
   ],
   "source": [
    "for_dict[4003]"
   ]
  },
  {
   "cell_type": "code",
   "execution_count": 71,
   "metadata": {
    "scrolled": true
   },
   "outputs": [
    {
     "data": {
      "text/plain": [
       "216"
      ]
     },
     "execution_count": 71,
     "metadata": {},
     "output_type": "execute_result"
    }
   ],
   "source": [
    "for_dict[4475]"
   ]
  },
  {
   "cell_type": "code",
   "execution_count": 36,
   "metadata": {
    "scrolled": true
   },
   "outputs": [
    {
     "data": {
      "text/plain": [
       "tensor([[  235,  1906,     1,   196,   196,     3,     1,     1,     1,     1,\n",
       "             1,     1,     1,     1,     1],\n",
       "        [ 6558, 14297,     4,  4487,     6,     1,     1,     1,     1,     1,\n",
       "             1,     1,     1,     1,     1],\n",
       "        [17047,    17,  2861,     1,     2,     3,     1,     1,     1,     1,\n",
       "             1,     1,     1,     1,     1],\n",
       "        [ 4003,    17,  2861,   116,   780,  5055,   166,     1,     1,     1,\n",
       "             1,     1,     1,     1,     1],\n",
       "        [ 2723,   376, 28729,  4717,     1,     3,     1,     1,     1,     1,\n",
       "             1,     1,     1,     1,     1],\n",
       "        [  425,   701,     2,   693,     1,     3,     1,     1,     1,     1,\n",
       "             1,     1,     1,     1,     1],\n",
       "        [10096,     1,     3,   196,   196,     3,     1,     1,     1,     1,\n",
       "             1,     1,     1,     1,     1],\n",
       "        [ 4003,    17,  4095,     1,     2,     3,     1,     1,     1,     1,\n",
       "             1,     1,     1,     1,     1],\n",
       "        [  235,  1906,     1,   196,   196,     3,     1,     1,     1,     1,\n",
       "             1,     1,     1,     1,     1],\n",
       "        [ 4003,    17,  2861,   116,   780,  5055,   166,     1,     1,     1,\n",
       "             1,     1,     1,     1,     1],\n",
       "        [ 5668,  4831,     6,  8881,   686,     3,   505, 24329,  6402,    14,\n",
       "          5322, 19518,  5029,     4,     1],\n",
       "        [ 2723,   376, 28729,  4717,     1,     3,     1,     1,     1,     1,\n",
       "             1,     1,     1,     1,     1],\n",
       "        [ 3593,  6427,  7574,  7844,  1419,  8308, 30856,  5099,     1,     1,\n",
       "             1,     1,     1,     1,     1],\n",
       "        [  559,  5539,     1,   196,   196,     3,     1,     1,     1,     1,\n",
       "             1,     1,     1,     1,     1],\n",
       "        [   25,     5, 11592,    67,     5, 14837,     2,  2765, 21882, 11013,\n",
       "             3, 12555,     1,     1,     1],\n",
       "        [    8,    11,    21,   626,     7,   695,  4323,   497,     1,     1,\n",
       "             1,     1,     1,     1,     1]], device='cuda:0')"
      ]
     },
     "execution_count": 36,
     "metadata": {},
     "output_type": "execute_result"
    }
   ],
   "source": [
    "out.reshape(target.shape)"
   ]
  },
  {
   "cell_type": "code",
   "execution_count": 73,
   "metadata": {},
   "outputs": [
    {
     "data": {
      "text/plain": [
       "torch.Size([16, 15])"
      ]
     },
     "execution_count": 73,
     "metadata": {},
     "output_type": "execute_result"
    }
   ],
   "source": [
    "target.shape"
   ]
  },
  {
   "cell_type": "code",
   "execution_count": 35,
   "metadata": {},
   "outputs": [
    {
     "data": {
      "text/plain": [
       "tensor([[   235,   1906,      1,      0,      0,      0,      0,      0,      0,\n",
       "              0,      0,      0,      0,      0,      0],\n",
       "        [  6558,  14297,      4,   4487,      6,      1,      0,      0,      0,\n",
       "              0,      0,      0,      0,      0,      0],\n",
       "        [ 19678,     17,   2861,      1,      0,      0,      0,      0,      0,\n",
       "              0,      0,      0,      0,      0,      0],\n",
       "        [  4475,     17,   2861,    116,    780,   5055,    166,      1,      0,\n",
       "              0,      0,      0,      0,      0,      0],\n",
       "        [  2723,    376,  13036,   4717,      1,      0,      0,      0,      0,\n",
       "              0,      0,      0,      0,      0,      0],\n",
       "        [   425,    701,      2,    693,      1,      0,      0,      0,      0,\n",
       "              0,      0,      0,      0,      0,      0],\n",
       "        [ 31389,      1,      0,      0,      0,      0,      0,      0,      0,\n",
       "              0,      0,      0,      0,      0,      0],\n",
       "        [  4475,     17,   4095,      1,      0,      0,      0,      0,      0,\n",
       "              0,      0,      0,      0,      0,      0],\n",
       "        [   235,   1906,      1,      0,      0,      0,      0,      0,      0,\n",
       "              0,      0,      0,      0,      0,      0],\n",
       "        [  4475,     17,   2861,    116,    780,   5055,    166,      1,      0,\n",
       "              0,      0,      0,      0,      0,      0],\n",
       "        [  5668,   4831,      6, 212212,    686,      3,    505,  14820,  31303,\n",
       "             14,  78899,  22431,   5029,      4,      1],\n",
       "        [  2723,    376,  13036,   4717,      1,      0,      0,      0,      0,\n",
       "              0,      0,      0,      0,      0,      0],\n",
       "        [  3593, 103820,   7574,  49707,  91379,  11983,  56516,   5099,      1,\n",
       "              0,      0,      0,      0,      0,      0],\n",
       "        [   559,  17624,      1,      0,      0,      0,      0,      0,      0,\n",
       "              0,      0,      0,      0,      0,      0],\n",
       "        [    25,      5, 201618,     67,      5, 125244,      2,   2765,  33906,\n",
       "         391453,      3,  10101,      1,      0,      0],\n",
       "        [     8,     11,     21,  26180,      7,    695,   4323,    497,      1,\n",
       "              0,      0,      0,      0,      0,      0]])"
      ]
     },
     "execution_count": 35,
     "metadata": {},
     "output_type": "execute_result"
    }
   ],
   "source": [
    "target"
   ]
  },
  {
   "cell_type": "code",
   "execution_count": null,
   "metadata": {},
   "outputs": [],
   "source": []
  },
  {
   "cell_type": "code",
   "execution_count": 24,
   "metadata": {},
   "outputs": [
    {
     "data": {
      "text/plain": [
       "0.7550915855705582"
      ]
     },
     "execution_count": 24,
     "metadata": {},
     "output_type": "execute_result"
    }
   ],
   "source": [
    "np.array(accuracy_b).mean()"
   ]
  },
  {
   "cell_type": "code",
   "execution_count": 23,
   "metadata": {},
   "outputs": [
    {
     "data": {
      "text/plain": [
       "0.750151612271121"
      ]
     },
     "execution_count": 23,
     "metadata": {},
     "output_type": "execute_result"
    }
   ],
   "source": [
    "np.array(accuracy_b).mean()"
   ]
  },
  {
   "cell_type": "code",
   "execution_count": 20,
   "metadata": {},
   "outputs": [
    {
     "data": {
      "text/plain": [
       "0.7417894242224554"
      ]
     },
     "execution_count": 20,
     "metadata": {},
     "output_type": "execute_result"
    }
   ],
   "source": [
    "np.array(accuracy_b).mean()"
   ]
  },
  {
   "cell_type": "markdown",
   "metadata": {},
   "source": [
    "1 эпоха 0.7417894242224554"
   ]
  },
  {
   "cell_type": "code",
   "execution_count": null,
   "metadata": {},
   "outputs": [],
   "source": [
    "def eval_loss(model):\n",
    "    test_losses_data_1 = []\n",
    "    model.eval()\n",
    "    #model.to(device)\n",
    "    train_losses = []\n",
    "    test_losses = []\n",
    "    last_train_loss = 0\n",
    "    last_test_loss = 0\n",
    "    batch_n = 0\n",
    "    for file_idx in range(fileind):\n",
    "        my_data_from_file = torch.load(f\"source_files/data_1024_ixy_{file_idx}\")\n",
    "        for is_test, x1, y1 in my_data_from_file:\n",
    "            for batch_ind in range((len(y1) - 1) // new_batch_size + 1):\n",
    "                x = x1[batch_ind * new_batch_size : batch_ind * new_batch_size + new_batch_size]\n",
    "                y = y1[batch_ind * new_batch_size : batch_ind * new_batch_size + new_batch_size]\n",
    "                target = pad_sequence([torch.tensor([rev_dict[i.data.item()] for i in j]) for j in y], batch_first=True)\n",
    "                mask = (target != 0)\n",
    "                batch_n += 1\n",
    "                tt = time.time()\n",
    "                opt.zero_grad()\n",
    "                x_inp = pad_sequence(x, batch_first=True).long().to(device)\n",
    "                target_inp = target.view(-1).to(device)\n",
    "                maskinp = mask.view(-1).to(device)\n",
    "                loss = model(x_inp, target_inp, maskinp) / len(y)\n",
    "    return test_losses_data_1"
   ]
  },
  {
   "cell_type": "code",
   "execution_count": null,
   "metadata": {},
   "outputs": [],
   "source": [
    "def m_forward(model, x):\n",
    "    rest = model.predict(x)\n",
    "    #res = torch.reshape(rest, (5, 8))\n",
    "    #_, ind = torch.topk(res, 1, dim=1)\n",
    "    return rest\n"
   ]
  },
  {
   "cell_type": "code",
   "execution_count": null,
   "metadata": {},
   "outputs": [],
   "source": [
    "def get_example(model, my_data_from_file):\n",
    "    model.eval()\n",
    "    last_train_loss = 0\n",
    "    last_test_loss = 0\n",
    "    #batch_n = 0\n",
    "    #modt = 0\n",
    "    #tbegin = time.time()\n",
    "    new_batch_size = 256\n",
    "    for file_idx in range(fileind):\n",
    "        print(file_idx)\n",
    "        for is_test, x1, y1 in my_data_from_file:\n",
    "            if is_test == 0:\n",
    "                continue\n",
    "            for batch_ind in range((len(y1) - 1) // new_batch_size + 1):\n",
    "                x = x1[batch_ind * new_batch_size : batch_ind * new_batch_size + new_batch_size]\n",
    "                y = y1[batch_ind * new_batch_size : batch_ind * new_batch_size + new_batch_size]\n",
    "                tt = time.time()\n",
    "                #batch_n += 1\n",
    "                target = pad_sequence(y, batch_first=True)\n",
    "                #mask = (target != 0)\n",
    "                X = pad_sequence(x, batch_first=True).long().to(device)\n",
    "                ret = m_forward(model, X)\n",
    "                for i in range()\n",
    "                #loss = model(pad_sequence(x, batch_first=True).long().to(device), target.view(-1, 1).to(device), dset.get_neg(5, target.shape[0] * target.shape[1]).to(device), mask.view(-1).to(device)) / len(y)\n",
    "                #test_losses_data_1.append(loss.data.item())\n",
    "                #test_losses.append(loss.data.item())\n",
    "                #modt += time.time() - tt\n",
    "                #del my_data_from_file\n",
    "                return X[:5], y[:5], ret\n"
   ]
  },
  {
   "cell_type": "code",
   "execution_count": null,
   "metadata": {},
   "outputs": [],
   "source": [
    "del my_data_from_file"
   ]
  },
  {
   "cell_type": "code",
   "execution_count": null,
   "metadata": {},
   "outputs": [],
   "source": [
    "my_data_from_file = torch.load(f\"source_files/data_1024_ixy_0\")"
   ]
  },
  {
   "cell_type": "code",
   "execution_count": null,
   "metadata": {},
   "outputs": [],
   "source": [
    "a, b, c = get_example(model, my_data_from_file)"
   ]
  },
  {
   "cell_type": "code",
   "execution_count": null,
   "metadata": {},
   "outputs": [],
   "source": [
    "c.reshape(5, 8)"
   ]
  },
  {
   "cell_type": "code",
   "execution_count": null,
   "metadata": {},
   "outputs": [],
   "source": [
    "[[rev_dict[i.data.item()] for i in j] for j in b]"
   ]
  },
  {
   "cell_type": "code",
   "execution_count": null,
   "metadata": {},
   "outputs": [],
   "source": [
    "rev_dict[0]"
   ]
  },
  {
   "cell_type": "code",
   "execution_count": null,
   "metadata": {},
   "outputs": [],
   "source": [
    "b"
   ]
  },
  {
   "cell_type": "code",
   "execution_count": null,
   "metadata": {},
   "outputs": [],
   "source": [
    "_, ind = torch.topk(c, 10, dim=2)"
   ]
  },
  {
   "cell_type": "code",
   "execution_count": null,
   "metadata": {},
   "outputs": [],
   "source": [
    "c[0][1][2]"
   ]
  },
  {
   "cell_type": "code",
   "execution_count": null,
   "metadata": {},
   "outputs": [],
   "source": [
    "c[0][1][444400]"
   ]
  },
  {
   "cell_type": "code",
   "execution_count": null,
   "metadata": {},
   "outputs": [],
   "source": [
    "print(ind)"
   ]
  },
  {
   "cell_type": "code",
   "execution_count": null,
   "metadata": {},
   "outputs": [],
   "source": [
    "fileind = 12"
   ]
  },
  {
   "cell_type": "code",
   "execution_count": null,
   "metadata": {},
   "outputs": [],
   "source": [
    "tld = eval_loss(model)\n"
   ]
  },
  {
   "cell_type": "code",
   "execution_count": null,
   "metadata": {},
   "outputs": [],
   "source": [
    "train_l_np = gaussian_filter1d(np.array(tld), sigma=50)\n",
    "pd.DataFrame(train_l_np, columns=['loss']).plot(y='loss', kind='line')"
   ]
  },
  {
   "cell_type": "code",
   "execution_count": null,
   "metadata": {},
   "outputs": [],
   "source": []
  },
  {
   "cell_type": "code",
   "execution_count": null,
   "metadata": {},
   "outputs": [],
   "source": [
    "np.array(tld).mean()"
   ]
  },
  {
   "cell_type": "code",
   "execution_count": null,
   "metadata": {},
   "outputs": [],
   "source": [
    "torch.save((train_losses_data, test_losses_data), \"losses_vector\")"
   ]
  },
  {
   "cell_type": "code",
   "execution_count": null,
   "metadata": {},
   "outputs": [],
   "source": [
    "torch.save(model, \"model_epoch_2.pt\")"
   ]
  },
  {
   "cell_type": "code",
   "execution_count": null,
   "metadata": {},
   "outputs": [],
   "source": [
    "dtestloss_epoch_1 = pd.DataFrame(epoch_1_losses, columns=['loss'])\n"
   ]
  },
  {
   "cell_type": "code",
   "execution_count": null,
   "metadata": {},
   "outputs": [],
   "source": [
    "(len(train_losses_data) - len(train_losses)) / 12"
   ]
  },
  {
   "cell_type": "code",
   "execution_count": null,
   "metadata": {},
   "outputs": [],
   "source": [
    "(len(test_losses_data) - len(test_losses)) / 12"
   ]
  },
  {
   "cell_type": "code",
   "execution_count": null,
   "metadata": {},
   "outputs": [],
   "source": [
    "26138.0 + 2907"
   ]
  },
  {
   "cell_type": "code",
   "execution_count": null,
   "metadata": {},
   "outputs": [],
   "source": [
    "batch_n"
   ]
  },
  {
   "cell_type": "code",
   "execution_count": 32,
   "metadata": {},
   "outputs": [],
   "source": [
    "import pandas as pd"
   ]
  },
  {
   "cell_type": "code",
   "execution_count": 26,
   "metadata": {},
   "outputs": [
    {
     "data": {
      "text/plain": [
       "<matplotlib.axes._subplots.AxesSubplot at 0x7faca1b349e8>"
      ]
     },
     "execution_count": 26,
     "metadata": {},
     "output_type": "execute_result"
    },
    {
     "data": {
      "image/png": "[encoded data removed]",
      "text/plain": [
       "<Figure size 432x288 with 1 Axes>"
      ]
     },
     "metadata": {
      "needs_background": "light"
     },
     "output_type": "display_data"
    }
   ],
   "source": [
    "pd.DataFrame(gaussian_filter1d(np.array(accuracy_b), sigma=50), columns=['accuracy']).plot(y='accuracy', kind='line')"
   ]
  },
  {
   "cell_type": "code",
   "execution_count": 27,
   "metadata": {},
   "outputs": [
    {
     "data": {
      "text/plain": [
       "<matplotlib.axes._subplots.AxesSubplot at 0x7ff621abb390>"
      ]
     },
     "execution_count": 27,
     "metadata": {},
     "output_type": "execute_result"
    },
    {
     "data": {
      "image/png": "[encoded data removed]",
      "text/plain": [
       "<Figure size 432x288 with 1 Axes>"
      ]
     },
     "metadata": {
      "needs_background": "light"
     },
     "output_type": "display_data"
    }
   ],
   "source": [
    "pd.DataFrame(gaussian_filter1d(np.array(accuracy_b), sigma=50), columns=['accuracy']).plot(y='accuracy', kind='line')"
   ]
  },
  {
   "cell_type": "code",
   "execution_count": 26,
   "metadata": {},
   "outputs": [
    {
     "data": {
      "text/plain": [
       "<matplotlib.axes._subplots.AxesSubplot at 0x7fdbed756b00>"
      ]
     },
     "execution_count": 26,
     "metadata": {},
     "output_type": "execute_result"
    },
    {
     "data": {
      "image/png": "[encoded data removed]",
      "text/plain": [
       "<Figure size 432x288 with 1 Axes>"
      ]
     },
     "metadata": {
      "needs_background": "light"
     },
     "output_type": "display_data"
    }
   ],
   "source": [
    "pd.DataFrame(gaussian_filter1d(np.array(accuracy_b), sigma=50), columns=['accuracy']).plot(y='accuracy', kind='line')"
   ]
  },
  {
   "cell_type": "code",
   "execution_count": 25,
   "metadata": {},
   "outputs": [
    {
     "data": {
      "text/plain": [
       "<matplotlib.axes._subplots.AxesSubplot at 0x7f9d6b7f84e0>"
      ]
     },
     "execution_count": 25,
     "metadata": {},
     "output_type": "execute_result"
    },
    {
     "data": {
      "image/png": "[encoded data removed]",
      "text/plain": [
       "<Figure size 432x288 with 1 Axes>"
      ]
     },
     "metadata": {
      "needs_background": "light"
     },
     "output_type": "display_data"
    }
   ],
   "source": [
    "pd.DataFrame(gaussian_filter1d(np.array(accuracy_b), sigma=50), columns=['accuracy']).plot(y='accuracy', kind='line')"
   ]
  },
  {
   "cell_type": "markdown",
   "metadata": {},
   "source": [
    "Ниже изображена сглаженная точность по батчам, видные резкие перепады совпадают со сменой тематики датасета"
   ]
  },
  {
   "attachments": {
    "image.png": {
     "image/png": "[encoded data removed]"
    }
   },
   "cell_type": "markdown",
   "metadata": {},
   "source": [
    "![image.png](attachment:image.png)\n"
   ]
  },
  {
   "cell_type": "code",
   "execution_count": 33,
   "metadata": {},
   "outputs": [],
   "source": [
    "from scipy.ndimage.filters import gaussian_filter1d\n"
   ]
  },
  {
   "cell_type": "code",
   "execution_count": null,
   "metadata": {},
   "outputs": [],
   "source": [
    "def get_epoch_loss_train(epoch):\n",
    "    #epoch_1_losses = []\n",
    "    #tmp = []\n",
    "    #for i in range(epoch * 26138, epoch * 26138 + 26138):\n",
    "    #    epoch_1_losses.append(np.array(tmp).mean())\n",
    "    #    if (len(tmp) >= 1000):\n",
    "    #        tmp = tmp[1:]\n",
    "    #    tmp.append(train_losses_data[i])\n",
    "    train_l_np = gaussian_filter1d(np.array(train_losses_data[epoch * 26138 : epoch * 26138 + 26138]), sigma=50)\n",
    "    #epoch_1_losses.append(np.array(tmp).mean())\n",
    "    #tmp = []\n",
    "    dtestloss_epoch_1 = pd.DataFrame(train_l_np, columns=['loss'])\n",
    "    return dtestloss_epoch_1"
   ]
  },
  {
   "cell_type": "code",
   "execution_count": null,
   "metadata": {},
   "outputs": [],
   "source": [
    "def get_epoch_loss_test(epoch):\n",
    "    '''epoch_1_losses = []\n",
    "    tmp = []\n",
    "    for i in range(epoch * 2907, epoch * 2907 + 2907):\n",
    "        if (len(tmp) == 1000):\n",
    "            epoch_1_losses.append(np.array(tmp).mean())\n",
    "            tmp = []\n",
    "        tmp.append(test_losses_data[i])\n",
    "    epoch_1_losses.append(np.array(tmp).mean())\n",
    "    tmp = []\n",
    "    dtestloss_epoch_1 = pd.DataFrame(epoch_1_losses, columns=['loss'])'''\n",
    "    test_l_np = gaussian_filter1d(np.array(test_losses_data[epoch * 2907 : epoch * 2907 + 2907]), sigma=50)\n",
    "    #epoch_1_losses.append(np.array(tmp).mean())\n",
    "    #tmp = []\n",
    "    dtestloss_epoch_1 = pd.DataFrame(test_l_np, columns=['loss'])\n",
    "    return dtestloss_epoch_1"
   ]
  },
  {
   "cell_type": "code",
   "execution_count": null,
   "metadata": {},
   "outputs": [],
   "source": [
    "for i in range(10):\n",
    "    get_epoch_loss_train(i).plot(y='loss', kind='line')"
   ]
  },
  {
   "cell_type": "code",
   "execution_count": null,
   "metadata": {},
   "outputs": [],
   "source": [
    "for i in range(10):\n",
    "    get_epoch_loss_test(i).plot(y='loss', kind='line')"
   ]
  },
  {
   "cell_type": "markdown",
   "metadata": {},
   "source": [
    "Как видно выше, значительные скачки в качестве работы модели совпадают с двумя изменениями базы данных"
   ]
  },
  {
   "cell_type": "code",
   "execution_count": null,
   "metadata": {},
   "outputs": [],
   "source": []
  },
  {
   "cell_type": "code",
   "execution_count": null,
   "metadata": {},
   "outputs": [],
   "source": [
    "3.8 / (3.8 + 1.1 + 0.9) * 255"
   ]
  },
  {
   "cell_type": "markdown",
   "metadata": {},
   "source": [
    "epoch [1 / 5]\t Test loss: 0.5099887331205446, Train loss: 0.5170078234841905, Time: 11539.199964046478\n"
   ]
  },
  {
   "cell_type": "markdown",
   "metadata": {},
   "source": [
    "epoch [2 / 5]\t Test loss: 0.33134568085119326, Train loss: 0.32768780448848756, Time: 7863.206111431122\n"
   ]
  },
  {
   "cell_type": "markdown",
   "metadata": {},
   "source": [
    "epoch [3 / 20]\t Test loss: 0.2708103725174714, Train loss: 0.2646242863751537, Time: 8577.930572748184\n"
   ]
  },
  {
   "cell_type": "markdown",
   "metadata": {},
   "source": [
    "29045 батчей всего"
   ]
  },
  {
   "cell_type": "code",
   "execution_count": null,
   "metadata": {},
   "outputs": [],
   "source": [
    "2355"
   ]
  },
  {
   "cell_type": "code",
   "execution_count": null,
   "metadata": {},
   "outputs": [],
   "source": [
    "batch_n"
   ]
  },
  {
   "cell_type": "code",
   "execution_count": null,
   "metadata": {},
   "outputs": [],
   "source": [
    "class Word2Vec(nn.Module):\n",
    "    def __init__(self, vec_size, vocab_size):\n",
    "        super(Word2Vec, self).__init__()\n",
    "        self.word_embed = nn.Embedding(vocab_size, vec_size, sparse=True)\n",
    "        self.cont_embed = nn.Embedding(vocab_size, vec_size, sparse=True)\n",
    "\n",
    "    def forward(self, X, Y_p, Y_n):\n",
    "        embed_w = self.word_embed(X)\n",
    "        embed_cp = self.cont_embed(Y_p)\n",
    "        embed_cn = self.cont_embed(Y_n)\n",
    "\n",
    "        neg_sim = torch.bmm(embed_cn, embed_w.unsqueeze(2))\n",
    "        neg_sim = neg_sim.squeeze(2)\n",
    "        neg_sim = torch.clamp(neg_sim, max=10, min=-10)\n",
    "        neg_loss = -torch.sum(F.logsigmoid(-neg_sim), dim=1)\n",
    "\n",
    "        pos_sim = torch.sum(torch.mul(embed_cp, embed_w), dim=1)\n",
    "        pos_sim = torch.clamp(pos_sim, min=-10, max=10)\n",
    "        pos_loss = -F.logsigmoid(pos_sim)\n",
    "\n",
    "        return pos_loss + neg_loss"
   ]
  },
  {
   "cell_type": "code",
   "execution_count": null,
   "metadata": {},
   "outputs": [],
   "source": []
  },
  {
   "cell_type": "code",
   "execution_count": null,
   "metadata": {},
   "outputs": [],
   "source": []
  },
  {
   "cell_type": "code",
   "execution_count": null,
   "metadata": {},
   "outputs": [],
   "source": [
    "print(torch.__version__)\n",
    "import pickle\n"
   ]
  },
  {
   "cell_type": "code",
   "execution_count": null,
   "metadata": {},
   "outputs": [],
   "source": [
    "word2vecdataset = MyWord2VecDatasetFromMongo([collection_gardening, collection_opposition, collection_relig], 3, 5, need_neg=False)"
   ]
  },
  {
   "cell_type": "code",
   "execution_count": null,
   "metadata": {},
   "outputs": [],
   "source": [
    "for i in word2vecdataset:\n",
    "    print(i)\n",
    "    break"
   ]
  },
  {
   "cell_type": "code",
   "execution_count": null,
   "metadata": {},
   "outputs": [],
   "source": [
    "word2vecdataload = MyBatcher([word2vecdataset], 16384 * 2, 0, 22)"
   ]
  },
  {
   "cell_type": "code",
   "execution_count": null,
   "metadata": {},
   "outputs": [],
   "source": [
    "n_epochs_w2v = 20"
   ]
  },
  {
   "cell_type": "code",
   "execution_count": null,
   "metadata": {},
   "outputs": [],
   "source": [
    "torch.cuda.empty_cache()"
   ]
  },
  {
   "cell_type": "code",
   "execution_count": null,
   "metadata": {},
   "outputs": [],
   "source": []
  },
  {
   "cell_type": "code",
   "execution_count": null,
   "metadata": {},
   "outputs": [],
   "source": [
    "w2vmodel = Word2Vec(vec_size, vocab_word_size).to(device)"
   ]
  },
  {
   "cell_type": "code",
   "execution_count": null,
   "metadata": {},
   "outputs": [],
   "source": [
    "optimw2vec = optim.SparseAdam(w2vmodel.parameters(), lr=1e-3)\n",
    "#sched = optim.lr_scheduler.CosineAnnealingLR(optimw2vec, len(self.dataloader))\n"
   ]
  },
  {
   "cell_type": "code",
   "execution_count": null,
   "metadata": {},
   "outputs": [],
   "source": [
    "for epoch in range(n_epochs_w2v):\n",
    "    train_loss = []\n",
    "    n_batch = 0\n",
    "    t = time.time()\n",
    "    dset.shuffle_neg()\n",
    "    for _, x, y in word2vecdataload:\n",
    "        neg = torch.tensor(dset.get_neg(5, len(y))).to(device)\n",
    "        n_batch += 1\n",
    "        if (n_batch % 1000 == 0):\n",
    "            print(f'epoch: [{epoch} / {n_epochs_w2v}], batch: [{n_batch}], loss: {np.array(train_loss).mean()}, time: {time.time() - t}, kerrs: {kerrs}')\n",
    "            train_loss = []\n",
    "        #sched.step()\n",
    "        optimw2vec.zero_grad()\n",
    "        xdev = torch.tensor(x).to(device)\n",
    "        ydev = torch.tensor(y).to(device)\n",
    "        loss = w2vmodel(xdev, ydev, neg)\n",
    "        loss_s = loss.mean()\n",
    "        loss_s.backward()\n",
    "        train_loss.append(loss_s.data.item())\n",
    "        optimw2vec.step()\n",
    "    torch.save(w2vmodel, f\"model_{epoch // 2}\")"
   ]
  },
  {
   "cell_type": "code",
   "execution_count": null,
   "metadata": {},
   "outputs": [],
   "source": [
    "torchmass = []"
   ]
  },
  {
   "cell_type": "code",
   "execution_count": null,
   "metadata": {},
   "outputs": [],
   "source": [
    "\n",
    "cou_sents = 0\n",
    "kerrs = 0\n",
    "knerrs = 0\n",
    "t = time.time()\n",
    "posts = collection_relig.find({}, {'_id': 1, 'y_sentences': 1}, no_cursor_timeout=True)\n",
    "for elem in posts:\n",
    "    try:\n",
    "        sents = elem['y_sentences']\n",
    "    except KeyError:\n",
    "        kerrs += 1\n",
    "        continue\n",
    "    knerrs += 1\n",
    "    for sent in sents:\n",
    "        cou_sents += 1\n",
    "        torchmass.append(sent[:-1])\n",
    "    if (cou_sents % 1000 == 0):\n",
    "        print(cou_sents, knerrs, kerrs, time.time() - t)"
   ]
  },
  {
   "cell_type": "code",
   "execution_count": null,
   "metadata": {},
   "outputs": [],
   "source": [
    "file = open(\"data_r_string_format\", \"wt\")"
   ]
  },
  {
   "cell_type": "code",
   "execution_count": null,
   "metadata": {},
   "outputs": [],
   "source": [
    "file2 = open(\"data_sum_string_format\", \"wt\")"
   ]
  },
  {
   "cell_type": "code",
   "execution_count": null,
   "metadata": {},
   "outputs": [],
   "source": [
    "suml = 0\n",
    "maxw = 0\n",
    "scou = 0\n",
    "print(len(torchmass))"
   ]
  },
  {
   "cell_type": "code",
   "execution_count": null,
   "metadata": {},
   "outputs": [],
   "source": [
    "maxl = 0\n",
    "for i in torchmass:\n",
    "    maxl = max(maxl, len(i))"
   ]
  },
  {
   "cell_type": "code",
   "execution_count": null,
   "metadata": {},
   "outputs": [],
   "source": [
    "maxl"
   ]
  },
  {
   "cell_type": "code",
   "execution_count": null,
   "metadata": {},
   "outputs": [],
   "source": [
    "t = time.time()\n",
    "for i in torchmass:\n",
    "    suml += len(i)\n",
    "    scou += 1\n",
    "    if (scou % 1000 == 0):\n",
    "        print(scou, time.time() - t)\n",
    "    for j in i:\n",
    "        print(j, end=' ', file=file2)\n",
    "    print(file=file)\n",
    "    maxw = max(maxw, max(i))"
   ]
  },
  {
   "cell_type": "code",
   "execution_count": null,
   "metadata": {},
   "outputs": [],
   "source": [
    "print(maxw)"
   ]
  },
  {
   "cell_type": "code",
   "execution_count": null,
   "metadata": {},
   "outputs": [],
   "source": []
  },
  {
   "cell_type": "code",
   "execution_count": null,
   "metadata": {},
   "outputs": [],
   "source": [
    "for i in torchmass:\n",
    "    print(*i, file=file)"
   ]
  },
  {
   "cell_type": "code",
   "execution_count": null,
   "metadata": {},
   "outputs": [],
   "source": []
  },
  {
   "cell_type": "code",
   "execution_count": null,
   "metadata": {},
   "outputs": [],
   "source": [
    "cou_sents = 0\n",
    "kerrs = 0\n",
    "knerrs = 0\n",
    "t = time.time()\n",
    "posts = collection_opposition.find({}, {'_id': 1, 'y_sentences': 1}, no_cursor_timeout=True)\n",
    "for elem in posts:\n",
    "    try:\n",
    "        sents = elem['y_sentences']\n",
    "    except KeyError:\n",
    "        kerrs += 1\n",
    "        continue\n",
    "    knerrs += 1\n",
    "    for sent in sents:\n",
    "        cou_sents += 1\n",
    "        torchmass.append(sent[:-1])\n",
    "    if (cou_sents % 1000 == 0):\n",
    "        print(cou_sents, knerrs, kerrs, time.time() - t)"
   ]
  },
  {
   "cell_type": "code",
   "execution_count": null,
   "metadata": {},
   "outputs": [],
   "source": [
    "torch.save(torchmass, \"data_ro.out\")\n",
    "del torchmass\n",
    "torchmass = []"
   ]
  },
  {
   "cell_type": "code",
   "execution_count": null,
   "metadata": {},
   "outputs": [],
   "source": [
    "cou_sents = 0\n",
    "kerrs = 0\n",
    "knerrs = 0\n",
    "t = time.time()\n",
    "posts = collection_gardening.find({}, {'_id': 1, 'y_sentences': 1}, no_cursor_timeout=True)\n",
    "for elem in posts:\n",
    "    try:\n",
    "        sents = elem['y_sentences']\n",
    "    except KeyError:\n",
    "        kerrs += 1\n",
    "        continue\n",
    "    knerrs += 1\n",
    "    for sent in sents:\n",
    "        cou_sents += 1\n",
    "        torchmass.append(sent[:-1])\n",
    "    if (cou_sents % 1000 == 0):\n",
    "        print(cou_sents, knerrs, kerrs, time.time() - t)"
   ]
  },
  {
   "cell_type": "code",
   "execution_count": null,
   "metadata": {},
   "outputs": [],
   "source": [
    "!pip install gensim"
   ]
  },
  {
   "cell_type": "code",
   "execution_count": null,
   "metadata": {},
   "outputs": [],
   "source": [
    "for i in range(len(torchmass)):\n",
    "    for j in range(len(torchmass[i])):\n",
    "        torchmass[i][j] = str(torchmass[i][j])"
   ]
  },
  {
   "cell_type": "code",
   "execution_count": null,
   "metadata": {},
   "outputs": [],
   "source": [
    "from gensim.models import Word2Vec"
   ]
  },
  {
   "cell_type": "code",
   "execution_count": null,
   "metadata": {},
   "outputs": [],
   "source": [
    "myw2v = Word2Vec(size=300, window=5, min_count=1, sg=1, hs=0, negative=5, ns_exponent=0.7, sample=1e-3)"
   ]
  },
  {
   "cell_type": "code",
   "execution_count": null,
   "metadata": {},
   "outputs": [],
   "source": [
    "myw2v.build_vocab(torchmass)"
   ]
  },
  {
   "cell_type": "code",
   "execution_count": null,
   "metadata": {},
   "outputs": [],
   "source": [
    "import datetime\n",
    "print(datetime.datetime.now())\n",
    "t = time.time()\n",
    "myw2v.train(torchmass, total_examples=len(torchmass), start_alpha=5e-3, end_alpha=1e-4, epochs=5, compute_loss=True)\n",
    "print(time.time() - t)\n",
    "print(datetime.datetime.now())"
   ]
  },
  {
   "cell_type": "code",
   "execution_count": null,
   "metadata": {},
   "outputs": [],
   "source": [
    "neg_samples_file = \"data_files/neg_samples.out\""
   ]
  },
  {
   "cell_type": "code",
   "execution_count": null,
   "metadata": {},
   "outputs": [],
   "source": [
    "torch.save(word2vecdataset.neg_samples, neg_samples_file)"
   ]
  },
  {
   "cell_type": "code",
   "execution_count": null,
   "metadata": {},
   "outputs": [],
   "source": [
    "torch.save(torchmass, target_data_file)"
   ]
  },
  {
   "cell_type": "code",
   "execution_count": null,
   "metadata": {},
   "outputs": [],
   "source": [
    "35000"
   ]
  },
  {
   "cell_type": "code",
   "execution_count": null,
   "metadata": {},
   "outputs": [],
   "source": [
    "%%time\n",
    "t = time.time()\n",
    "for is_test, x, y in my_dataloader:\n",
    "    if (babatch_n % 1000 == 0):\n",
    "        print(babatch_n, time.time() - t)\n",
    "    babatch_n += 1\n"
   ]
  },
  {
   "cell_type": "code",
   "execution_count": null,
   "metadata": {},
   "outputs": [],
   "source": [
    "t2 = torch.ones((2, 3, 5))"
   ]
  },
  {
   "cell_type": "code",
   "execution_count": null,
   "metadata": {},
   "outputs": [],
   "source": [
    "torch.bmm(t1, t2).shape, torch.bmm(t1, t2)"
   ]
  },
  {
   "cell_type": "code",
   "execution_count": null,
   "metadata": {},
   "outputs": [],
   "source": [
    "t = torch.ones((2, 3, 4))\n",
    "for i in range(2):\n",
    "    for j in range(3):\n",
    "        for k in range(4):\n",
    "            t[i][j][k] = i + j * 2 + k * 6"
   ]
  },
  {
   "cell_type": "code",
   "execution_count": null,
   "metadata": {},
   "outputs": [],
   "source": [
    "np.array(train_losses).mean()"
   ]
  },
  {
   "cell_type": "code",
   "execution_count": null,
   "metadata": {},
   "outputs": [],
   "source": [
    "a = t.reshape(2, 12)\n",
    "a"
   ]
  },
  {
   "cell_type": "code",
   "execution_count": null,
   "metadata": {},
   "outputs": [],
   "source": [
    "np.array([1, 2, 3, 4]) > 2"
   ]
  },
  {
   "cell_type": "code",
   "execution_count": null,
   "metadata": {},
   "outputs": [],
   "source": [
    "t = torch.zeros(2, 2)"
   ]
  },
  {
   "cell_type": "code",
   "execution_count": null,
   "metadata": {},
   "outputs": [],
   "source": [
    "t[0][0] = 1\n",
    "t[0][1] = 2\n",
    "t[1][0] = 1000\n",
    "t[1][1] = 1000"
   ]
  },
  {
   "cell_type": "code",
   "execution_count": null,
   "metadata": {},
   "outputs": [],
   "source": [
    "aaaaa = F.softmax(t, dim = 1)"
   ]
  },
  {
   "cell_type": "code",
   "execution_count": null,
   "metadata": {},
   "outputs": [],
   "source": [
    "aaaaa.topk(1)[1].shape"
   ]
  },
  {
   "cell_type": "code",
   "execution_count": null,
   "metadata": {},
   "outputs": [],
   "source": [
    "aaaaa"
   ]
  },
  {
   "cell_type": "code",
   "execution_count": null,
   "metadata": {},
   "outputs": [],
   "source": [
    "errors, words"
   ]
  },
  {
   "cell_type": "code",
   "execution_count": null,
   "metadata": {},
   "outputs": [],
   "source": [
    "train_losses"
   ]
  },
  {
   "cell_type": "code",
   "execution_count": null,
   "metadata": {},
   "outputs": [],
   "source": [
    "ncou = 0"
   ]
  },
  {
   "cell_type": "code",
   "execution_count": null,
   "metadata": {},
   "outputs": [],
   "source": [
    "for a in word_cou.keys():\n",
    "    b = word_cou[a]\n",
    "    if (b > 5):\n",
    "        ncou += 1"
   ]
  },
  {
   "cell_type": "code",
   "execution_count": null,
   "metadata": {},
   "outputs": [],
   "source": [
    "ncou"
   ]
  },
  {
   "cell_type": "code",
   "execution_count": null,
   "metadata": {},
   "outputs": [],
   "source": [
    "t = torch.zeros(64)\n",
    "t2 = torch.zeros(64)"
   ]
  },
  {
   "cell_type": "code",
   "execution_count": null,
   "metadata": {},
   "outputs": [],
   "source": [
    "t * t2"
   ]
  },
  {
   "cell_type": "code",
   "execution_count": null,
   "metadata": {},
   "outputs": [],
   "source": [
    "1236-ord('а')"
   ]
  },
  {
   "cell_type": "code",
   "execution_count": null,
   "metadata": {},
   "outputs": [],
   "source": [
    "chr(164)"
   ]
  },
  {
   "cell_type": "code",
   "execution_count": null,
   "metadata": {},
   "outputs": [],
   "source": []
  }
 ],
 "metadata": {
  "kernelspec": {
   "display_name": "Python 3",
   "language": "python",
   "name": "python3"
  },
  "language_info": {
   "codemirror_mode": {
    "name": "ipython",
    "version": 3
   },
   "file_extension": ".py",
   "mimetype": "text/x-python",
   "name": "python",
   "nbconvert_exporter": "python",
   "pygments_lexer": "ipython3",
   "version": "3.6.6"
  }
 },
 "nbformat": 4,
 "nbformat_minor": 4
}
