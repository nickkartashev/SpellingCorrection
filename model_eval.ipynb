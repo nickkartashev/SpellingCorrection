{
 "cells": [
  {
   "cell_type": "code",
   "execution_count": 1,
   "metadata": {},
   "outputs": [],
   "source": [
    "import requests\n",
    "import json\n",
    "\n",
    "import pymongo\n",
    "import numpy as np\n",
    "import matplotlib.pyplot as plt\n",
    "\n",
    "from time import sleep\n",
    "import re\n",
    "import torch\n",
    "import os\n",
    "from scipy.signal import stft\n",
    "import random\n",
    "import numpy as np\n",
    "import math\n",
    "import torch.nn as nn\n",
    "import torch.nn.functional as F\n",
    "import torch.optim as optim\n",
    "import itertools\n",
    "import time\n",
    "import torch.utils.data\n",
    "from torch.nn.utils.rnn import pad_sequence"
   ]
  },
  {
   "cell_type": "code",
   "execution_count": 2,
   "metadata": {},
   "outputs": [
    {
     "name": "stdout",
     "output_type": "stream",
     "text": [
      "1.4.0+cu100\n"
     ]
    }
   ],
   "source": [
    "print(torch.__version__)\n"
   ]
  },
  {
   "cell_type": "code",
   "execution_count": 3,
   "metadata": {},
   "outputs": [],
   "source": [
    "cou = 655058"
   ]
  },
  {
   "cell_type": "code",
   "execution_count": 4,
   "metadata": {},
   "outputs": [],
   "source": [
    "EOS_voc = cou + 1\n",
    "vocab_word_size = cou + 2\n",
    "max_length = 150\n",
    "teacher_forcing_p = 0.8\n",
    "max_words_c = 30\n",
    "max_word_l = 16"
   ]
  },
  {
   "cell_type": "code",
   "execution_count": 5,
   "metadata": {},
   "outputs": [],
   "source": [
    "device = torch.device(\"cuda\" if torch.cuda.is_available() else \"cpu\")\n"
   ]
  },
  {
   "cell_type": "code",
   "execution_count": 6,
   "metadata": {},
   "outputs": [
    {
     "name": "stdout",
     "output_type": "stream",
     "text": [
      "cuda\n"
     ]
    }
   ],
   "source": [
    "print(device)"
   ]
  },
  {
   "cell_type": "code",
   "execution_count": 7,
   "metadata": {},
   "outputs": [
    {
     "name": "stdout",
     "output_type": "stream",
     "text": [
      "A\n"
     ]
    }
   ],
   "source": [
    "print(\"A\")"
   ]
  },
  {
   "cell_type": "code",
   "execution_count": 8,
   "metadata": {},
   "outputs": [],
   "source": [
    "n_epochs = 10\n",
    "vec_size = 512\n",
    "vocab_ngram_size = 35\n",
    "starting_lr = 1e-3"
   ]
  },
  {
   "cell_type": "code",
   "execution_count": 9,
   "metadata": {},
   "outputs": [],
   "source": [
    "class CharGRU(nn.Module):\n",
    "    def __init__(self, hidden_size, char_vocab_size):\n",
    "        super(CharGRU, self).__init__()\n",
    "        self.gru = nn.GRU(char_vocab_size, hidden_size, batch_first=True)\n",
    "        self.mask = torch.ones((1, 1, 35))\n",
    "        self.mask[0][0][0] = 0\n",
    "        self.mask = self.mask.to(device)\n",
    "\n",
    "    def forward(self, X):\n",
    "        x_o = F.one_hot(X, num_classes=35)\n",
    "        x_o = self.mask * x_o\n",
    "        _, finstate = self.gru(x_o)\n",
    "        del _\n",
    "        return finstate"
   ]
  },
  {
   "cell_type": "code",
   "execution_count": 10,
   "metadata": {},
   "outputs": [],
   "source": [
    "class NRNN(nn.Module):\n",
    "    def __init__(self, hidden_size, char_vocab_size, output_size, n_layers=1, dropout_p=0):\n",
    "        super(NRNN, self).__init__()\n",
    "        self.hidden_size = hidden_size\n",
    "        self.chargru = CharGRU(hidden_size, char_vocab_size)\n",
    "        self.lstm = nn.GRU(hidden_size, hidden_size, num_layers=n_layers, batch_first=True, dropout=dropout_p, bidirectional=True)\n",
    "        #self.out = nn.Linear(hidden_size * 2, output_size)\n",
    "        self.out = nn.AdaptiveLogSoftmaxWithLoss(hidden_size * 2, output_size, cutoffs=[3000, 20000, 100000], div_value=4.0)\n",
    "    def forward(self, x, targets, mask):\n",
    "        X = x.view((x.shape[0] * x.shape[1], x.shape[2]))\n",
    "        X = self.chargru(X)\n",
    "        X = X.view(x.shape[:2] + (-1,))\n",
    "        lstm_outputs, _ = self.lstm(X)\n",
    "        lstm_outputs = lstm_outputs.reshape(lstm_outputs.shape[0] * lstm_outputs.shape[1], lstm_outputs.shape[2])\n",
    "        out, _ = self.out(lstm_outputs, targets)\n",
    "        #lstm_outputs = self.out(lstm_outputs)\n",
    "        #lstm_outputs = torch.view(x.shape[:2] + (-1,))\n",
    "        return -torch.sum(out * mask)\n",
    "    def predict(self, x):\n",
    "        X = x.view((x.shape[0] * x.shape[1], x.shape[2]))\n",
    "        X = self.chargru(X)\n",
    "        X = X.view(x.shape[:2] + (-1,))\n",
    "        lstm_outputs, _ = self.lstm(X)\n",
    "        lstm_outputs = lstm_outputs.reshape(lstm_outputs.shape[0] * lstm_outputs.shape[1], lstm_outputs.shape[2])\n",
    "        out = self.out.predict(lstm_outputs)\n",
    "        return out"
   ]
  },
  {
   "cell_type": "code",
   "execution_count": 11,
   "metadata": {},
   "outputs": [],
   "source": [
    "rev_dict = torch.load(\"source_files/rev_dict\")"
   ]
  },
  {
   "cell_type": "code",
   "execution_count": 12,
   "metadata": {},
   "outputs": [
    {
     "data": {
      "text/plain": [
       "1"
      ]
     },
     "execution_count": 12,
     "metadata": {},
     "output_type": "execute_result"
    }
   ],
   "source": [
    "rev_dict[EOS_voc]"
   ]
  },
  {
   "cell_type": "code",
   "execution_count": 13,
   "metadata": {},
   "outputs": [],
   "source": [
    "fileind = 12"
   ]
  },
  {
   "cell_type": "code",
   "execution_count": 14,
   "metadata": {},
   "outputs": [
    {
     "data": {
      "text/plain": [
       "512"
      ]
     },
     "execution_count": 14,
     "metadata": {},
     "output_type": "execute_result"
    }
   ],
   "source": [
    "vec_size"
   ]
  },
  {
   "cell_type": "code",
   "execution_count": 15,
   "metadata": {},
   "outputs": [],
   "source": [
    "w2i_dict = torch.load(\"source_files/word_2_ind_dict\")\n",
    "i2w = dict()\n",
    "for i in w2i_dict.keys():\n",
    "    i2w[w2i_dict[i]] = i"
   ]
  },
  {
   "cell_type": "code",
   "execution_count": 16,
   "metadata": {},
   "outputs": [],
   "source": [
    "rev_rev_dict = dict()\n",
    "for i in rev_dict.keys():\n",
    "    rev_rev_dict[rev_dict[i]] = i"
   ]
  },
  {
   "cell_type": "code",
   "execution_count": 17,
   "metadata": {},
   "outputs": [],
   "source": [
    "for_dict = dict()\n",
    "for i in rev_dict.keys():\n",
    "    if (i != 0):\n",
    "        if (i == 1):\n",
    "            for_dict[i] = 'EOS'\n",
    "        else:\n",
    "            for_dict[i] = i2w[rev_rev_dict[i] - 1]"
   ]
  },
  {
   "cell_type": "code",
   "execution_count": 18,
   "metadata": {},
   "outputs": [],
   "source": [
    "values = dict()"
   ]
  },
  {
   "cell_type": "code",
   "execution_count": 19,
   "metadata": {},
   "outputs": [],
   "source": [
    "for k in for_dict.keys():\n",
    "    word = for_dict[k]\n",
    "    if (len(word) >= 16):\n",
    "        values[k] = torch.tensor([36] * 16, dtype=torch.uint8)\n",
    "        continue\n",
    "    if (word == 'EOS'):\n",
    "        values[k] = torch.tensor([34] * 16, dtype=torch.uint8)\n",
    "    else:\n",
    "        ret = []\n",
    "        for i in range(16 - len(word) - 1):\n",
    "            ret.append(0)\n",
    "        for i in word:\n",
    "            ret.append(ord(i) - ord('а') + 1)\n",
    "        ret.append(33)\n",
    "        values[k] = torch.tensor(ret, dtype=torch.uint8)\n",
    "        del ret"
   ]
  },
  {
   "cell_type": "code",
   "execution_count": 20,
   "metadata": {},
   "outputs": [],
   "source": [
    "def is_equal(word_letters, word_idx):\n",
    "    word = values[word_idx.data.item()]\n",
    "    return torch.all(torch.eq(word, word_letters))"
   ]
  },
  {
   "cell_type": "code",
   "execution_count": 21,
   "metadata": {},
   "outputs": [],
   "source": [
    "sepstat = open(\"eval/total_res\", \"wt\", buffering=1)"
   ]
  },
  {
   "cell_type": "code",
   "execution_count": 22,
   "metadata": {},
   "outputs": [],
   "source": [
    "import datetime\n",
    "def my_eval(a, b, start_a, fin_b, model):\n",
    "    mistakes_dict = [0] * (vocab_word_size + 3)\n",
    "    #loss_f = nn.CrossEntropyLoss(reduction='none').to(device)\n",
    "    print(datetime.datetime.now())\n",
    "\n",
    "    new_batch_size = 64\n",
    "    #sched = optim.lr_scheduler.CosineAnnealingLR(opt, DATA_LENGTH)\n",
    "    tbegin = time.time()\n",
    "    modt = 0\n",
    "    accuracy_b = []\n",
    "    last_train_loss = 0\n",
    "    last_test_loss = 0\n",
    "    batch_n = 0\n",
    "    cou_total = 0\n",
    "    cou_mistakes = 0\n",
    "    cou_first_word_mistakes = 0\n",
    "    correct_sents = 0\n",
    "    total_sents = 0\n",
    "    cou_wrong = 0\n",
    "    cou_changed = 0\n",
    "    cou_tp = 0\n",
    "    for file_idx in range(a, b + 1):\n",
    "        local_batch_n = 0\n",
    "        my_data_from_file = torch.load(f\"source_files/data_1024_ixy_{file_idx}\")\n",
    "        for is_test, x1, y1 in my_data_from_file:\n",
    "            if (file_idx == a and local_batch_n < start_a):\n",
    "                local_batch_n += 1\n",
    "                continue\n",
    "            if (file_idx == b and local_batch_n >= fin_b):\n",
    "                break\n",
    "            local_batch_n += 1\n",
    "            if (is_test == 0):\n",
    "                continue\n",
    "            for batch_ind in range((len(y1) - 1) // new_batch_size + 1):\n",
    "                x = x1[batch_ind * new_batch_size : batch_ind * new_batch_size + new_batch_size]\n",
    "                y = y1[batch_ind * new_batch_size : batch_ind * new_batch_size + new_batch_size]\n",
    "                target = pad_sequence([torch.tensor([rev_dict[i.data.item()] for i in j]) for j in y], batch_first=True)\n",
    "                mask = (target != 0)\n",
    "                batch_n += 1\n",
    "                tt = time.time()\n",
    "                x_inp = pad_sequence(x, batch_first=True).long().to(device)\n",
    "                target_inp = target.view(-1).to(device)\n",
    "                maskinp = mask.view(-1).to(device)\n",
    "                out = model.predict(x_inp)\n",
    "                out_r = out.reshape(target.shape).cpu()\n",
    "                for i in range(len(target)):\n",
    "                    for j in range(len(target[i])):\n",
    "                        if (target[i][j] == 0):\n",
    "                            continue\n",
    "                        if not is_equal(x[i][j], target[i][j]):\n",
    "                            cou_wrong += 1\n",
    "                            if (out_r[i][j] == target[i][j]):\n",
    "                                cou_tp += 1\n",
    "                        if not is_equal(x[i][j], out_r[i][j]):\n",
    "                            cou_changed += 1\n",
    "                del out_r\n",
    "                correct_sents += torch.sum(torch.sum(((target_inp == out).double() * maskinp).reshape(target.shape), dim=1) == torch.sum((maskinp).reshape(target.shape), dim=1))\n",
    "                total_sents += len(y)\n",
    "                cou_mistakes += torch.sum((target_inp == out).double() * maskinp)\n",
    "                cou_total += torch.sum(maskinp)\n",
    "                accuracy = torch.sum((target_inp == out).double() * maskinp) / torch.sum(maskinp)\n",
    "                cou_first_word_mistakes += torch.sum((out.reshape(target.shape)[:, 0] != target_inp.reshape(target.shape)[:, 0]).double())\n",
    "                accuracy_b.append(accuracy.data.item())\n",
    "                del x_inp\n",
    "                del target_inp\n",
    "                del maskinp\n",
    "                modt += time.time() - tt\n",
    "                if (file_idx == 7 and (local_batch_n == 2192 or local_batch_n == 2193)):\n",
    "                    print(f\"Correctly changed: {cou_tp}\\t Wrong words: {cou_wrong}\\t Changes made: {cou_changed}\", file=sepstat)\n",
    "                if (file_idx == 10 and (local_batch_n == 623 or local_batch_n == 624)):\n",
    "                    print(f\"Correctly changed: {cou_tp}\\t Wrong words: {cou_wrong}\\t Changes made: {cou_changed}\", file=sepstat)\n",
    "                if (file_idx == 11 and (local_batch_n == 2192 or local_batch_n == 2193)):\n",
    "                    print(f\"Correctly changed: {cou_tp}\\t Wrong words: {cou_wrong}\\t Changes made: {cou_changed}\", file=sepstat)\n",
    "                if (batch_n % (100 * 2048 // new_batch_size) == 0):\n",
    "                    print('Batch: [{}]\\t Accuracy: {}, Time: {}, Model Time: {}'.format(batch_n, np.array(accuracy_b[-(100 * 2048 // new_batch_size):]).mean(), time.time() - tbegin, modt))\n",
    "        del my_data_from_file\n",
    "    return accuracy_b, cou_mistakes, cou_total, correct_sents, total_sents, cou_tp, cou_wrong, cou_changed, mistakes_dict"
   ]
  },
  {
   "cell_type": "code",
   "execution_count": 23,
   "metadata": {
    "scrolled": true
   },
   "outputs": [
    {
     "name": "stdout",
     "output_type": "stream",
     "text": [
      "2020-06-12 15:30:53.973239\n",
      "Batch: [3200]\t Accuracy: 0.9022107862815915, Time: 370.2608685493469, Model Time: 187.83137226104736\n",
      "Batch: [6400]\t Accuracy: 0.9014448788757692, Time: 566.047878742218, Model Time: 374.8845462799072\n",
      "Batch: [9600]\t Accuracy: 0.8968113603522255, Time: 938.8767771720886, Model Time: 563.5634608268738\n",
      "Batch: [12800]\t Accuracy: 0.9041615638012054, Time: 1130.9335787296295, Model Time: 746.991176366806\n",
      "Batch: [16000]\t Accuracy: 0.9039532976196075, Time: 1499.288335800171, Model Time: 932.2760238647461\n",
      "Batch: [19200]\t Accuracy: 0.9002356766262455, Time: 1695.0901985168457, Model Time: 1118.916543006897\n",
      "Batch: [22400]\t Accuracy: 0.9024319838842598, Time: 1892.052134513855, Model Time: 1306.5607402324677\n",
      "Batch: [25600]\t Accuracy: 0.902787442182347, Time: 2267.184116125107, Model Time: 1490.0874531269073\n",
      "Batch: [28800]\t Accuracy: 0.900358073997726, Time: 2463.247430086136, Model Time: 1676.9428856372833\n",
      "Batch: [32000]\t Accuracy: 0.901664555788397, Time: 2835.2864985466003, Model Time: 1862.3717608451843\n",
      "Batch: [35200]\t Accuracy: 0.9024674275047992, Time: 3029.8994693756104, Model Time: 2047.8512494564056\n",
      "Batch: [38400]\t Accuracy: 0.9038126149159976, Time: 3225.9370646476746, Model Time: 2234.6348979473114\n",
      "Batch: [41600]\t Accuracy: 0.8964959868227447, Time: 3600.669715642929, Model Time: 2421.0295577049255\n",
      "Batch: [44800]\t Accuracy: 0.8982458166988218, Time: 3798.374444246292, Model Time: 2609.4907264709473\n",
      "Batch: [48000]\t Accuracy: 0.8990505985133902, Time: 4176.132358074188, Model Time: 2795.030928373337\n",
      "Batch: [51200]\t Accuracy: 0.899579381308573, Time: 4371.569855451584, Model Time: 2981.292392015457\n",
      "Batch: [54400]\t Accuracy: 0.9057216543794573, Time: 4566.844743013382, Model Time: 3167.308084487915\n",
      "Batch: [57600]\t Accuracy: 0.9048549883243534, Time: 4936.267448186874, Model Time: 3350.4384019374847\n",
      "Batch: [60800]\t Accuracy: 0.9022562456238447, Time: 5132.558567285538, Model Time: 3537.5470671653748\n",
      "Batch: [64000]\t Accuracy: 0.8884017856922309, Time: 5516.952786684036, Model Time: 3731.966407775879\n",
      "Batch: [67200]\t Accuracy: 0.8848267902237563, Time: 5724.561055660248, Model Time: 3930.278158187866\n",
      "Batch: [70400]\t Accuracy: 0.8931811967717593, Time: 6098.1831612586975, Model Time: 4118.463733911514\n",
      "Batch: [73600]\t Accuracy: 0.8896629676216543, Time: 6299.569162607193, Model Time: 4310.806584119797\n",
      "Batch: [76800]\t Accuracy: 0.8877914477828999, Time: 6501.308865785599, Model Time: 4503.48410487175\n",
      "Batch: [80000]\t Accuracy: 0.8913258693962072, Time: 6882.511236190796, Model Time: 4694.085253953934\n",
      "Batch: [83200]\t Accuracy: 0.9163064588178952, Time: 7096.535605430603, Model Time: 4898.589369058609\n",
      "Batch: [86400]\t Accuracy: 0.9152349004477298, Time: 7478.481028318405, Model Time: 5108.105340957642\n",
      "Batch: [89600]\t Accuracy: 0.9201190920482941, Time: 7694.862134218216, Model Time: 5314.908596038818\n",
      "Batch: [92800]\t Accuracy: 0.9190476561632522, Time: 7911.403064489365, Model Time: 5521.864807844162\n"
     ]
    },
    {
     "ename": "NameError",
     "evalue": "name 'cou_wrong_rel' is not defined",
     "output_type": "error",
     "traceback": [
      "\u001b[0;31m---------------------------------------------------------------------------\u001b[0m",
      "\u001b[0;31mNameError\u001b[0m                                 Traceback (most recent call last)",
      "\u001b[0;32m<ipython-input-23-9173e39c8887>\u001b[0m in \u001b[0;36m<module>\u001b[0;34m\u001b[0m\n\u001b[1;32m      2\u001b[0m \u001b[0maccuracy_b_tot\u001b[0m\u001b[0;34m,\u001b[0m \u001b[0mcou_mistakes_tot\u001b[0m\u001b[0;34m,\u001b[0m \u001b[0mcou_total_tot\u001b[0m\u001b[0;34m,\u001b[0m \u001b[0mcorrect_sents_tot\u001b[0m\u001b[0;34m,\u001b[0m \u001b[0mtotal_sents_tot\u001b[0m\u001b[0;34m,\u001b[0m \u001b[0mcou_tp_tot\u001b[0m\u001b[0;34m,\u001b[0m \u001b[0mcou_wrong_tot\u001b[0m\u001b[0;34m,\u001b[0m \u001b[0mcou_changed_tot\u001b[0m\u001b[0;34m,\u001b[0m \u001b[0mmistakes_dict_tot\u001b[0m \u001b[0;34m=\u001b[0m \u001b[0mmy_eval\u001b[0m\u001b[0;34m(\u001b[0m\u001b[0;36m0\u001b[0m\u001b[0;34m,\u001b[0m \u001b[0;36m11\u001b[0m\u001b[0;34m,\u001b[0m \u001b[0;36m0\u001b[0m\u001b[0;34m,\u001b[0m \u001b[0;36m10\u001b[0m\u001b[0;34m**\u001b[0m\u001b[0;36m10\u001b[0m\u001b[0;34m,\u001b[0m \u001b[0mmodel\u001b[0m\u001b[0;34m)\u001b[0m\u001b[0;34m\u001b[0m\u001b[0m\n\u001b[1;32m      3\u001b[0m \u001b[0;32mdel\u001b[0m \u001b[0mmodel\u001b[0m\u001b[0;34m\u001b[0m\u001b[0m\n\u001b[0;32m----> 4\u001b[0;31m \u001b[0mtorch\u001b[0m\u001b[0;34m.\u001b[0m\u001b[0msave\u001b[0m\u001b[0;34m(\u001b[0m\u001b[0mlist\u001b[0m\u001b[0;34m(\u001b[0m\u001b[0;34m(\u001b[0m\u001b[0maccuracy_b_tot\u001b[0m\u001b[0;34m,\u001b[0m \u001b[0mcou_mistakes_tot\u001b[0m\u001b[0;34m,\u001b[0m \u001b[0mcou_total_tot\u001b[0m\u001b[0;34m,\u001b[0m \u001b[0mcorrect_sents_tot\u001b[0m\u001b[0;34m,\u001b[0m \u001b[0mtotal_sents_tot\u001b[0m\u001b[0;34m,\u001b[0m \u001b[0mcou_tp_tot\u001b[0m\u001b[0;34m,\u001b[0m \u001b[0mcou_wrong_rel\u001b[0m\u001b[0;34m,\u001b[0m \u001b[0mcou_changed_tot\u001b[0m\u001b[0;34m,\u001b[0m \u001b[0mmistakes_dict_tot\u001b[0m\u001b[0;34m)\u001b[0m\u001b[0;34m)\u001b[0m\u001b[0;34m,\u001b[0m \u001b[0;34m\"eval/total_eval\"\u001b[0m\u001b[0;34m)\u001b[0m\u001b[0;34m\u001b[0m\u001b[0m\n\u001b[0m\u001b[1;32m      5\u001b[0m \u001b[0mprint\u001b[0m\u001b[0;34m(\u001b[0m\u001b[0mcou_tp_tot\u001b[0m \u001b[0;34m/\u001b[0m \u001b[0mcou_changed_tot\u001b[0m\u001b[0;34m,\u001b[0m \u001b[0mcou_tp_tot\u001b[0m \u001b[0;34m/\u001b[0m \u001b[0mcou_wrong_tot\u001b[0m\u001b[0;34m)\u001b[0m\u001b[0;34m\u001b[0m\u001b[0m\n",
      "\u001b[0;31mNameError\u001b[0m: name 'cou_wrong_rel' is not defined"
     ]
    }
   ],
   "source": [
    "model = torch.load(\"512ASmodel1layergru_epoch_4.pt\")\n",
    "accuracy_b_tot, cou_mistakes_tot, cou_total_tot, correct_sents_tot, total_sents_tot, cou_tp_tot, cou_wrong_tot, cou_changed_tot, mistakes_dict_tot = my_eval(0, 11, 0, 10**10, model)\n",
    "del model\n",
    "torch.save(list((accuracy_b_tot, cou_mistakes_tot, cou_total_tot, correct_sents_tot, total_sents_tot, cou_tp_tot, cou_wrong_tot, cou_changed_tot, mistakes_dict_tot)), \"eval/total_eval\")\n",
    "print(cou_tp_tot / cou_changed_tot, cou_tp_tot / cou_wrong_tot)"
   ]
  },
  {
   "cell_type": "code",
   "execution_count": 24,
   "metadata": {},
   "outputs": [
    {
     "name": "stdout",
     "output_type": "stream",
     "text": [
      "0.7047021385357675 0.8037172008588439\n"
     ]
    }
   ],
   "source": [
    "torch.save(list((accuracy_b_tot, cou_mistakes_tot, cou_total_tot, correct_sents_tot, total_sents_tot, cou_tp_tot, cou_wrong_tot, cou_changed_tot, mistakes_dict_tot)), \"eval/total_eval\")\n",
    "print(cou_tp_tot / cou_changed_tot, cou_tp_tot / cou_wrong_tot)"
   ]
  },
  {
   "cell_type": "code",
   "execution_count": 27,
   "metadata": {},
   "outputs": [
    {
     "data": {
      "text/plain": [
       "0.47412573309008343"
      ]
     },
     "execution_count": 27,
     "metadata": {},
     "output_type": "execute_result"
    }
   ],
   "source": [
    "correct_sents_tot.data.item() / total_sents_tot"
   ]
  },
  {
   "cell_type": "code",
   "execution_count": 35,
   "metadata": {},
   "outputs": [
    {
     "data": {
      "text/plain": [
       "tensor(53984125, device='cuda:0')"
      ]
     },
     "execution_count": 35,
     "metadata": {},
     "output_type": "execute_result"
    }
   ],
   "source": [
    "cou_total_tot"
   ]
  },
  {
   "cell_type": "code",
   "execution_count": 25,
   "metadata": {},
   "outputs": [],
   "source": [
    "sepstat.close()"
   ]
  },
  {
   "cell_type": "code",
   "execution_count": null,
   "metadata": {},
   "outputs": [],
   "source": []
  },
  {
   "cell_type": "code",
   "execution_count": null,
   "metadata": {},
   "outputs": [
    {
     "name": "stdout",
     "output_type": "stream",
     "text": [
      "2020-06-12 01:32:20.334839\n",
      "Batch: [3200]\t Accuracy: 0.9413438912941423, Time: 363.0086407661438, Model Time: 185.7116630077362\n",
      "Batch: [6400]\t Accuracy: 0.9425411834229703, Time: 557.0231454372406, Model Time: 370.81741404533386\n",
      "Batch: [9600]\t Accuracy: 0.9375570111062979, Time: 927.7576763629913, Model Time: 557.0673182010651\n",
      "Batch: [12800]\t Accuracy: 0.9429768098890048, Time: 1118.0867674350739, Model Time: 738.1487064361572\n",
      "Batch: [16000]\t Accuracy: 0.9411737365731918, Time: 1492.68527841568, Model Time: 920.7872598171234\n",
      "Batch: [19200]\t Accuracy: 0.9418739215598052, Time: 1687.275090932846, Model Time: 1105.9747858047485\n",
      "Batch: [22400]\t Accuracy: 0.9447430143726571, Time: 1883.188233613968, Model Time: 1292.3244285583496\n",
      "Batch: [25600]\t Accuracy: 0.9414333177109628, Time: 2253.750529527664, Model Time: 1473.9606223106384\n",
      "Batch: [28800]\t Accuracy: 0.9419256105307656, Time: 2446.8339760303497, Model Time: 1657.7344551086426\n",
      "Batch: [32000]\t Accuracy: 0.9412679948377288, Time: 2816.1278581619263, Model Time: 1839.9473910331726\n",
      "Batch: [35200]\t Accuracy: 0.9420985466379933, Time: 3008.582305908203, Model Time: 2023.1178832054138\n",
      "Batch: [38400]\t Accuracy: 0.9448799622874026, Time: 3202.3667147159576, Model Time: 2207.492151737213\n",
      "Batch: [41600]\t Accuracy: 0.9397779860335015, Time: 3570.82643699646, Model Time: 2391.674563407898\n"
     ]
    }
   ],
   "source": [
    "model = torch.load(\"Religionv1_512ASmodel1layergru_epoch_12.pt\")\n",
    "accuracy_b_rel, cou_mistakes_rel, cou_total_rel, correct_sents_rel, total_sents_rel, cou_tp_rel, cou_wrong_rel, cou_changed_rel, mistakes_dict_rel = my_eval(0, 7, 0, 2193, model)\n",
    "del model\n",
    "torch.save(list((accuracy_b_rel, cou_mistakes_rel, cou_total_rel, correct_sents_rel, total_sents_rel, cou_tp_rel, cou_wrong_rel, cou_changed_rel, mistakes_dict_rel)), \"eval/religion_eval\")\n",
    "print(datetime.datetime.now())\n",
    "print(cou_tp_rel / cou_changed_rel, cou_tp_rel / cou_wrong_rel)"
   ]
  },
  {
   "cell_type": "code",
   "execution_count": 29,
   "metadata": {},
   "outputs": [],
   "source": [
    "accuracy_b_rel, cou_mistakes_rel, cou_total_rel, correct_sents_rel, total_sents_rel, cou_tp_rel, cou_wrong_rel, cou_changed_rel, mistakes_dict_rel = torch.load(\"eval/religion_eval\")"
   ]
  },
  {
   "cell_type": "code",
   "execution_count": 30,
   "metadata": {},
   "outputs": [
    {
     "data": {
      "text/plain": [
       "0.6323418950260264"
      ]
     },
     "execution_count": 30,
     "metadata": {},
     "output_type": "execute_result"
    }
   ],
   "source": [
    "correct_sents_rel.data.item() / total_sents_rel"
   ]
  },
  {
   "cell_type": "code",
   "execution_count": 24,
   "metadata": {},
   "outputs": [
    {
     "name": "stdout",
     "output_type": "stream",
     "text": [
      "2020-06-12 01:07:33.386500\n",
      "Batch: [3200]\t Accuracy: 0.9448392881168977, Time: 370.2704758644104, Model Time: 202.4089126586914\n",
      "Batch: [6400]\t Accuracy: 0.9419721980810164, Time: 749.1915810108185, Model Time: 409.78500413894653\n",
      "Batch: [9600]\t Accuracy: 0.9460966326835014, Time: 963.1221034526825, Model Time: 613.9687979221344\n",
      "Batch: [12800]\t Accuracy: 0.9459092405029749, Time: 1175.8737406730652, Model Time: 817.0364170074463\n",
      "2020-06-12 01:27:22.697024\n",
      "0.8276299226636644 0.8579431029426141\n"
     ]
    }
   ],
   "source": [
    "model = torch.load(\"Oppositionv7_512ASmodel1layergru_epoch_20.pt\")\n",
    "accuracy_b_opp, cou_mistakes_opp, cou_total_opp, correct_sents_opp, total_sents_opp, cou_tp_opp, cou_wrong_opp, cou_changed_opp, mistakes_dict_opp = my_eval(10, 11, 625, 10**10, model)\n",
    "del model\n",
    "torch.save(list((accuracy_b_opp, cou_mistakes_opp, cou_total_opp, correct_sents_opp, total_sents_opp, cou_tp_opp, cou_wrong_opp, cou_changed_opp, mistakes_dict_opp)), \"eval/opposition_eval\")\n",
    "print(datetime.datetime.now())\n",
    "print(cou_tp_opp / cou_changed_opp, cou_tp_opp / cou_wrong_opp)"
   ]
  },
  {
   "cell_type": "code",
   "execution_count": 31,
   "metadata": {},
   "outputs": [],
   "source": [
    "accuracy_b_opp, cou_mistakes_opp, cou_total_opp, correct_sents_opp, total_sents_opp, cou_tp_opp, cou_wrong_opp, cou_changed_opp, mistakes_dict_opp = torch.load(\"eval/opposition_eval\")\n"
   ]
  },
  {
   "cell_type": "code",
   "execution_count": 32,
   "metadata": {},
   "outputs": [
    {
     "data": {
      "text/plain": [
       "0.6229582378443079"
      ]
     },
     "execution_count": 32,
     "metadata": {},
     "output_type": "execute_result"
    }
   ],
   "source": [
    "correct_sents_opp.data.item() / total_sents_opp"
   ]
  },
  {
   "cell_type": "code",
   "execution_count": 22,
   "metadata": {},
   "outputs": [
    {
     "name": "stdout",
     "output_type": "stream",
     "text": [
      "2020-06-12 00:14:44.984435\n",
      "Batch: [3200]\t Accuracy: 0.9575756283533662, Time: 543.8192458152771, Model Time: 194.53423690795898\n",
      "Batch: [9600]\t Accuracy: 0.9582558602423512, Time: 1113.2708921432495, Model Time: 572.6590132713318\n",
      "Batch: [12800]\t Accuracy: 0.957376736671165, Time: 1312.9485864639282, Model Time: 763.1530973911285\n",
      "Batch: [16000]\t Accuracy: 0.9572736242578489, Time: 1511.521559715271, Model Time: 952.5858352184296\n",
      "2020-06-12 00:45:34.706963\n",
      "0.872862776806757 0.874670432467439\n"
     ]
    }
   ],
   "source": [
    "model = torch.load(\"Gardening_512ASmodel1layergru_epoch_18.pt\")\n",
    "accuracy_b_gar, cou_mistakes_gar, cou_total_gar, correct_sents_gar, total_sents_gar, cou_tp_gar, cou_wrong_gar, cou_changed_gar, mistakes_dict_gar = my_eval(7, 10, 2193, 625, model)\n",
    "del model\n",
    "torch.save(list((accuracy_b_gar, cou_mistakes_gar, cou_total_gar, correct_sents_gar, total_sents_gar, cou_tp_gar, cou_wrong_gar, cou_changed_gar, mistakes_dict_gar)), \"eval/gardening_eval\")\n",
    "print(datetime.datetime.now())\n",
    "print(cou_tp_gar / cou_changed_gar, cou_tp_gar / cou_wrong_gar)"
   ]
  },
  {
   "cell_type": "code",
   "execution_count": 33,
   "metadata": {},
   "outputs": [],
   "source": [
    "accuracy_b_gar, cou_mistakes_gar, cou_total_gar, correct_sents_gar, total_sents_gar, cou_tp_gar, cou_wrong_gar, cou_changed_gar, mistakes_dict_gar = torch.load(\"eval/gardening_eval\")"
   ]
  },
  {
   "cell_type": "code",
   "execution_count": 34,
   "metadata": {},
   "outputs": [
    {
     "data": {
      "text/plain": [
       "0.7227073328544886"
      ]
     },
     "execution_count": 34,
     "metadata": {},
     "output_type": "execute_result"
    }
   ],
   "source": [
    "correct_sents_gar.data.item() / total_sents_gar"
   ]
  },
  {
   "cell_type": "code",
   "execution_count": 40,
   "metadata": {},
   "outputs": [],
   "source": [
    "import pandas as pd"
   ]
  },
  {
   "cell_type": "code",
   "execution_count": 41,
   "metadata": {},
   "outputs": [],
   "source": [
    "from scipy.ndimage.filters import gaussian_filter1d"
   ]
  },
  {
   "cell_type": "code",
   "execution_count": 42,
   "metadata": {},
   "outputs": [
    {
     "data": {
      "text/plain": [
       "<matplotlib.axes._subplots.AxesSubplot at 0x7fd9c09b5668>"
      ]
     },
     "execution_count": 42,
     "metadata": {},
     "output_type": "execute_result"
    },
    {
     "data": {
      "image/png": "[encoded data removed]",
      "text/plain": [
       "<Figure size 432x288 with 1 Axes>"
      ]
     },
     "metadata": {
      "needs_background": "light"
     },
     "output_type": "display_data"
    }
   ],
   "source": [
    "pd.DataFrame(gaussian_filter1d(np.array(accuracy_b_rel), sigma=50), columns=['accuracy']).plot(y='accuracy', kind='line')"
   ]
  },
  {
   "cell_type": "code",
   "execution_count": 43,
   "metadata": {},
   "outputs": [
    {
     "data": {
      "text/plain": [
       "<matplotlib.axes._subplots.AxesSubplot at 0x7fd9c08b6eb8>"
      ]
     },
     "execution_count": 43,
     "metadata": {},
     "output_type": "execute_result"
    },
    {
     "data": {
      "image/png": "[encoded data removed]",
      "text/plain": [
       "<Figure size 432x288 with 1 Axes>"
      ]
     },
     "metadata": {
      "needs_background": "light"
     },
     "output_type": "display_data"
    }
   ],
   "source": [
    "pd.DataFrame(gaussian_filter1d(np.array(accuracy_b_opp), sigma=50), columns=['accuracy']).plot(y='accuracy', kind='line')"
   ]
  },
  {
   "cell_type": "code",
   "execution_count": 44,
   "metadata": {},
   "outputs": [
    {
     "data": {
      "text/plain": [
       "<matplotlib.axes._subplots.AxesSubplot at 0x7fd9c5b17dd8>"
      ]
     },
     "execution_count": 44,
     "metadata": {},
     "output_type": "execute_result"
    },
    {
     "data": {
      "image/png": "[encoded data removed]",
      "text/plain": [
       "<Figure size 432x288 with 1 Axes>"
      ]
     },
     "metadata": {
      "needs_background": "light"
     },
     "output_type": "display_data"
    }
   ],
   "source": [
    "pd.DataFrame(gaussian_filter1d(np.array(accuracy_b_gar), sigma=50), columns=['accuracy']).plot(y='accuracy', kind='line')"
   ]
  },
  {
   "cell_type": "code",
   "execution_count": 53,
   "metadata": {},
   "outputs": [
    {
     "data": {
      "text/plain": [
       "<matplotlib.axes._subplots.AxesSubplot at 0x7fd9f6d2ea58>"
      ]
     },
     "execution_count": 53,
     "metadata": {},
     "output_type": "execute_result"
    },
    {
     "data": {
      "image/png": "[encoded data removed]",
      "text/plain": [
       "<Figure size 432x288 with 1 Axes>"
      ]
     },
     "metadata": {
      "needs_background": "light"
     },
     "output_type": "display_data"
    }
   ],
   "source": [
    "ax = pd.DataFrame(gaussian_filter1d(np.array(accuracy_b_tot), sigma=50), columns=['accuracy_before']).plot(y='accuracy_before', kind='line')\n",
    "pd.DataFrame(gaussian_filter1d(np.array(accuracy_b_rel + accuracy_b_gar + accuracy_b_opp), sigma=50), columns=['accuracy_after']).plot(y='accuracy_after', kind='line', ax=ax)"
   ]
  },
  {
   "cell_type": "code",
   "execution_count": 55,
   "metadata": {},
   "outputs": [
    {
     "data": {
      "text/plain": [
       "0.9419921533799485"
      ]
     },
     "execution_count": 55,
     "metadata": {},
     "output_type": "execute_result"
    }
   ],
   "source": [
    "np.array(accuracy_b_rel).mean()"
   ]
  },
  {
   "cell_type": "code",
   "execution_count": 56,
   "metadata": {},
   "outputs": [
    {
     "data": {
      "text/plain": [
       "0.9576193800351875"
      ]
     },
     "execution_count": 56,
     "metadata": {},
     "output_type": "execute_result"
    }
   ],
   "source": [
    "np.array(accuracy_b_gar).mean()"
   ]
  },
  {
   "cell_type": "code",
   "execution_count": 57,
   "metadata": {},
   "outputs": [
    {
     "data": {
      "text/plain": [
       "0.9447112131086636"
      ]
     },
     "execution_count": 57,
     "metadata": {},
     "output_type": "execute_result"
    }
   ],
   "source": [
    "np.array(accuracy_b_opp).mean()"
   ]
  },
  {
   "cell_type": "code",
   "execution_count": 58,
   "metadata": {},
   "outputs": [
    {
     "data": {
      "text/plain": [
       "0.9012287135953333"
      ]
     },
     "execution_count": 58,
     "metadata": {},
     "output_type": "execute_result"
    }
   ],
   "source": [
    "np.array(accuracy_b_tot).mean()"
   ]
  },
  {
   "cell_type": "code",
   "execution_count": 59,
   "metadata": {},
   "outputs": [
    {
     "name": "stdout",
     "output_type": "stream",
     "text": [
      "0.7047021385357675 0.8037172008588439\n"
     ]
    }
   ],
   "source": [
    "print(cou_tp_tot / cou_changed_tot, cou_tp_tot / cou_wrong_tot)"
   ]
  },
  {
   "cell_type": "code",
   "execution_count": 66,
   "metadata": {},
   "outputs": [
    {
     "data": {
      "text/plain": [
       "0.8739988558352403"
      ]
     },
     "execution_count": 66,
     "metadata": {},
     "output_type": "execute_result"
    }
   ],
   "source": [
    "2/(1/0.875 + 1/0.873)"
   ]
  },
  {
   "cell_type": "code",
   "execution_count": 61,
   "metadata": {},
   "outputs": [
    {
     "name": "stdout",
     "output_type": "stream",
     "text": [
      "0.827479284482149 0.844045555199937\n"
     ]
    }
   ],
   "source": [
    "print(cou_tp_rel / cou_changed_rel, cou_tp_rel / cou_wrong_rel)"
   ]
  },
  {
   "cell_type": "code",
   "execution_count": 63,
   "metadata": {},
   "outputs": [
    {
     "name": "stdout",
     "output_type": "stream",
     "text": [
      "0.8579431029426141 0.8276299226636644\n"
     ]
    }
   ],
   "source": [
    "print(cou_tp_opp / cou_wrong_opp, cou_tp_opp / cou_changed_opp)"
   ]
  },
  {
   "cell_type": "code",
   "execution_count": 65,
   "metadata": {},
   "outputs": [
    {
     "name": "stdout",
     "output_type": "stream",
     "text": [
      "0.874670432467439 0.872862776806757\n"
     ]
    }
   ],
   "source": [
    "print(cou_tp_gar / cou_wrong_gar, cou_tp_gar / cou_changed_gar)"
   ]
  },
  {
   "cell_type": "code",
   "execution_count": null,
   "metadata": {},
   "outputs": [],
   "source": []
  }
 ],
 "metadata": {
  "kernelspec": {
   "display_name": "Python 3",
   "language": "python",
   "name": "python3"
  },
  "language_info": {
   "codemirror_mode": {
    "name": "ipython",
    "version": 3
   },
   "file_extension": ".py",
   "mimetype": "text/x-python",
   "name": "python",
   "nbconvert_exporter": "python",
   "pygments_lexer": "ipython3",
   "version": "3.6.6"
  }
 },
 "nbformat": 4,
 "nbformat_minor": 4
}
